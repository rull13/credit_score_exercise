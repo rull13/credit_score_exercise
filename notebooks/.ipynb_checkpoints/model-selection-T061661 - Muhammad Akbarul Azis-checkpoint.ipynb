{
 "cells": [
  {
   "cell_type": "markdown",
   "metadata": {},
   "source": [
    "# Model Selection & Evaluation"
   ]
  },
  {
   "cell_type": "markdown",
   "metadata": {
    "execution": {
     "iopub.execute_input": "2021-09-10T01:48:44.437315Z",
     "iopub.status.busy": "2021-09-10T01:48:44.436965Z",
     "iopub.status.idle": "2021-09-10T01:48:44.446349Z",
     "shell.execute_reply": "2021-09-10T01:48:44.444196Z",
     "shell.execute_reply.started": "2021-09-10T01:48:44.437207Z"
    }
   },
   "source": [
    "## Muhammad Akbarul Azis - T061661"
   ]
  },
  {
   "cell_type": "markdown",
   "metadata": {},
   "source": [
    "# Import Package"
   ]
  },
  {
   "cell_type": "code",
   "execution_count": null,
   "metadata": {
    "tags": []
   },
   "outputs": [],
   "source": [
    "import sys\n",
    "sys.version"
   ]
  },
  {
   "cell_type": "code",
   "execution_count": 2,
   "metadata": {
    "execution": {
     "iopub.status.idle": "2021-09-20T02:48:40.766361Z",
     "shell.execute_reply": "2021-09-20T02:48:40.765104Z",
     "shell.execute_reply.started": "2021-09-20T02:48:38.128932Z"
    },
    "tags": []
   },
   "outputs": [],
   "source": [
    "import numpy as np\n",
    "import pandas as pd\n",
    "import matplotlib.pyplot as plt\n",
    "from math import log, ceil \n",
    "import seaborn as sns\n",
    "\n",
    "from sklearn.model_selection import train_test_split, GridSearchCV\n",
    "from sklearn.linear_model import LogisticRegression\n",
    "from sklearn.ensemble import RandomForestClassifier\n",
    "from sklearn.feature_selection import SelectFromModel\n",
    "from xgboost import XGBClassifier\n"
   ]
  },
  {
   "cell_type": "code",
   "execution_count": 3,
   "metadata": {
    "execution": {
     "iopub.execute_input": "2021-09-20T02:48:40.768121Z",
     "iopub.status.busy": "2021-09-20T02:48:40.767809Z",
     "iopub.status.idle": "2021-09-20T02:48:40.786036Z",
     "shell.execute_reply": "2021-09-20T02:48:40.783641Z",
     "shell.execute_reply.started": "2021-09-20T02:48:40.768088Z"
    }
   },
   "outputs": [],
   "source": [
    "\n",
    "import warnings\n",
    "warnings.filterwarnings('ignore')"
   ]
  },
  {
   "cell_type": "code",
   "execution_count": 4,
   "metadata": {
    "execution": {
     "iopub.execute_input": "2021-09-20T02:48:40.788202Z",
     "iopub.status.busy": "2021-09-20T02:48:40.787256Z",
     "iopub.status.idle": "2021-09-20T02:48:40.801793Z",
     "shell.execute_reply": "2021-09-20T02:48:40.800939Z",
     "shell.execute_reply.started": "2021-09-20T02:48:40.788161Z"
    }
   },
   "outputs": [],
   "source": [
    "%config Completer.use_jedi = False"
   ]
  },
  {
   "cell_type": "code",
   "execution_count": 5,
   "metadata": {
    "execution": {
     "iopub.execute_input": "2021-09-20T02:48:40.805888Z",
     "iopub.status.busy": "2021-09-20T02:48:40.805663Z",
     "iopub.status.idle": "2021-09-20T02:48:40.810050Z",
     "shell.execute_reply": "2021-09-20T02:48:40.809239Z",
     "shell.execute_reply.started": "2021-09-20T02:48:40.805866Z"
    }
   },
   "outputs": [],
   "source": [
    "pd.set_option('display.max_columns', None)\n",
    "pd.set_option('display.max_rows', None)"
   ]
  },
  {
   "cell_type": "markdown",
   "metadata": {},
   "source": [
    "# Import Data"
   ]
  },
  {
   "cell_type": "markdown",
   "metadata": {},
   "source": [
    "## Load CSV"
   ]
  },
  {
   "cell_type": "code",
   "execution_count": 6,
   "metadata": {
    "execution": {
     "iopub.execute_input": "2021-09-20T02:48:40.816141Z",
     "iopub.status.busy": "2021-09-20T02:48:40.815596Z",
     "iopub.status.idle": "2021-09-20T02:48:40.870588Z",
     "shell.execute_reply": "2021-09-20T02:48:40.869384Z",
     "shell.execute_reply.started": "2021-09-20T02:48:40.816108Z"
    }
   },
   "outputs": [],
   "source": [
    "data = pd.read_csv('credit_risk_dataset.csv')"
   ]
  },
  {
   "cell_type": "code",
   "execution_count": 7,
   "metadata": {
    "execution": {
     "iopub.execute_input": "2021-09-20T02:48:40.872817Z",
     "iopub.status.busy": "2021-09-20T02:48:40.872238Z",
     "iopub.status.idle": "2021-09-20T02:48:40.881566Z",
     "shell.execute_reply": "2021-09-20T02:48:40.880265Z",
     "shell.execute_reply.started": "2021-09-20T02:48:40.872776Z"
    }
   },
   "outputs": [
    {
     "name": "stdout",
     "output_type": "stream",
     "text": [
      "Number of rows: 32581\n",
      "Number of columns: 12\n"
     ]
    }
   ],
   "source": [
    "print('Number of rows:',data.shape[0])\n",
    "print('Number of columns:',data.shape[1])"
   ]
  },
  {
   "cell_type": "code",
   "execution_count": 8,
   "metadata": {
    "execution": {
     "iopub.execute_input": "2021-09-20T02:48:40.883712Z",
     "iopub.status.busy": "2021-09-20T02:48:40.883058Z",
     "iopub.status.idle": "2021-09-20T02:48:40.902298Z",
     "shell.execute_reply": "2021-09-20T02:48:40.901712Z",
     "shell.execute_reply.started": "2021-09-20T02:48:40.883685Z"
    }
   },
   "outputs": [
    {
     "data": {
      "text/html": [
       "<div>\n",
       "<style scoped>\n",
       "    .dataframe tbody tr th:only-of-type {\n",
       "        vertical-align: middle;\n",
       "    }\n",
       "\n",
       "    .dataframe tbody tr th {\n",
       "        vertical-align: top;\n",
       "    }\n",
       "\n",
       "    .dataframe thead th {\n",
       "        text-align: right;\n",
       "    }\n",
       "</style>\n",
       "<table border=\"1\" class=\"dataframe\">\n",
       "  <thead>\n",
       "    <tr style=\"text-align: right;\">\n",
       "      <th></th>\n",
       "      <th>person_age</th>\n",
       "      <th>person_income</th>\n",
       "      <th>person_home_ownership</th>\n",
       "      <th>person_emp_length</th>\n",
       "      <th>loan_intent</th>\n",
       "      <th>loan_grade</th>\n",
       "      <th>loan_amnt</th>\n",
       "      <th>loan_int_rate</th>\n",
       "      <th>loan_status</th>\n",
       "      <th>loan_percent_income</th>\n",
       "      <th>cb_person_default_on_file</th>\n",
       "      <th>cb_person_cred_hist_length</th>\n",
       "    </tr>\n",
       "  </thead>\n",
       "  <tbody>\n",
       "    <tr>\n",
       "      <th>0</th>\n",
       "      <td>22</td>\n",
       "      <td>59000</td>\n",
       "      <td>RENT</td>\n",
       "      <td>123.0</td>\n",
       "      <td>PERSONAL</td>\n",
       "      <td>D</td>\n",
       "      <td>35000</td>\n",
       "      <td>16.02</td>\n",
       "      <td>1</td>\n",
       "      <td>0.59</td>\n",
       "      <td>Y</td>\n",
       "      <td>3</td>\n",
       "    </tr>\n",
       "    <tr>\n",
       "      <th>1</th>\n",
       "      <td>21</td>\n",
       "      <td>9600</td>\n",
       "      <td>OWN</td>\n",
       "      <td>5.0</td>\n",
       "      <td>EDUCATION</td>\n",
       "      <td>B</td>\n",
       "      <td>1000</td>\n",
       "      <td>11.14</td>\n",
       "      <td>0</td>\n",
       "      <td>0.10</td>\n",
       "      <td>N</td>\n",
       "      <td>2</td>\n",
       "    </tr>\n",
       "    <tr>\n",
       "      <th>2</th>\n",
       "      <td>25</td>\n",
       "      <td>9600</td>\n",
       "      <td>MORTGAGE</td>\n",
       "      <td>1.0</td>\n",
       "      <td>MEDICAL</td>\n",
       "      <td>C</td>\n",
       "      <td>5500</td>\n",
       "      <td>12.87</td>\n",
       "      <td>1</td>\n",
       "      <td>0.57</td>\n",
       "      <td>N</td>\n",
       "      <td>3</td>\n",
       "    </tr>\n",
       "    <tr>\n",
       "      <th>3</th>\n",
       "      <td>23</td>\n",
       "      <td>65500</td>\n",
       "      <td>RENT</td>\n",
       "      <td>4.0</td>\n",
       "      <td>MEDICAL</td>\n",
       "      <td>C</td>\n",
       "      <td>35000</td>\n",
       "      <td>15.23</td>\n",
       "      <td>1</td>\n",
       "      <td>0.53</td>\n",
       "      <td>N</td>\n",
       "      <td>2</td>\n",
       "    </tr>\n",
       "    <tr>\n",
       "      <th>4</th>\n",
       "      <td>24</td>\n",
       "      <td>54400</td>\n",
       "      <td>RENT</td>\n",
       "      <td>8.0</td>\n",
       "      <td>MEDICAL</td>\n",
       "      <td>C</td>\n",
       "      <td>35000</td>\n",
       "      <td>14.27</td>\n",
       "      <td>1</td>\n",
       "      <td>0.55</td>\n",
       "      <td>Y</td>\n",
       "      <td>4</td>\n",
       "    </tr>\n",
       "  </tbody>\n",
       "</table>\n",
       "</div>"
      ],
      "text/plain": [
       "   person_age  person_income person_home_ownership  person_emp_length  \\\n",
       "0          22          59000                  RENT              123.0   \n",
       "1          21           9600                   OWN                5.0   \n",
       "2          25           9600              MORTGAGE                1.0   \n",
       "3          23          65500                  RENT                4.0   \n",
       "4          24          54400                  RENT                8.0   \n",
       "\n",
       "  loan_intent loan_grade  loan_amnt  loan_int_rate  loan_status  \\\n",
       "0    PERSONAL          D      35000          16.02            1   \n",
       "1   EDUCATION          B       1000          11.14            0   \n",
       "2     MEDICAL          C       5500          12.87            1   \n",
       "3     MEDICAL          C      35000          15.23            1   \n",
       "4     MEDICAL          C      35000          14.27            1   \n",
       "\n",
       "   loan_percent_income cb_person_default_on_file  cb_person_cred_hist_length  \n",
       "0                 0.59                         Y                           3  \n",
       "1                 0.10                         N                           2  \n",
       "2                 0.57                         N                           3  \n",
       "3                 0.53                         N                           2  \n",
       "4                 0.55                         Y                           4  "
      ]
     },
     "execution_count": 8,
     "metadata": {},
     "output_type": "execute_result"
    }
   ],
   "source": [
    "data.head()"
   ]
  },
  {
   "cell_type": "code",
   "execution_count": 9,
   "metadata": {
    "execution": {
     "iopub.execute_input": "2021-09-20T02:48:40.903661Z",
     "iopub.status.busy": "2021-09-20T02:48:40.903426Z",
     "iopub.status.idle": "2021-09-20T02:48:40.907901Z",
     "shell.execute_reply": "2021-09-20T02:48:40.907258Z",
     "shell.execute_reply.started": "2021-09-20T02:48:40.903640Z"
    },
    "tags": []
   },
   "outputs": [],
   "source": [
    "# data[data.duplicated()]"
   ]
  },
  {
   "cell_type": "code",
   "execution_count": 10,
   "metadata": {
    "execution": {
     "iopub.execute_input": "2021-09-20T02:48:40.909868Z",
     "iopub.status.busy": "2021-09-20T02:48:40.909531Z",
     "iopub.status.idle": "2021-09-20T02:48:40.928763Z",
     "shell.execute_reply": "2021-09-20T02:48:40.927558Z",
     "shell.execute_reply.started": "2021-09-20T02:48:40.909845Z"
    },
    "tags": []
   },
   "outputs": [
    {
     "name": "stdout",
     "output_type": "stream",
     "text": [
      "Number of duplicated rows 165\n"
     ]
    }
   ],
   "source": [
    "print(f'Number of duplicated rows {len(data[data.duplicated()])}')"
   ]
  },
  {
   "cell_type": "code",
   "execution_count": 11,
   "metadata": {
    "execution": {
     "iopub.execute_input": "2021-09-20T02:48:40.931752Z",
     "iopub.status.busy": "2021-09-20T02:48:40.931146Z",
     "iopub.status.idle": "2021-09-20T02:48:40.950050Z",
     "shell.execute_reply": "2021-09-20T02:48:40.949378Z",
     "shell.execute_reply.started": "2021-09-20T02:48:40.931720Z"
    },
    "tags": []
   },
   "outputs": [],
   "source": [
    "data = data.drop_duplicates()"
   ]
  },
  {
   "cell_type": "markdown",
   "metadata": {},
   "source": [
    "## Data Exploration"
   ]
  },
  {
   "cell_type": "markdown",
   "metadata": {},
   "source": [
    "### Columns Type"
   ]
  },
  {
   "cell_type": "code",
   "execution_count": 12,
   "metadata": {
    "execution": {
     "iopub.execute_input": "2021-09-20T02:48:40.952978Z",
     "iopub.status.busy": "2021-09-20T02:48:40.952629Z",
     "iopub.status.idle": "2021-09-20T02:48:40.981741Z",
     "shell.execute_reply": "2021-09-20T02:48:40.980827Z",
     "shell.execute_reply.started": "2021-09-20T02:48:40.952955Z"
    }
   },
   "outputs": [
    {
     "name": "stdout",
     "output_type": "stream",
     "text": [
      "<class 'pandas.core.frame.DataFrame'>\n",
      "Int64Index: 32416 entries, 0 to 32580\n",
      "Data columns (total 12 columns):\n",
      " #   Column                      Non-Null Count  Dtype  \n",
      "---  ------                      --------------  -----  \n",
      " 0   person_age                  32416 non-null  int64  \n",
      " 1   person_income               32416 non-null  int64  \n",
      " 2   person_home_ownership       32416 non-null  object \n",
      " 3   person_emp_length           31529 non-null  float64\n",
      " 4   loan_intent                 32416 non-null  object \n",
      " 5   loan_grade                  32416 non-null  object \n",
      " 6   loan_amnt                   32416 non-null  int64  \n",
      " 7   loan_int_rate               29321 non-null  float64\n",
      " 8   loan_status                 32416 non-null  int64  \n",
      " 9   loan_percent_income         32416 non-null  float64\n",
      " 10  cb_person_default_on_file   32416 non-null  object \n",
      " 11  cb_person_cred_hist_length  32416 non-null  int64  \n",
      "dtypes: float64(3), int64(5), object(4)\n",
      "memory usage: 3.2+ MB\n"
     ]
    }
   ],
   "source": [
    "data.info()"
   ]
  },
  {
   "cell_type": "markdown",
   "metadata": {},
   "source": [
    "The dataset is composed by `32581` rows (observations) and `12` columns (variables).\n",
    "\n",
    "- `person_age` : is the age of the person at the time of the loan.\n",
    "- `person_income`: is the yearly income of the person at the time of the loan.\n",
    "- `person_home_ownership`: is the type of ownership of the home.\n",
    "- `person_emp_length`: is the amount of time in years that person is employed.\n",
    "- `loan_intent`: is the aim of the loan.\n",
    "- `loan_grade`: is a classification system that involves assigning a quality score to a loan based on a borrower's credit history, quality of the collateral, and the likelihood of repayment of the principal and interest.\n",
    "- `loan_amnt`: is the dimension of the loan taken.\n",
    "- `loan_int_rate`: is the interest paid for the loan.\n",
    "- `loan_status`: is a dummy variable where 1 is default, 0 is not default.\n",
    "- `loan_percent_income`: is the ratio between the loan taken and the annual income.\n",
    "- `cb_person_default_on_file`: answers whether the person has defaulted before.\n",
    "-`cb_person_cred_hist_length`: represents the number of years of personal history since the first loan taken from that person."
   ]
  },
  {
   "cell_type": "code",
   "execution_count": 13,
   "metadata": {
    "execution": {
     "iopub.execute_input": "2021-09-20T02:48:40.988407Z",
     "iopub.status.busy": "2021-09-20T02:48:40.987814Z",
     "iopub.status.idle": "2021-09-20T02:48:41.007329Z",
     "shell.execute_reply": "2021-09-20T02:48:41.006543Z",
     "shell.execute_reply.started": "2021-09-20T02:48:40.988372Z"
    }
   },
   "outputs": [
    {
     "data": {
      "text/html": [
       "<div>\n",
       "<style scoped>\n",
       "    .dataframe tbody tr th:only-of-type {\n",
       "        vertical-align: middle;\n",
       "    }\n",
       "\n",
       "    .dataframe tbody tr th {\n",
       "        vertical-align: top;\n",
       "    }\n",
       "\n",
       "    .dataframe thead th {\n",
       "        text-align: right;\n",
       "    }\n",
       "</style>\n",
       "<table border=\"1\" class=\"dataframe\">\n",
       "  <thead>\n",
       "    <tr style=\"text-align: right;\">\n",
       "      <th></th>\n",
       "      <th>person_age</th>\n",
       "      <th>person_income</th>\n",
       "      <th>person_home_ownership</th>\n",
       "      <th>person_emp_length</th>\n",
       "      <th>loan_intent</th>\n",
       "      <th>loan_grade</th>\n",
       "      <th>loan_amnt</th>\n",
       "      <th>loan_int_rate</th>\n",
       "      <th>loan_status</th>\n",
       "      <th>loan_percent_income</th>\n",
       "      <th>cb_person_default_on_file</th>\n",
       "      <th>cb_person_cred_hist_length</th>\n",
       "    </tr>\n",
       "  </thead>\n",
       "  <tbody>\n",
       "    <tr>\n",
       "      <th>0</th>\n",
       "      <td>22</td>\n",
       "      <td>59000</td>\n",
       "      <td>RENT</td>\n",
       "      <td>123.0</td>\n",
       "      <td>PERSONAL</td>\n",
       "      <td>D</td>\n",
       "      <td>35000</td>\n",
       "      <td>16.02</td>\n",
       "      <td>1</td>\n",
       "      <td>0.59</td>\n",
       "      <td>Y</td>\n",
       "      <td>3</td>\n",
       "    </tr>\n",
       "    <tr>\n",
       "      <th>1</th>\n",
       "      <td>21</td>\n",
       "      <td>9600</td>\n",
       "      <td>OWN</td>\n",
       "      <td>5.0</td>\n",
       "      <td>EDUCATION</td>\n",
       "      <td>B</td>\n",
       "      <td>1000</td>\n",
       "      <td>11.14</td>\n",
       "      <td>0</td>\n",
       "      <td>0.10</td>\n",
       "      <td>N</td>\n",
       "      <td>2</td>\n",
       "    </tr>\n",
       "    <tr>\n",
       "      <th>2</th>\n",
       "      <td>25</td>\n",
       "      <td>9600</td>\n",
       "      <td>MORTGAGE</td>\n",
       "      <td>1.0</td>\n",
       "      <td>MEDICAL</td>\n",
       "      <td>C</td>\n",
       "      <td>5500</td>\n",
       "      <td>12.87</td>\n",
       "      <td>1</td>\n",
       "      <td>0.57</td>\n",
       "      <td>N</td>\n",
       "      <td>3</td>\n",
       "    </tr>\n",
       "    <tr>\n",
       "      <th>3</th>\n",
       "      <td>23</td>\n",
       "      <td>65500</td>\n",
       "      <td>RENT</td>\n",
       "      <td>4.0</td>\n",
       "      <td>MEDICAL</td>\n",
       "      <td>C</td>\n",
       "      <td>35000</td>\n",
       "      <td>15.23</td>\n",
       "      <td>1</td>\n",
       "      <td>0.53</td>\n",
       "      <td>N</td>\n",
       "      <td>2</td>\n",
       "    </tr>\n",
       "    <tr>\n",
       "      <th>4</th>\n",
       "      <td>24</td>\n",
       "      <td>54400</td>\n",
       "      <td>RENT</td>\n",
       "      <td>8.0</td>\n",
       "      <td>MEDICAL</td>\n",
       "      <td>C</td>\n",
       "      <td>35000</td>\n",
       "      <td>14.27</td>\n",
       "      <td>1</td>\n",
       "      <td>0.55</td>\n",
       "      <td>Y</td>\n",
       "      <td>4</td>\n",
       "    </tr>\n",
       "  </tbody>\n",
       "</table>\n",
       "</div>"
      ],
      "text/plain": [
       "   person_age  person_income person_home_ownership  person_emp_length  \\\n",
       "0          22          59000                  RENT              123.0   \n",
       "1          21           9600                   OWN                5.0   \n",
       "2          25           9600              MORTGAGE                1.0   \n",
       "3          23          65500                  RENT                4.0   \n",
       "4          24          54400                  RENT                8.0   \n",
       "\n",
       "  loan_intent loan_grade  loan_amnt  loan_int_rate  loan_status  \\\n",
       "0    PERSONAL          D      35000          16.02            1   \n",
       "1   EDUCATION          B       1000          11.14            0   \n",
       "2     MEDICAL          C       5500          12.87            1   \n",
       "3     MEDICAL          C      35000          15.23            1   \n",
       "4     MEDICAL          C      35000          14.27            1   \n",
       "\n",
       "   loan_percent_income cb_person_default_on_file  cb_person_cred_hist_length  \n",
       "0                 0.59                         Y                           3  \n",
       "1                 0.10                         N                           2  \n",
       "2                 0.57                         N                           3  \n",
       "3                 0.53                         N                           2  \n",
       "4                 0.55                         Y                           4  "
      ]
     },
     "execution_count": 13,
     "metadata": {},
     "output_type": "execute_result"
    }
   ],
   "source": [
    "data.head()"
   ]
  },
  {
   "cell_type": "markdown",
   "metadata": {},
   "source": [
    "### Descriptive Statistics"
   ]
  },
  {
   "cell_type": "markdown",
   "metadata": {},
   "source": [
    "#### Continuous Variable"
   ]
  },
  {
   "cell_type": "code",
   "execution_count": 14,
   "metadata": {
    "execution": {
     "iopub.execute_input": "2021-09-20T02:48:41.009762Z",
     "iopub.status.busy": "2021-09-20T02:48:41.009399Z",
     "iopub.status.idle": "2021-09-20T02:48:41.071913Z",
     "shell.execute_reply": "2021-09-20T02:48:41.068972Z",
     "shell.execute_reply.started": "2021-09-20T02:48:41.009729Z"
    }
   },
   "outputs": [
    {
     "data": {
      "text/html": [
       "<div>\n",
       "<style scoped>\n",
       "    .dataframe tbody tr th:only-of-type {\n",
       "        vertical-align: middle;\n",
       "    }\n",
       "\n",
       "    .dataframe tbody tr th {\n",
       "        vertical-align: top;\n",
       "    }\n",
       "\n",
       "    .dataframe thead th {\n",
       "        text-align: right;\n",
       "    }\n",
       "</style>\n",
       "<table border=\"1\" class=\"dataframe\">\n",
       "  <thead>\n",
       "    <tr style=\"text-align: right;\">\n",
       "      <th></th>\n",
       "      <th>person_age</th>\n",
       "      <th>person_income</th>\n",
       "      <th>person_emp_length</th>\n",
       "      <th>loan_amnt</th>\n",
       "      <th>loan_int_rate</th>\n",
       "      <th>loan_status</th>\n",
       "      <th>loan_percent_income</th>\n",
       "      <th>cb_person_cred_hist_length</th>\n",
       "    </tr>\n",
       "  </thead>\n",
       "  <tbody>\n",
       "    <tr>\n",
       "      <th>count</th>\n",
       "      <td>32416.00</td>\n",
       "      <td>32416.00</td>\n",
       "      <td>31529.00</td>\n",
       "      <td>32416.00</td>\n",
       "      <td>29321.00</td>\n",
       "      <td>32416.00</td>\n",
       "      <td>32416.00</td>\n",
       "      <td>32416.00</td>\n",
       "    </tr>\n",
       "    <tr>\n",
       "      <th>mean</th>\n",
       "      <td>27.75</td>\n",
       "      <td>66091.64</td>\n",
       "      <td>4.79</td>\n",
       "      <td>9593.85</td>\n",
       "      <td>11.02</td>\n",
       "      <td>0.22</td>\n",
       "      <td>0.17</td>\n",
       "      <td>5.81</td>\n",
       "    </tr>\n",
       "    <tr>\n",
       "      <th>std</th>\n",
       "      <td>6.35</td>\n",
       "      <td>62015.58</td>\n",
       "      <td>4.15</td>\n",
       "      <td>6322.73</td>\n",
       "      <td>3.24</td>\n",
       "      <td>0.41</td>\n",
       "      <td>0.11</td>\n",
       "      <td>4.06</td>\n",
       "    </tr>\n",
       "    <tr>\n",
       "      <th>min</th>\n",
       "      <td>20.00</td>\n",
       "      <td>4000.00</td>\n",
       "      <td>0.00</td>\n",
       "      <td>500.00</td>\n",
       "      <td>5.42</td>\n",
       "      <td>0.00</td>\n",
       "      <td>0.00</td>\n",
       "      <td>2.00</td>\n",
       "    </tr>\n",
       "    <tr>\n",
       "      <th>25%</th>\n",
       "      <td>23.00</td>\n",
       "      <td>38542.00</td>\n",
       "      <td>2.00</td>\n",
       "      <td>5000.00</td>\n",
       "      <td>7.90</td>\n",
       "      <td>0.00</td>\n",
       "      <td>0.09</td>\n",
       "      <td>3.00</td>\n",
       "    </tr>\n",
       "    <tr>\n",
       "      <th>50%</th>\n",
       "      <td>26.00</td>\n",
       "      <td>55000.00</td>\n",
       "      <td>4.00</td>\n",
       "      <td>8000.00</td>\n",
       "      <td>10.99</td>\n",
       "      <td>0.00</td>\n",
       "      <td>0.15</td>\n",
       "      <td>4.00</td>\n",
       "    </tr>\n",
       "    <tr>\n",
       "      <th>75%</th>\n",
       "      <td>30.00</td>\n",
       "      <td>79218.00</td>\n",
       "      <td>7.00</td>\n",
       "      <td>12250.00</td>\n",
       "      <td>13.47</td>\n",
       "      <td>0.00</td>\n",
       "      <td>0.23</td>\n",
       "      <td>8.00</td>\n",
       "    </tr>\n",
       "    <tr>\n",
       "      <th>max</th>\n",
       "      <td>144.00</td>\n",
       "      <td>6000000.00</td>\n",
       "      <td>123.00</td>\n",
       "      <td>35000.00</td>\n",
       "      <td>23.22</td>\n",
       "      <td>1.00</td>\n",
       "      <td>0.83</td>\n",
       "      <td>30.00</td>\n",
       "    </tr>\n",
       "  </tbody>\n",
       "</table>\n",
       "</div>"
      ],
      "text/plain": [
       "      person_age person_income person_emp_length loan_amnt loan_int_rate  \\\n",
       "count   32416.00      32416.00          31529.00  32416.00      29321.00   \n",
       "mean       27.75      66091.64              4.79   9593.85         11.02   \n",
       "std         6.35      62015.58              4.15   6322.73          3.24   \n",
       "min        20.00       4000.00              0.00    500.00          5.42   \n",
       "25%        23.00      38542.00              2.00   5000.00          7.90   \n",
       "50%        26.00      55000.00              4.00   8000.00         10.99   \n",
       "75%        30.00      79218.00              7.00  12250.00         13.47   \n",
       "max       144.00    6000000.00            123.00  35000.00         23.22   \n",
       "\n",
       "      loan_status loan_percent_income cb_person_cred_hist_length  \n",
       "count    32416.00            32416.00                   32416.00  \n",
       "mean         0.22                0.17                       5.81  \n",
       "std          0.41                0.11                       4.06  \n",
       "min          0.00                0.00                       2.00  \n",
       "25%          0.00                0.09                       3.00  \n",
       "50%          0.00                0.15                       4.00  \n",
       "75%          0.00                0.23                       8.00  \n",
       "max          1.00                0.83                      30.00  "
      ]
     },
     "execution_count": 14,
     "metadata": {},
     "output_type": "execute_result"
    }
   ],
   "source": [
    "pd.options.display.max_rows = 1000\n",
    "data.describe(include='number').transpose().apply(lambda s: s.apply('{0:.2f}'.format)).T"
   ]
  },
  {
   "cell_type": "markdown",
   "metadata": {},
   "source": [
    "Hampir semua data memiliki `positive skewed` karene mean > median\n",
    "\n",
    "- terdapat keanehan data pada `person_age` yaitu max > 144, asumsi usia produktif (15-64 tahun), namun ada beberapa yang akan mengajukan kredit pensiun, maka dari itu akan dibatasi sampai `person_age` = 80, lebih > 80 akan didrop nantinya\n",
    "\n",
    "-  `person_emo_length` juga beberapa akan ada yang didrop apabila `person_emp_length` > `person_age`\n"
   ]
  },
  {
   "cell_type": "markdown",
   "metadata": {},
   "source": [
    "#### Categorical Variable"
   ]
  },
  {
   "cell_type": "code",
   "execution_count": 15,
   "metadata": {
    "execution": {
     "iopub.execute_input": "2021-09-20T02:48:41.073352Z",
     "iopub.status.busy": "2021-09-20T02:48:41.072881Z",
     "iopub.status.idle": "2021-09-20T02:48:41.101753Z",
     "shell.execute_reply": "2021-09-20T02:48:41.100887Z",
     "shell.execute_reply.started": "2021-09-20T02:48:41.073318Z"
    }
   },
   "outputs": [
    {
     "data": {
      "text/html": [
       "<div>\n",
       "<style scoped>\n",
       "    .dataframe tbody tr th:only-of-type {\n",
       "        vertical-align: middle;\n",
       "    }\n",
       "\n",
       "    .dataframe tbody tr th {\n",
       "        vertical-align: top;\n",
       "    }\n",
       "\n",
       "    .dataframe thead th {\n",
       "        text-align: right;\n",
       "    }\n",
       "</style>\n",
       "<table border=\"1\" class=\"dataframe\">\n",
       "  <thead>\n",
       "    <tr style=\"text-align: right;\">\n",
       "      <th></th>\n",
       "      <th>person_home_ownership</th>\n",
       "      <th>loan_intent</th>\n",
       "      <th>loan_grade</th>\n",
       "      <th>cb_person_default_on_file</th>\n",
       "    </tr>\n",
       "  </thead>\n",
       "  <tbody>\n",
       "    <tr>\n",
       "      <th>count</th>\n",
       "      <td>32416</td>\n",
       "      <td>32416</td>\n",
       "      <td>32416</td>\n",
       "      <td>32416</td>\n",
       "    </tr>\n",
       "    <tr>\n",
       "      <th>unique</th>\n",
       "      <td>4</td>\n",
       "      <td>6</td>\n",
       "      <td>7</td>\n",
       "      <td>2</td>\n",
       "    </tr>\n",
       "    <tr>\n",
       "      <th>top</th>\n",
       "      <td>RENT</td>\n",
       "      <td>EDUCATION</td>\n",
       "      <td>A</td>\n",
       "      <td>N</td>\n",
       "    </tr>\n",
       "    <tr>\n",
       "      <th>freq</th>\n",
       "      <td>16378</td>\n",
       "      <td>6411</td>\n",
       "      <td>10703</td>\n",
       "      <td>26686</td>\n",
       "    </tr>\n",
       "  </tbody>\n",
       "</table>\n",
       "</div>"
      ],
      "text/plain": [
       "       person_home_ownership loan_intent loan_grade cb_person_default_on_file\n",
       "count                  32416       32416      32416                     32416\n",
       "unique                     4           6          7                         2\n",
       "top                     RENT   EDUCATION          A                         N\n",
       "freq                   16378        6411      10703                     26686"
      ]
     },
     "execution_count": 15,
     "metadata": {},
     "output_type": "execute_result"
    }
   ],
   "source": [
    "pd.options.display.max_rows = 1000\n",
    "data.describe(include='object')"
   ]
  },
  {
   "cell_type": "markdown",
   "metadata": {
    "execution": {
     "iopub.execute_input": "2021-09-10T02:38:14.071349Z",
     "iopub.status.busy": "2021-09-10T02:38:14.071101Z",
     "iopub.status.idle": "2021-09-10T02:38:16.665305Z",
     "shell.execute_reply": "2021-09-10T02:38:16.664285Z",
     "shell.execute_reply.started": "2021-09-10T02:38:14.071327Z"
    },
    "tags": []
   },
   "source": [
    "# Feature Transformation"
   ]
  },
  {
   "cell_type": "markdown",
   "metadata": {},
   "source": [
    "## Meta Definition"
   ]
  },
  {
   "cell_type": "code",
   "execution_count": 16,
   "metadata": {
    "execution": {
     "iopub.execute_input": "2021-09-20T02:48:41.103292Z",
     "iopub.status.busy": "2021-09-20T02:48:41.102874Z",
     "iopub.status.idle": "2021-09-20T02:48:41.111825Z",
     "shell.execute_reply": "2021-09-20T02:48:41.108288Z",
     "shell.execute_reply.started": "2021-09-20T02:48:41.103259Z"
    }
   },
   "outputs": [
    {
     "data": {
      "text/plain": [
       "Index(['person_age', 'person_income', 'person_home_ownership',\n",
       "       'person_emp_length', 'loan_intent', 'loan_grade', 'loan_amnt',\n",
       "       'loan_int_rate', 'loan_status', 'loan_percent_income',\n",
       "       'cb_person_default_on_file', 'cb_person_cred_hist_length'],\n",
       "      dtype='object')"
      ]
     },
     "execution_count": 16,
     "metadata": {},
     "output_type": "execute_result"
    }
   ],
   "source": [
    "data.columns"
   ]
  },
  {
   "cell_type": "code",
   "execution_count": 17,
   "metadata": {
    "execution": {
     "iopub.execute_input": "2021-09-20T02:48:41.113954Z",
     "iopub.status.busy": "2021-09-20T02:48:41.113007Z",
     "iopub.status.idle": "2021-09-20T02:48:41.129885Z",
     "shell.execute_reply": "2021-09-20T02:48:41.129011Z",
     "shell.execute_reply.started": "2021-09-20T02:48:41.113834Z"
    },
    "tags": []
   },
   "outputs": [],
   "source": [
    "target = 'loan_status'\n",
    "continuous_features =['person_age', 'person_income', 'person_emp_length','loan_int_rate','loan_percent_income','cb_person_cred_hist_length','loan_amnt']\n",
    "nominal_features = ['person_home_ownership', 'loan_intent', 'loan_grade', 'cb_person_default_on_file'] #cat, #Ticket feature's excluded because of too granular\n",
    "# discrete_feature = []\n",
    "# ordinal_cat_features =  []\n",
    "# ordinal_num_features = []"
   ]
  },
  {
   "cell_type": "code",
   "execution_count": 18,
   "metadata": {
    "execution": {
     "iopub.execute_input": "2021-09-20T02:48:41.132222Z",
     "iopub.status.busy": "2021-09-20T02:48:41.131816Z",
     "iopub.status.idle": "2021-09-20T02:48:41.163165Z",
     "shell.execute_reply": "2021-09-20T02:48:41.162414Z",
     "shell.execute_reply.started": "2021-09-20T02:48:41.132188Z"
    }
   },
   "outputs": [
    {
     "name": "stdout",
     "output_type": "stream",
     "text": [
      "4\n",
      "RENT        16378\n",
      "MORTGAGE    13369\n",
      "OWN          2563\n",
      "OTHER         106\n",
      "Name: person_home_ownership, dtype: int64\n",
      "6\n",
      "EDUCATION            6411\n",
      "MEDICAL              6042\n",
      "VENTURE              5682\n",
      "PERSONAL             5498\n",
      "DEBTCONSOLIDATION    5189\n",
      "HOMEIMPROVEMENT      3594\n",
      "Name: loan_intent, dtype: int64\n",
      "7\n",
      "A    10703\n",
      "B    10387\n",
      "C     6438\n",
      "D     3620\n",
      "E      963\n",
      "F      241\n",
      "G       64\n",
      "Name: loan_grade, dtype: int64\n",
      "2\n",
      "N    26686\n",
      "Y     5730\n",
      "Name: cb_person_default_on_file, dtype: int64\n"
     ]
    }
   ],
   "source": [
    "for x in nominal_features:\n",
    "    print(len(data[x].value_counts()))\n",
    "    print(data[x].value_counts()[:,])"
   ]
  },
  {
   "cell_type": "code",
   "execution_count": 19,
   "metadata": {
    "execution": {
     "iopub.execute_input": "2021-09-20T02:48:41.165406Z",
     "iopub.status.busy": "2021-09-20T02:48:41.165093Z",
     "iopub.status.idle": "2021-09-20T02:48:43.776396Z",
     "shell.execute_reply": "2021-09-20T02:48:43.775457Z",
     "shell.execute_reply.started": "2021-09-20T02:48:41.165373Z"
    },
    "tags": []
   },
   "outputs": [
    {
     "data": {
      "image/png": "[encoded data removed]",
      "text/plain": [
       "<Figure size 864x1152 with 7 Axes>"
      ]
     },
     "metadata": {
      "needs_background": "light"
     },
     "output_type": "display_data"
    }
   ],
   "source": [
    "\n",
    "num_cols_hist = data[continuous_features]\n",
    "plt.figure(figsize=(12,16))\n",
    "\n",
    "for i, col in enumerate(num_cols_hist.columns):\n",
    "    idx = int('42'+ str(i+1))\n",
    "    plt.subplot(idx)\n",
    "    sns.distplot(num_cols_hist[col], color='blue', \n",
    "                 kde_kws={'color': 'indianred', 'lw': 2, 'label': 'KDE'})\n",
    "    plt.title(col+' distribution', fontsize=14)\n",
    "    plt.ylabel('Probablity', fontsize=12)\n",
    "    plt.xlabel(col, fontsize=12)\n",
    "    plt.xticks(fontsize=12)\n",
    "    plt.yticks(fontsize=12)\n",
    "    plt.legend(['KDE'], prop={\"size\":12})\n",
    "\n",
    "plt.subplots_adjust(top=0.92, bottom=0.08, left=0.10, right=0.95, hspace=0.35,\n",
    "                    wspace=0.35)\n",
    "plt.show()"
   ]
  },
  {
   "cell_type": "markdown",
   "metadata": {},
   "source": [
    "## Handling Nan Columns"
   ]
  },
  {
   "cell_type": "markdown",
   "metadata": {},
   "source": [
    "### Check Columns with NaN"
   ]
  },
  {
   "cell_type": "code",
   "execution_count": 20,
   "metadata": {
    "execution": {
     "iopub.execute_input": "2021-09-20T02:48:43.785631Z",
     "iopub.status.busy": "2021-09-20T02:48:43.777868Z",
     "iopub.status.idle": "2021-09-20T02:48:43.812185Z",
     "shell.execute_reply": "2021-09-20T02:48:43.810225Z",
     "shell.execute_reply.started": "2021-09-20T02:48:43.785573Z"
    }
   },
   "outputs": [
    {
     "name": "stdout",
     "output_type": "stream",
     "text": [
      "Total columns: 12\n",
      "Total columns with nan: 2\n"
     ]
    }
   ],
   "source": [
    "# List Columns with NaN\n",
    "print('Total columns:',data.shape[1])\n",
    "print('Total columns with nan:',len(data.columns[data.isna().any()]))"
   ]
  },
  {
   "cell_type": "code",
   "execution_count": 21,
   "metadata": {
    "execution": {
     "iopub.execute_input": "2021-09-20T02:48:43.814783Z",
     "iopub.status.busy": "2021-09-20T02:48:43.814075Z",
     "iopub.status.idle": "2021-09-20T02:48:43.832455Z",
     "shell.execute_reply": "2021-09-20T02:48:43.831322Z",
     "shell.execute_reply.started": "2021-09-20T02:48:43.814744Z"
    },
    "tags": []
   },
   "outputs": [
    {
     "data": {
      "text/plain": [
       "person_emp_length    2.736303\n",
       "loan_int_rate        9.547754\n",
       "dtype: float64"
      ]
     },
     "execution_count": 21,
     "metadata": {},
     "output_type": "execute_result"
    }
   ],
   "source": [
    "# Nan Percentage by Column\n",
    "list_column_nan_data = data[data.columns[data.isnull().any()]].isnull().sum() * 100 / data.shape[0]\n",
    "list_column_nan_data"
   ]
  },
  {
   "cell_type": "markdown",
   "metadata": {},
   "source": [
    "`person_emp_length` contains 2.75% NaN and `loan_int_rate` contains 9.56% NaN"
   ]
  },
  {
   "cell_type": "markdown",
   "metadata": {},
   "source": [
    "### Filling Nan Values"
   ]
  },
  {
   "cell_type": "code",
   "execution_count": 22,
   "metadata": {
    "execution": {
     "iopub.execute_input": "2021-09-20T02:48:43.834359Z",
     "iopub.status.busy": "2021-09-20T02:48:43.833853Z",
     "iopub.status.idle": "2021-09-20T02:48:43.840996Z",
     "shell.execute_reply": "2021-09-20T02:48:43.840181Z",
     "shell.execute_reply.started": "2021-09-20T02:48:43.834258Z"
    }
   },
   "outputs": [
    {
     "data": {
      "text/plain": [
       "['person_emp_length', 'loan_int_rate']"
      ]
     },
     "execution_count": 22,
     "metadata": {},
     "output_type": "execute_result"
    }
   ],
   "source": [
    "list_fill_na = list_column_nan_data[list_column_nan_data<75].index.tolist()\n",
    "list_fill_na"
   ]
  },
  {
   "cell_type": "code",
   "execution_count": 23,
   "metadata": {
    "execution": {
     "iopub.execute_input": "2021-09-20T02:48:43.842789Z",
     "iopub.status.busy": "2021-09-20T02:48:43.842162Z",
     "iopub.status.idle": "2021-09-20T02:48:43.850000Z",
     "shell.execute_reply": "2021-09-20T02:48:43.849071Z",
     "shell.execute_reply.started": "2021-09-20T02:48:43.842752Z"
    }
   },
   "outputs": [
    {
     "data": {
      "text/plain": [
       "['person_emp_length', 'loan_int_rate']"
      ]
     },
     "execution_count": 23,
     "metadata": {},
     "output_type": "execute_result"
    }
   ],
   "source": [
    "list_fill_na_continuous = list(set(continuous_features).intersection(set(list_fill_na)))\n",
    "list_fill_na_continuous"
   ]
  },
  {
   "cell_type": "code",
   "execution_count": 24,
   "metadata": {
    "execution": {
     "iopub.execute_input": "2021-09-20T02:48:43.852256Z",
     "iopub.status.busy": "2021-09-20T02:48:43.851262Z",
     "iopub.status.idle": "2021-09-20T02:48:44.224456Z",
     "shell.execute_reply": "2021-09-20T02:48:44.223622Z",
     "shell.execute_reply.started": "2021-09-20T02:48:43.852216Z"
    }
   },
   "outputs": [
    {
     "data": {
      "image/png": "[encoded data removed]",
      "text/plain": [
       "<Figure size 1440x360 with 2 Axes>"
      ]
     },
     "metadata": {
      "needs_background": "light"
     },
     "output_type": "display_data"
    }
   ],
   "source": [
    "n_cols = 4\n",
    "n_rows = ceil(len(list_fill_na_continuous)/n_cols)\n",
    "counter = 1\n",
    "\n",
    "fig = plt.figure(figsize=(20,5))\n",
    "for col in list_fill_na_continuous:\n",
    "    plt.subplot(n_rows, n_cols, counter)\n",
    "    plt.xlabel(col)\n",
    "    g = plt.hist(data[col], bins=20)\n",
    "    \n",
    "    counter += 1\n",
    "\n",
    "plt.show();"
   ]
  },
  {
   "cell_type": "code",
   "execution_count": 25,
   "metadata": {
    "execution": {
     "iopub.execute_input": "2021-09-20T02:48:44.228177Z",
     "iopub.status.busy": "2021-09-20T02:48:44.227316Z",
     "iopub.status.idle": "2021-09-20T02:48:44.239781Z",
     "shell.execute_reply": "2021-09-20T02:48:44.239093Z",
     "shell.execute_reply.started": "2021-09-20T02:48:44.228136Z"
    }
   },
   "outputs": [
    {
     "name": "stdout",
     "output_type": "stream",
     "text": [
      "person_emp_length mode 0.0\n",
      "person_emp_length median 4.0\n",
      "loan_int_rate mode 7.51\n",
      "loan_int_rate median 10.99\n"
     ]
    }
   ],
   "source": [
    "# check the mode, median for the two features\n",
    "print(f\"person_emp_length mode {data['person_emp_length'].mode()[0]}\")\n",
    "print(f\"person_emp_length median {data['person_emp_length'].median()}\")\n",
    "print(f\"loan_int_rate mode {data['loan_int_rate'].mode()[0]}\")\n",
    "print(f\"loan_int_rate median {data['loan_int_rate'].median()}\")"
   ]
  },
  {
   "cell_type": "code",
   "execution_count": 26,
   "metadata": {
    "execution": {
     "iopub.execute_input": "2021-09-20T02:48:44.242042Z",
     "iopub.status.busy": "2021-09-20T02:48:44.241108Z",
     "iopub.status.idle": "2021-09-20T02:48:44.250952Z",
     "shell.execute_reply": "2021-09-20T02:48:44.250265Z",
     "shell.execute_reply.started": "2021-09-20T02:48:44.242004Z"
    }
   },
   "outputs": [],
   "source": [
    "for i in list_fill_na_continuous:\n",
    "    data[f'{i}_nan'] = data[i].fillna(data[i].median())"
   ]
  },
  {
   "cell_type": "markdown",
   "metadata": {},
   "source": [
    "Using median to fill the nan values"
   ]
  },
  {
   "cell_type": "code",
   "execution_count": 27,
   "metadata": {
    "execution": {
     "iopub.execute_input": "2021-09-20T02:48:44.253629Z",
     "iopub.status.busy": "2021-09-20T02:48:44.252455Z",
     "iopub.status.idle": "2021-09-20T02:48:44.279562Z",
     "shell.execute_reply": "2021-09-20T02:48:44.278870Z",
     "shell.execute_reply.started": "2021-09-20T02:48:44.253589Z"
    }
   },
   "outputs": [
    {
     "data": {
      "text/html": [
       "<div>\n",
       "<style scoped>\n",
       "    .dataframe tbody tr th:only-of-type {\n",
       "        vertical-align: middle;\n",
       "    }\n",
       "\n",
       "    .dataframe tbody tr th {\n",
       "        vertical-align: top;\n",
       "    }\n",
       "\n",
       "    .dataframe thead th {\n",
       "        text-align: right;\n",
       "    }\n",
       "</style>\n",
       "<table border=\"1\" class=\"dataframe\">\n",
       "  <thead>\n",
       "    <tr style=\"text-align: right;\">\n",
       "      <th></th>\n",
       "      <th>person_age</th>\n",
       "      <th>person_income</th>\n",
       "      <th>person_home_ownership</th>\n",
       "      <th>person_emp_length</th>\n",
       "      <th>loan_intent</th>\n",
       "      <th>loan_grade</th>\n",
       "      <th>loan_amnt</th>\n",
       "      <th>loan_int_rate</th>\n",
       "      <th>loan_status</th>\n",
       "      <th>loan_percent_income</th>\n",
       "      <th>cb_person_default_on_file</th>\n",
       "      <th>cb_person_cred_hist_length</th>\n",
       "      <th>person_emp_length_nan</th>\n",
       "      <th>loan_int_rate_nan</th>\n",
       "    </tr>\n",
       "  </thead>\n",
       "  <tbody>\n",
       "    <tr>\n",
       "      <th>0</th>\n",
       "      <td>22</td>\n",
       "      <td>59000</td>\n",
       "      <td>RENT</td>\n",
       "      <td>123.0</td>\n",
       "      <td>PERSONAL</td>\n",
       "      <td>D</td>\n",
       "      <td>35000</td>\n",
       "      <td>16.02</td>\n",
       "      <td>1</td>\n",
       "      <td>0.59</td>\n",
       "      <td>Y</td>\n",
       "      <td>3</td>\n",
       "      <td>123.0</td>\n",
       "      <td>16.02</td>\n",
       "    </tr>\n",
       "    <tr>\n",
       "      <th>1</th>\n",
       "      <td>21</td>\n",
       "      <td>9600</td>\n",
       "      <td>OWN</td>\n",
       "      <td>5.0</td>\n",
       "      <td>EDUCATION</td>\n",
       "      <td>B</td>\n",
       "      <td>1000</td>\n",
       "      <td>11.14</td>\n",
       "      <td>0</td>\n",
       "      <td>0.10</td>\n",
       "      <td>N</td>\n",
       "      <td>2</td>\n",
       "      <td>5.0</td>\n",
       "      <td>11.14</td>\n",
       "    </tr>\n",
       "    <tr>\n",
       "      <th>2</th>\n",
       "      <td>25</td>\n",
       "      <td>9600</td>\n",
       "      <td>MORTGAGE</td>\n",
       "      <td>1.0</td>\n",
       "      <td>MEDICAL</td>\n",
       "      <td>C</td>\n",
       "      <td>5500</td>\n",
       "      <td>12.87</td>\n",
       "      <td>1</td>\n",
       "      <td>0.57</td>\n",
       "      <td>N</td>\n",
       "      <td>3</td>\n",
       "      <td>1.0</td>\n",
       "      <td>12.87</td>\n",
       "    </tr>\n",
       "    <tr>\n",
       "      <th>3</th>\n",
       "      <td>23</td>\n",
       "      <td>65500</td>\n",
       "      <td>RENT</td>\n",
       "      <td>4.0</td>\n",
       "      <td>MEDICAL</td>\n",
       "      <td>C</td>\n",
       "      <td>35000</td>\n",
       "      <td>15.23</td>\n",
       "      <td>1</td>\n",
       "      <td>0.53</td>\n",
       "      <td>N</td>\n",
       "      <td>2</td>\n",
       "      <td>4.0</td>\n",
       "      <td>15.23</td>\n",
       "    </tr>\n",
       "    <tr>\n",
       "      <th>4</th>\n",
       "      <td>24</td>\n",
       "      <td>54400</td>\n",
       "      <td>RENT</td>\n",
       "      <td>8.0</td>\n",
       "      <td>MEDICAL</td>\n",
       "      <td>C</td>\n",
       "      <td>35000</td>\n",
       "      <td>14.27</td>\n",
       "      <td>1</td>\n",
       "      <td>0.55</td>\n",
       "      <td>Y</td>\n",
       "      <td>4</td>\n",
       "      <td>8.0</td>\n",
       "      <td>14.27</td>\n",
       "    </tr>\n",
       "  </tbody>\n",
       "</table>\n",
       "</div>"
      ],
      "text/plain": [
       "   person_age  person_income person_home_ownership  person_emp_length  \\\n",
       "0          22          59000                  RENT              123.0   \n",
       "1          21           9600                   OWN                5.0   \n",
       "2          25           9600              MORTGAGE                1.0   \n",
       "3          23          65500                  RENT                4.0   \n",
       "4          24          54400                  RENT                8.0   \n",
       "\n",
       "  loan_intent loan_grade  loan_amnt  loan_int_rate  loan_status  \\\n",
       "0    PERSONAL          D      35000          16.02            1   \n",
       "1   EDUCATION          B       1000          11.14            0   \n",
       "2     MEDICAL          C       5500          12.87            1   \n",
       "3     MEDICAL          C      35000          15.23            1   \n",
       "4     MEDICAL          C      35000          14.27            1   \n",
       "\n",
       "   loan_percent_income cb_person_default_on_file  cb_person_cred_hist_length  \\\n",
       "0                 0.59                         Y                           3   \n",
       "1                 0.10                         N                           2   \n",
       "2                 0.57                         N                           3   \n",
       "3                 0.53                         N                           2   \n",
       "4                 0.55                         Y                           4   \n",
       "\n",
       "   person_emp_length_nan  loan_int_rate_nan  \n",
       "0                  123.0              16.02  \n",
       "1                    5.0              11.14  \n",
       "2                    1.0              12.87  \n",
       "3                    4.0              15.23  \n",
       "4                    8.0              14.27  "
      ]
     },
     "execution_count": 27,
     "metadata": {},
     "output_type": "execute_result"
    }
   ],
   "source": [
    "data.head()"
   ]
  },
  {
   "cell_type": "markdown",
   "metadata": {
    "execution": {
     "iopub.execute_input": "2021-09-10T03:22:41.771807Z",
     "iopub.status.busy": "2021-09-10T03:22:41.771569Z",
     "iopub.status.idle": "2021-09-10T03:22:41.775712Z",
     "shell.execute_reply": "2021-09-10T03:22:41.774135Z",
     "shell.execute_reply.started": "2021-09-10T03:22:41.771784Z"
    },
    "tags": []
   },
   "source": [
    "### Drop Columns"
   ]
  },
  {
   "cell_type": "markdown",
   "metadata": {},
   "source": [
    "Terdapat beberapa rows yang akan didrop yaitu `person_age` dengan nilai > 80\n",
    "dan  `person_emo_length` juga beberapa akan ada yang didrop apabila `person_emp_length` > `person_age`"
   ]
  },
  {
   "cell_type": "code",
   "execution_count": 28,
   "metadata": {
    "execution": {
     "iopub.execute_input": "2021-09-20T02:48:44.281718Z",
     "iopub.status.busy": "2021-09-20T02:48:44.281014Z",
     "iopub.status.idle": "2021-09-20T02:48:44.298900Z",
     "shell.execute_reply": "2021-09-20T02:48:44.290702Z",
     "shell.execute_reply.started": "2021-09-20T02:48:44.281681Z"
    },
    "tags": []
   },
   "outputs": [
    {
     "data": {
      "text/plain": [
       "[81, 183, 575, 747, 32297, 32416, 32422, 32506]"
      ]
     },
     "execution_count": 28,
     "metadata": {},
     "output_type": "execute_result"
    }
   ],
   "source": [
    "list_drop_person_age = data[data['person_age'] >= 80].index.tolist()\n",
    "list_drop_person_age"
   ]
  },
  {
   "cell_type": "code",
   "execution_count": 29,
   "metadata": {
    "execution": {
     "iopub.execute_input": "2021-09-20T02:48:44.487727Z",
     "iopub.status.busy": "2021-09-20T02:48:44.486992Z",
     "iopub.status.idle": "2021-09-20T02:48:44.506723Z",
     "shell.execute_reply": "2021-09-20T02:48:44.505092Z",
     "shell.execute_reply.started": "2021-09-20T02:48:44.487683Z"
    },
    "tags": []
   },
   "outputs": [],
   "source": [
    "data = data.drop(list_drop_person_age, axis=0)"
   ]
  },
  {
   "cell_type": "code",
   "execution_count": 30,
   "metadata": {
    "execution": {
     "iopub.execute_input": "2021-09-20T02:48:44.518763Z",
     "iopub.status.busy": "2021-09-20T02:48:44.517707Z",
     "iopub.status.idle": "2021-09-20T02:48:44.541299Z",
     "shell.execute_reply": "2021-09-20T02:48:44.537374Z",
     "shell.execute_reply.started": "2021-09-20T02:48:44.518718Z"
    },
    "tags": []
   },
   "outputs": [
    {
     "data": {
      "text/plain": [
       "[0, 210]"
      ]
     },
     "execution_count": 30,
     "metadata": {},
     "output_type": "execute_result"
    }
   ],
   "source": [
    "list_drop_emp_length = data[data['person_emp_length'] >= data['person_age']].index.tolist()\n",
    "list_drop_emp_length"
   ]
  },
  {
   "cell_type": "code",
   "execution_count": 31,
   "metadata": {
    "execution": {
     "iopub.execute_input": "2021-09-20T02:48:44.544725Z",
     "iopub.status.busy": "2021-09-20T02:48:44.543860Z",
     "iopub.status.idle": "2021-09-20T02:48:44.589232Z",
     "shell.execute_reply": "2021-09-20T02:48:44.587628Z",
     "shell.execute_reply.started": "2021-09-20T02:48:44.544683Z"
    },
    "tags": []
   },
   "outputs": [
    {
     "data": {
      "text/html": [
       "<div>\n",
       "<style scoped>\n",
       "    .dataframe tbody tr th:only-of-type {\n",
       "        vertical-align: middle;\n",
       "    }\n",
       "\n",
       "    .dataframe tbody tr th {\n",
       "        vertical-align: top;\n",
       "    }\n",
       "\n",
       "    .dataframe thead th {\n",
       "        text-align: right;\n",
       "    }\n",
       "</style>\n",
       "<table border=\"1\" class=\"dataframe\">\n",
       "  <thead>\n",
       "    <tr style=\"text-align: right;\">\n",
       "      <th></th>\n",
       "      <th>person_age</th>\n",
       "      <th>person_income</th>\n",
       "      <th>person_home_ownership</th>\n",
       "      <th>person_emp_length</th>\n",
       "      <th>loan_intent</th>\n",
       "      <th>loan_grade</th>\n",
       "      <th>loan_amnt</th>\n",
       "      <th>loan_int_rate</th>\n",
       "      <th>loan_status</th>\n",
       "      <th>loan_percent_income</th>\n",
       "      <th>cb_person_default_on_file</th>\n",
       "      <th>cb_person_cred_hist_length</th>\n",
       "      <th>person_emp_length_nan</th>\n",
       "      <th>loan_int_rate_nan</th>\n",
       "    </tr>\n",
       "  </thead>\n",
       "  <tbody>\n",
       "    <tr>\n",
       "      <th>1</th>\n",
       "      <td>21</td>\n",
       "      <td>9600</td>\n",
       "      <td>OWN</td>\n",
       "      <td>5.0</td>\n",
       "      <td>EDUCATION</td>\n",
       "      <td>B</td>\n",
       "      <td>1000</td>\n",
       "      <td>11.14</td>\n",
       "      <td>0</td>\n",
       "      <td>0.10</td>\n",
       "      <td>N</td>\n",
       "      <td>2</td>\n",
       "      <td>5.0</td>\n",
       "      <td>11.14</td>\n",
       "    </tr>\n",
       "    <tr>\n",
       "      <th>2</th>\n",
       "      <td>25</td>\n",
       "      <td>9600</td>\n",
       "      <td>MORTGAGE</td>\n",
       "      <td>1.0</td>\n",
       "      <td>MEDICAL</td>\n",
       "      <td>C</td>\n",
       "      <td>5500</td>\n",
       "      <td>12.87</td>\n",
       "      <td>1</td>\n",
       "      <td>0.57</td>\n",
       "      <td>N</td>\n",
       "      <td>3</td>\n",
       "      <td>1.0</td>\n",
       "      <td>12.87</td>\n",
       "    </tr>\n",
       "    <tr>\n",
       "      <th>3</th>\n",
       "      <td>23</td>\n",
       "      <td>65500</td>\n",
       "      <td>RENT</td>\n",
       "      <td>4.0</td>\n",
       "      <td>MEDICAL</td>\n",
       "      <td>C</td>\n",
       "      <td>35000</td>\n",
       "      <td>15.23</td>\n",
       "      <td>1</td>\n",
       "      <td>0.53</td>\n",
       "      <td>N</td>\n",
       "      <td>2</td>\n",
       "      <td>4.0</td>\n",
       "      <td>15.23</td>\n",
       "    </tr>\n",
       "    <tr>\n",
       "      <th>4</th>\n",
       "      <td>24</td>\n",
       "      <td>54400</td>\n",
       "      <td>RENT</td>\n",
       "      <td>8.0</td>\n",
       "      <td>MEDICAL</td>\n",
       "      <td>C</td>\n",
       "      <td>35000</td>\n",
       "      <td>14.27</td>\n",
       "      <td>1</td>\n",
       "      <td>0.55</td>\n",
       "      <td>Y</td>\n",
       "      <td>4</td>\n",
       "      <td>8.0</td>\n",
       "      <td>14.27</td>\n",
       "    </tr>\n",
       "    <tr>\n",
       "      <th>5</th>\n",
       "      <td>21</td>\n",
       "      <td>9900</td>\n",
       "      <td>OWN</td>\n",
       "      <td>2.0</td>\n",
       "      <td>VENTURE</td>\n",
       "      <td>A</td>\n",
       "      <td>2500</td>\n",
       "      <td>7.14</td>\n",
       "      <td>1</td>\n",
       "      <td>0.25</td>\n",
       "      <td>N</td>\n",
       "      <td>2</td>\n",
       "      <td>2.0</td>\n",
       "      <td>7.14</td>\n",
       "    </tr>\n",
       "  </tbody>\n",
       "</table>\n",
       "</div>"
      ],
      "text/plain": [
       "   person_age  person_income person_home_ownership  person_emp_length  \\\n",
       "1          21           9600                   OWN                5.0   \n",
       "2          25           9600              MORTGAGE                1.0   \n",
       "3          23          65500                  RENT                4.0   \n",
       "4          24          54400                  RENT                8.0   \n",
       "5          21           9900                   OWN                2.0   \n",
       "\n",
       "  loan_intent loan_grade  loan_amnt  loan_int_rate  loan_status  \\\n",
       "1   EDUCATION          B       1000          11.14            0   \n",
       "2     MEDICAL          C       5500          12.87            1   \n",
       "3     MEDICAL          C      35000          15.23            1   \n",
       "4     MEDICAL          C      35000          14.27            1   \n",
       "5     VENTURE          A       2500           7.14            1   \n",
       "\n",
       "   loan_percent_income cb_person_default_on_file  cb_person_cred_hist_length  \\\n",
       "1                 0.10                         N                           2   \n",
       "2                 0.57                         N                           3   \n",
       "3                 0.53                         N                           2   \n",
       "4                 0.55                         Y                           4   \n",
       "5                 0.25                         N                           2   \n",
       "\n",
       "   person_emp_length_nan  loan_int_rate_nan  \n",
       "1                    5.0              11.14  \n",
       "2                    1.0              12.87  \n",
       "3                    4.0              15.23  \n",
       "4                    8.0              14.27  \n",
       "5                    2.0               7.14  "
      ]
     },
     "execution_count": 31,
     "metadata": {},
     "output_type": "execute_result"
    }
   ],
   "source": [
    "data = data.drop(list_drop_emp_length, axis=0)\n",
    "data.head()"
   ]
  },
  {
   "cell_type": "code",
   "execution_count": 32,
   "metadata": {
    "execution": {
     "iopub.execute_input": "2021-09-20T02:48:44.593828Z",
     "iopub.status.busy": "2021-09-20T02:48:44.592944Z",
     "iopub.status.idle": "2021-09-20T02:48:44.678706Z",
     "shell.execute_reply": "2021-09-20T02:48:44.677646Z",
     "shell.execute_reply.started": "2021-09-20T02:48:44.593585Z"
    },
    "tags": []
   },
   "outputs": [
    {
     "data": {
      "text/html": [
       "<div>\n",
       "<style scoped>\n",
       "    .dataframe tbody tr th:only-of-type {\n",
       "        vertical-align: middle;\n",
       "    }\n",
       "\n",
       "    .dataframe tbody tr th {\n",
       "        vertical-align: top;\n",
       "    }\n",
       "\n",
       "    .dataframe thead th {\n",
       "        text-align: right;\n",
       "    }\n",
       "</style>\n",
       "<table border=\"1\" class=\"dataframe\">\n",
       "  <thead>\n",
       "    <tr style=\"text-align: right;\">\n",
       "      <th></th>\n",
       "      <th>person_age</th>\n",
       "      <th>person_income</th>\n",
       "      <th>person_emp_length</th>\n",
       "      <th>loan_amnt</th>\n",
       "      <th>loan_int_rate</th>\n",
       "      <th>loan_status</th>\n",
       "      <th>loan_percent_income</th>\n",
       "      <th>cb_person_cred_hist_length</th>\n",
       "      <th>person_emp_length_nan</th>\n",
       "      <th>loan_int_rate_nan</th>\n",
       "    </tr>\n",
       "  </thead>\n",
       "  <tbody>\n",
       "    <tr>\n",
       "      <th>count</th>\n",
       "      <td>32406.00</td>\n",
       "      <td>32406.00</td>\n",
       "      <td>31519.00</td>\n",
       "      <td>32406.00</td>\n",
       "      <td>29313.00</td>\n",
       "      <td>32406.00</td>\n",
       "      <td>32406.00</td>\n",
       "      <td>32406.00</td>\n",
       "      <td>32406.00</td>\n",
       "      <td>32406.00</td>\n",
       "    </tr>\n",
       "    <tr>\n",
       "      <th>mean</th>\n",
       "      <td>27.73</td>\n",
       "      <td>65894.74</td>\n",
       "      <td>4.78</td>\n",
       "      <td>9592.66</td>\n",
       "      <td>11.02</td>\n",
       "      <td>0.22</td>\n",
       "      <td>0.17</td>\n",
       "      <td>5.81</td>\n",
       "      <td>4.76</td>\n",
       "      <td>11.01</td>\n",
       "    </tr>\n",
       "    <tr>\n",
       "      <th>std</th>\n",
       "      <td>6.19</td>\n",
       "      <td>52519.54</td>\n",
       "      <td>4.04</td>\n",
       "      <td>6321.13</td>\n",
       "      <td>3.24</td>\n",
       "      <td>0.41</td>\n",
       "      <td>0.11</td>\n",
       "      <td>4.05</td>\n",
       "      <td>3.98</td>\n",
       "      <td>3.08</td>\n",
       "    </tr>\n",
       "    <tr>\n",
       "      <th>min</th>\n",
       "      <td>20.00</td>\n",
       "      <td>4000.00</td>\n",
       "      <td>0.00</td>\n",
       "      <td>500.00</td>\n",
       "      <td>5.42</td>\n",
       "      <td>0.00</td>\n",
       "      <td>0.00</td>\n",
       "      <td>2.00</td>\n",
       "      <td>0.00</td>\n",
       "      <td>5.42</td>\n",
       "    </tr>\n",
       "    <tr>\n",
       "      <th>25%</th>\n",
       "      <td>23.00</td>\n",
       "      <td>38500.00</td>\n",
       "      <td>2.00</td>\n",
       "      <td>5000.00</td>\n",
       "      <td>7.90</td>\n",
       "      <td>0.00</td>\n",
       "      <td>0.09</td>\n",
       "      <td>3.00</td>\n",
       "      <td>2.00</td>\n",
       "      <td>8.49</td>\n",
       "    </tr>\n",
       "    <tr>\n",
       "      <th>50%</th>\n",
       "      <td>26.00</td>\n",
       "      <td>55000.00</td>\n",
       "      <td>4.00</td>\n",
       "      <td>8000.00</td>\n",
       "      <td>10.99</td>\n",
       "      <td>0.00</td>\n",
       "      <td>0.15</td>\n",
       "      <td>4.00</td>\n",
       "      <td>4.00</td>\n",
       "      <td>10.99</td>\n",
       "    </tr>\n",
       "    <tr>\n",
       "      <th>75%</th>\n",
       "      <td>30.00</td>\n",
       "      <td>79200.00</td>\n",
       "      <td>7.00</td>\n",
       "      <td>12250.00</td>\n",
       "      <td>13.47</td>\n",
       "      <td>0.00</td>\n",
       "      <td>0.23</td>\n",
       "      <td>8.00</td>\n",
       "      <td>7.00</td>\n",
       "      <td>13.11</td>\n",
       "    </tr>\n",
       "    <tr>\n",
       "      <th>max</th>\n",
       "      <td>78.00</td>\n",
       "      <td>2039784.00</td>\n",
       "      <td>41.00</td>\n",
       "      <td>35000.00</td>\n",
       "      <td>23.22</td>\n",
       "      <td>1.00</td>\n",
       "      <td>0.83</td>\n",
       "      <td>30.00</td>\n",
       "      <td>41.00</td>\n",
       "      <td>23.22</td>\n",
       "    </tr>\n",
       "  </tbody>\n",
       "</table>\n",
       "</div>"
      ],
      "text/plain": [
       "      person_age person_income person_emp_length loan_amnt loan_int_rate  \\\n",
       "count   32406.00      32406.00          31519.00  32406.00      29313.00   \n",
       "mean       27.73      65894.74              4.78   9592.66         11.02   \n",
       "std         6.19      52519.54              4.04   6321.13          3.24   \n",
       "min        20.00       4000.00              0.00    500.00          5.42   \n",
       "25%        23.00      38500.00              2.00   5000.00          7.90   \n",
       "50%        26.00      55000.00              4.00   8000.00         10.99   \n",
       "75%        30.00      79200.00              7.00  12250.00         13.47   \n",
       "max        78.00    2039784.00             41.00  35000.00         23.22   \n",
       "\n",
       "      loan_status loan_percent_income cb_person_cred_hist_length  \\\n",
       "count    32406.00            32406.00                   32406.00   \n",
       "mean         0.22                0.17                       5.81   \n",
       "std          0.41                0.11                       4.05   \n",
       "min          0.00                0.00                       2.00   \n",
       "25%          0.00                0.09                       3.00   \n",
       "50%          0.00                0.15                       4.00   \n",
       "75%          0.00                0.23                       8.00   \n",
       "max          1.00                0.83                      30.00   \n",
       "\n",
       "      person_emp_length_nan loan_int_rate_nan  \n",
       "count              32406.00          32406.00  \n",
       "mean                   4.76             11.01  \n",
       "std                    3.98              3.08  \n",
       "min                    0.00              5.42  \n",
       "25%                    2.00              8.49  \n",
       "50%                    4.00             10.99  \n",
       "75%                    7.00             13.11  \n",
       "max                   41.00             23.22  "
      ]
     },
     "execution_count": 32,
     "metadata": {},
     "output_type": "execute_result"
    }
   ],
   "source": [
    "pd.options.display.max_rows = 1000\n",
    "data.describe(include='number').transpose().apply(lambda s: s.apply('{0:.2f}'.format)).T"
   ]
  },
  {
   "cell_type": "code",
   "execution_count": 33,
   "metadata": {
    "execution": {
     "iopub.execute_input": "2021-09-20T02:48:44.681563Z",
     "iopub.status.busy": "2021-09-20T02:48:44.680730Z",
     "iopub.status.idle": "2021-09-20T02:48:48.649999Z",
     "shell.execute_reply": "2021-09-20T02:48:48.646295Z",
     "shell.execute_reply.started": "2021-09-20T02:48:44.681524Z"
    },
    "tags": []
   },
   "outputs": [
    {
     "data": {
      "image/png": "[encoded data removed]",
      "text/plain": [
       "<Figure size 864x1152 with 7 Axes>"
      ]
     },
     "metadata": {
      "needs_background": "light"
     },
     "output_type": "display_data"
    }
   ],
   "source": [
    "\n",
    "num_cols_hist = data[continuous_features]\n",
    "plt.figure(figsize=(12,16))\n",
    "\n",
    "for i, col in enumerate(num_cols_hist.columns):\n",
    "    idx = int('42'+ str(i+1))\n",
    "    plt.subplot(idx)\n",
    "    sns.distplot(num_cols_hist[col], color='blue', \n",
    "                 kde_kws={'color': 'indianred', 'lw': 2, 'label': 'KDE'})\n",
    "    plt.title(col+' distribution after drop', fontsize=14)\n",
    "    plt.ylabel('Probablity', fontsize=12)\n",
    "    plt.xlabel(col, fontsize=12)\n",
    "    plt.xticks(fontsize=12)\n",
    "    plt.yticks(fontsize=12)\n",
    "    plt.legend(['KDE'], prop={\"size\":12})\n",
    "\n",
    "plt.subplots_adjust(top=0.92, bottom=0.08, left=0.10, right=0.95, hspace=0.35,\n",
    "                    wspace=0.35)\n",
    "plt.show()"
   ]
  },
  {
   "cell_type": "markdown",
   "metadata": {},
   "source": [
    "## Dummy Variable"
   ]
  },
  {
   "cell_type": "code",
   "execution_count": 34,
   "metadata": {
    "execution": {
     "iopub.execute_input": "2021-09-20T02:48:48.659935Z",
     "iopub.status.busy": "2021-09-20T02:48:48.654308Z",
     "iopub.status.idle": "2021-09-20T02:48:48.745512Z",
     "shell.execute_reply": "2021-09-20T02:48:48.743256Z",
     "shell.execute_reply.started": "2021-09-20T02:48:48.659881Z"
    },
    "tags": []
   },
   "outputs": [],
   "source": [
    "data = pd.concat([data,pd.get_dummies(data[nominal_features],\n",
    "                               drop_first=True)], axis=1).reset_index(drop=True)"
   ]
  },
  {
   "cell_type": "code",
   "execution_count": 35,
   "metadata": {
    "execution": {
     "iopub.execute_input": "2021-09-20T02:48:48.761880Z",
     "iopub.status.busy": "2021-09-20T02:48:48.757913Z",
     "iopub.status.idle": "2021-09-20T02:48:48.822272Z",
     "shell.execute_reply": "2021-09-20T02:48:48.817776Z",
     "shell.execute_reply.started": "2021-09-20T02:48:48.761833Z"
    }
   },
   "outputs": [
    {
     "data": {
      "text/html": [
       "<div>\n",
       "<style scoped>\n",
       "    .dataframe tbody tr th:only-of-type {\n",
       "        vertical-align: middle;\n",
       "    }\n",
       "\n",
       "    .dataframe tbody tr th {\n",
       "        vertical-align: top;\n",
       "    }\n",
       "\n",
       "    .dataframe thead th {\n",
       "        text-align: right;\n",
       "    }\n",
       "</style>\n",
       "<table border=\"1\" class=\"dataframe\">\n",
       "  <thead>\n",
       "    <tr style=\"text-align: right;\">\n",
       "      <th></th>\n",
       "      <th>person_age</th>\n",
       "      <th>person_income</th>\n",
       "      <th>person_home_ownership</th>\n",
       "      <th>person_emp_length</th>\n",
       "      <th>loan_intent</th>\n",
       "      <th>loan_grade</th>\n",
       "      <th>loan_amnt</th>\n",
       "      <th>loan_int_rate</th>\n",
       "      <th>loan_status</th>\n",
       "      <th>loan_percent_income</th>\n",
       "      <th>cb_person_default_on_file</th>\n",
       "      <th>cb_person_cred_hist_length</th>\n",
       "      <th>person_emp_length_nan</th>\n",
       "      <th>loan_int_rate_nan</th>\n",
       "      <th>person_home_ownership_OTHER</th>\n",
       "      <th>person_home_ownership_OWN</th>\n",
       "      <th>person_home_ownership_RENT</th>\n",
       "      <th>loan_intent_EDUCATION</th>\n",
       "      <th>loan_intent_HOMEIMPROVEMENT</th>\n",
       "      <th>loan_intent_MEDICAL</th>\n",
       "      <th>loan_intent_PERSONAL</th>\n",
       "      <th>loan_intent_VENTURE</th>\n",
       "      <th>loan_grade_B</th>\n",
       "      <th>loan_grade_C</th>\n",
       "      <th>loan_grade_D</th>\n",
       "      <th>loan_grade_E</th>\n",
       "      <th>loan_grade_F</th>\n",
       "      <th>loan_grade_G</th>\n",
       "      <th>cb_person_default_on_file_Y</th>\n",
       "    </tr>\n",
       "  </thead>\n",
       "  <tbody>\n",
       "    <tr>\n",
       "      <th>0</th>\n",
       "      <td>21</td>\n",
       "      <td>9600</td>\n",
       "      <td>OWN</td>\n",
       "      <td>5.0</td>\n",
       "      <td>EDUCATION</td>\n",
       "      <td>B</td>\n",
       "      <td>1000</td>\n",
       "      <td>11.14</td>\n",
       "      <td>0</td>\n",
       "      <td>0.10</td>\n",
       "      <td>N</td>\n",
       "      <td>2</td>\n",
       "      <td>5.0</td>\n",
       "      <td>11.14</td>\n",
       "      <td>0</td>\n",
       "      <td>1</td>\n",
       "      <td>0</td>\n",
       "      <td>1</td>\n",
       "      <td>0</td>\n",
       "      <td>0</td>\n",
       "      <td>0</td>\n",
       "      <td>0</td>\n",
       "      <td>1</td>\n",
       "      <td>0</td>\n",
       "      <td>0</td>\n",
       "      <td>0</td>\n",
       "      <td>0</td>\n",
       "      <td>0</td>\n",
       "      <td>0</td>\n",
       "    </tr>\n",
       "    <tr>\n",
       "      <th>1</th>\n",
       "      <td>25</td>\n",
       "      <td>9600</td>\n",
       "      <td>MORTGAGE</td>\n",
       "      <td>1.0</td>\n",
       "      <td>MEDICAL</td>\n",
       "      <td>C</td>\n",
       "      <td>5500</td>\n",
       "      <td>12.87</td>\n",
       "      <td>1</td>\n",
       "      <td>0.57</td>\n",
       "      <td>N</td>\n",
       "      <td>3</td>\n",
       "      <td>1.0</td>\n",
       "      <td>12.87</td>\n",
       "      <td>0</td>\n",
       "      <td>0</td>\n",
       "      <td>0</td>\n",
       "      <td>0</td>\n",
       "      <td>0</td>\n",
       "      <td>1</td>\n",
       "      <td>0</td>\n",
       "      <td>0</td>\n",
       "      <td>0</td>\n",
       "      <td>1</td>\n",
       "      <td>0</td>\n",
       "      <td>0</td>\n",
       "      <td>0</td>\n",
       "      <td>0</td>\n",
       "      <td>0</td>\n",
       "    </tr>\n",
       "    <tr>\n",
       "      <th>2</th>\n",
       "      <td>23</td>\n",
       "      <td>65500</td>\n",
       "      <td>RENT</td>\n",
       "      <td>4.0</td>\n",
       "      <td>MEDICAL</td>\n",
       "      <td>C</td>\n",
       "      <td>35000</td>\n",
       "      <td>15.23</td>\n",
       "      <td>1</td>\n",
       "      <td>0.53</td>\n",
       "      <td>N</td>\n",
       "      <td>2</td>\n",
       "      <td>4.0</td>\n",
       "      <td>15.23</td>\n",
       "      <td>0</td>\n",
       "      <td>0</td>\n",
       "      <td>1</td>\n",
       "      <td>0</td>\n",
       "      <td>0</td>\n",
       "      <td>1</td>\n",
       "      <td>0</td>\n",
       "      <td>0</td>\n",
       "      <td>0</td>\n",
       "      <td>1</td>\n",
       "      <td>0</td>\n",
       "      <td>0</td>\n",
       "      <td>0</td>\n",
       "      <td>0</td>\n",
       "      <td>0</td>\n",
       "    </tr>\n",
       "    <tr>\n",
       "      <th>3</th>\n",
       "      <td>24</td>\n",
       "      <td>54400</td>\n",
       "      <td>RENT</td>\n",
       "      <td>8.0</td>\n",
       "      <td>MEDICAL</td>\n",
       "      <td>C</td>\n",
       "      <td>35000</td>\n",
       "      <td>14.27</td>\n",
       "      <td>1</td>\n",
       "      <td>0.55</td>\n",
       "      <td>Y</td>\n",
       "      <td>4</td>\n",
       "      <td>8.0</td>\n",
       "      <td>14.27</td>\n",
       "      <td>0</td>\n",
       "      <td>0</td>\n",
       "      <td>1</td>\n",
       "      <td>0</td>\n",
       "      <td>0</td>\n",
       "      <td>1</td>\n",
       "      <td>0</td>\n",
       "      <td>0</td>\n",
       "      <td>0</td>\n",
       "      <td>1</td>\n",
       "      <td>0</td>\n",
       "      <td>0</td>\n",
       "      <td>0</td>\n",
       "      <td>0</td>\n",
       "      <td>1</td>\n",
       "    </tr>\n",
       "    <tr>\n",
       "      <th>4</th>\n",
       "      <td>21</td>\n",
       "      <td>9900</td>\n",
       "      <td>OWN</td>\n",
       "      <td>2.0</td>\n",
       "      <td>VENTURE</td>\n",
       "      <td>A</td>\n",
       "      <td>2500</td>\n",
       "      <td>7.14</td>\n",
       "      <td>1</td>\n",
       "      <td>0.25</td>\n",
       "      <td>N</td>\n",
       "      <td>2</td>\n",
       "      <td>2.0</td>\n",
       "      <td>7.14</td>\n",
       "      <td>0</td>\n",
       "      <td>1</td>\n",
       "      <td>0</td>\n",
       "      <td>0</td>\n",
       "      <td>0</td>\n",
       "      <td>0</td>\n",
       "      <td>0</td>\n",
       "      <td>1</td>\n",
       "      <td>0</td>\n",
       "      <td>0</td>\n",
       "      <td>0</td>\n",
       "      <td>0</td>\n",
       "      <td>0</td>\n",
       "      <td>0</td>\n",
       "      <td>0</td>\n",
       "    </tr>\n",
       "  </tbody>\n",
       "</table>\n",
       "</div>"
      ],
      "text/plain": [
       "   person_age  person_income person_home_ownership  person_emp_length  \\\n",
       "0          21           9600                   OWN                5.0   \n",
       "1          25           9600              MORTGAGE                1.0   \n",
       "2          23          65500                  RENT                4.0   \n",
       "3          24          54400                  RENT                8.0   \n",
       "4          21           9900                   OWN                2.0   \n",
       "\n",
       "  loan_intent loan_grade  loan_amnt  loan_int_rate  loan_status  \\\n",
       "0   EDUCATION          B       1000          11.14            0   \n",
       "1     MEDICAL          C       5500          12.87            1   \n",
       "2     MEDICAL          C      35000          15.23            1   \n",
       "3     MEDICAL          C      35000          14.27            1   \n",
       "4     VENTURE          A       2500           7.14            1   \n",
       "\n",
       "   loan_percent_income cb_person_default_on_file  cb_person_cred_hist_length  \\\n",
       "0                 0.10                         N                           2   \n",
       "1                 0.57                         N                           3   \n",
       "2                 0.53                         N                           2   \n",
       "3                 0.55                         Y                           4   \n",
       "4                 0.25                         N                           2   \n",
       "\n",
       "   person_emp_length_nan  loan_int_rate_nan  person_home_ownership_OTHER  \\\n",
       "0                    5.0              11.14                            0   \n",
       "1                    1.0              12.87                            0   \n",
       "2                    4.0              15.23                            0   \n",
       "3                    8.0              14.27                            0   \n",
       "4                    2.0               7.14                            0   \n",
       "\n",
       "   person_home_ownership_OWN  person_home_ownership_RENT  \\\n",
       "0                          1                           0   \n",
       "1                          0                           0   \n",
       "2                          0                           1   \n",
       "3                          0                           1   \n",
       "4                          1                           0   \n",
       "\n",
       "   loan_intent_EDUCATION  loan_intent_HOMEIMPROVEMENT  loan_intent_MEDICAL  \\\n",
       "0                      1                            0                    0   \n",
       "1                      0                            0                    1   \n",
       "2                      0                            0                    1   \n",
       "3                      0                            0                    1   \n",
       "4                      0                            0                    0   \n",
       "\n",
       "   loan_intent_PERSONAL  loan_intent_VENTURE  loan_grade_B  loan_grade_C  \\\n",
       "0                     0                    0             1             0   \n",
       "1                     0                    0             0             1   \n",
       "2                     0                    0             0             1   \n",
       "3                     0                    0             0             1   \n",
       "4                     0                    1             0             0   \n",
       "\n",
       "   loan_grade_D  loan_grade_E  loan_grade_F  loan_grade_G  \\\n",
       "0             0             0             0             0   \n",
       "1             0             0             0             0   \n",
       "2             0             0             0             0   \n",
       "3             0             0             0             0   \n",
       "4             0             0             0             0   \n",
       "\n",
       "   cb_person_default_on_file_Y  \n",
       "0                            0  \n",
       "1                            0  \n",
       "2                            0  \n",
       "3                            1  \n",
       "4                            0  "
      ]
     },
     "execution_count": 35,
     "metadata": {},
     "output_type": "execute_result"
    }
   ],
   "source": [
    "data.head()"
   ]
  },
  {
   "cell_type": "code",
   "execution_count": 36,
   "metadata": {
    "execution": {
     "iopub.execute_input": "2021-09-20T02:48:48.824130Z",
     "iopub.status.busy": "2021-09-20T02:48:48.823619Z",
     "iopub.status.idle": "2021-09-20T02:48:48.895163Z",
     "shell.execute_reply": "2021-09-20T02:48:48.892768Z",
     "shell.execute_reply.started": "2021-09-20T02:48:48.824093Z"
    }
   },
   "outputs": [
    {
     "name": "stdout",
     "output_type": "stream",
     "text": [
      "<class 'pandas.core.frame.DataFrame'>\n",
      "RangeIndex: 32406 entries, 0 to 32405\n",
      "Data columns (total 29 columns):\n",
      " #   Column                       Non-Null Count  Dtype  \n",
      "---  ------                       --------------  -----  \n",
      " 0   person_age                   32406 non-null  int64  \n",
      " 1   person_income                32406 non-null  int64  \n",
      " 2   person_home_ownership        32406 non-null  object \n",
      " 3   person_emp_length            31519 non-null  float64\n",
      " 4   loan_intent                  32406 non-null  object \n",
      " 5   loan_grade                   32406 non-null  object \n",
      " 6   loan_amnt                    32406 non-null  int64  \n",
      " 7   loan_int_rate                29313 non-null  float64\n",
      " 8   loan_status                  32406 non-null  int64  \n",
      " 9   loan_percent_income          32406 non-null  float64\n",
      " 10  cb_person_default_on_file    32406 non-null  object \n",
      " 11  cb_person_cred_hist_length   32406 non-null  int64  \n",
      " 12  person_emp_length_nan        32406 non-null  float64\n",
      " 13  loan_int_rate_nan            32406 non-null  float64\n",
      " 14  person_home_ownership_OTHER  32406 non-null  uint8  \n",
      " 15  person_home_ownership_OWN    32406 non-null  uint8  \n",
      " 16  person_home_ownership_RENT   32406 non-null  uint8  \n",
      " 17  loan_intent_EDUCATION        32406 non-null  uint8  \n",
      " 18  loan_intent_HOMEIMPROVEMENT  32406 non-null  uint8  \n",
      " 19  loan_intent_MEDICAL          32406 non-null  uint8  \n",
      " 20  loan_intent_PERSONAL         32406 non-null  uint8  \n",
      " 21  loan_intent_VENTURE          32406 non-null  uint8  \n",
      " 22  loan_grade_B                 32406 non-null  uint8  \n",
      " 23  loan_grade_C                 32406 non-null  uint8  \n",
      " 24  loan_grade_D                 32406 non-null  uint8  \n",
      " 25  loan_grade_E                 32406 non-null  uint8  \n",
      " 26  loan_grade_F                 32406 non-null  uint8  \n",
      " 27  loan_grade_G                 32406 non-null  uint8  \n",
      " 28  cb_person_default_on_file_Y  32406 non-null  uint8  \n",
      "dtypes: float64(5), int64(5), object(4), uint8(15)\n",
      "memory usage: 3.9+ MB\n"
     ]
    }
   ],
   "source": [
    "data.info()"
   ]
  },
  {
   "cell_type": "markdown",
   "metadata": {
    "execution": {
     "iopub.execute_input": "2021-09-10T03:41:51.355893Z",
     "iopub.status.busy": "2021-09-10T03:41:51.355662Z",
     "iopub.status.idle": "2021-09-10T03:41:51.360082Z",
     "shell.execute_reply": "2021-09-10T03:41:51.358489Z",
     "shell.execute_reply.started": "2021-09-10T03:41:51.355870Z"
    }
   },
   "source": [
    "## Handling Outliers"
   ]
  },
  {
   "cell_type": "code",
   "execution_count": null,
   "metadata": {},
   "outputs": [],
   "source": []
  },
  {
   "cell_type": "markdown",
   "metadata": {
    "execution": {
     "iopub.execute_input": "2021-09-10T03:42:04.457073Z",
     "iopub.status.busy": "2021-09-10T03:42:04.456854Z",
     "iopub.status.idle": "2021-09-10T03:42:04.459677Z",
     "shell.execute_reply": "2021-09-10T03:42:04.458939Z",
     "shell.execute_reply.started": "2021-09-10T03:42:04.457051Z"
    }
   },
   "source": [
    "## WOE"
   ]
  },
  {
   "cell_type": "code",
   "execution_count": 37,
   "metadata": {
    "execution": {
     "iopub.execute_input": "2021-09-20T02:48:48.908549Z",
     "iopub.status.busy": "2021-09-20T02:48:48.896474Z",
     "iopub.status.idle": "2021-09-20T02:48:54.474167Z",
     "shell.execute_reply": "2021-09-20T02:48:54.472437Z",
     "shell.execute_reply.started": "2021-09-20T02:48:48.908509Z"
    }
   },
   "outputs": [
    {
     "data": {
      "image/png": "[encoded data removed]",
      "text/plain": [
       "<Figure size 432x216 with 2 Axes>"
      ]
     },
     "metadata": {
      "needs_background": "light"
     },
     "output_type": "display_data"
    },
    {
     "data": {
      "image/png": "[encoded data removed]",
      "text/plain": [
       "<Figure size 432x216 with 2 Axes>"
      ]
     },
     "metadata": {
      "needs_background": "light"
     },
     "output_type": "display_data"
    },
    {
     "data": {
      "image/png": "[encoded data removed]",
      "text/plain": [
       "<Figure size 432x216 with 2 Axes>"
      ]
     },
     "metadata": {
      "needs_background": "light"
     },
     "output_type": "display_data"
    },
    {
     "data": {
      "image/png": "[encoded data removed]",
      "text/plain": [
       "<Figure size 432x216 with 2 Axes>"
      ]
     },
     "metadata": {
      "needs_background": "light"
     },
     "output_type": "display_data"
    },
    {
     "data": {
      "image/png": "[encoded data removed]",
      "text/plain": [
       "<Figure size 432x216 with 2 Axes>"
      ]
     },
     "metadata": {
      "needs_background": "light"
     },
     "output_type": "display_data"
    },
    {
     "data": {
      "image/png": "[encoded data removed]",
      "text/plain": [
       "<Figure size 432x216 with 2 Axes>"
      ]
     },
     "metadata": {
      "needs_background": "light"
     },
     "output_type": "display_data"
    },
    {
     "data": {
      "image/png": "[encoded data removed]",
      "text/plain": [
       "<Figure size 432x216 with 2 Axes>"
      ]
     },
     "metadata": {
      "needs_background": "light"
     },
     "output_type": "display_data"
    }
   ],
   "source": [
    "for i in continuous_features:\n",
    "    g = sns.FacetGrid(data[data[target].notnull()], col=target)\n",
    "    g.map(plt.hist, i, bins=20)"
   ]
  },
  {
   "cell_type": "code",
   "execution_count": 38,
   "metadata": {
    "execution": {
     "iopub.execute_input": "2021-09-20T02:48:54.482395Z",
     "iopub.status.busy": "2021-09-20T02:48:54.476631Z",
     "iopub.status.idle": "2021-09-20T02:48:54.520566Z",
     "shell.execute_reply": "2021-09-20T02:48:54.516460Z",
     "shell.execute_reply.started": "2021-09-20T02:48:54.482338Z"
    },
    "tags": []
   },
   "outputs": [
    {
     "data": {
      "text/plain": [
       "['person_age',\n",
       " 'person_income',\n",
       " 'person_emp_length',\n",
       " 'loan_int_rate',\n",
       " 'loan_percent_income',\n",
       " 'cb_person_cred_hist_length',\n",
       " 'loan_amnt']"
      ]
     },
     "execution_count": 38,
     "metadata": {},
     "output_type": "execute_result"
    }
   ],
   "source": [
    "continuous_features"
   ]
  },
  {
   "cell_type": "code",
   "execution_count": 39,
   "metadata": {
    "execution": {
     "iopub.execute_input": "2021-09-20T02:48:54.524518Z",
     "iopub.status.busy": "2021-09-20T02:48:54.522870Z",
     "iopub.status.idle": "2021-09-20T02:48:54.898643Z",
     "shell.execute_reply": "2021-09-20T02:48:54.896215Z",
     "shell.execute_reply.started": "2021-09-20T02:48:54.524474Z"
    },
    "tags": []
   },
   "outputs": [
    {
     "data": {
      "text/html": [
       "<div>\n",
       "<style scoped>\n",
       "    .dataframe tbody tr th:only-of-type {\n",
       "        vertical-align: middle;\n",
       "    }\n",
       "\n",
       "    .dataframe tbody tr th {\n",
       "        vertical-align: top;\n",
       "    }\n",
       "\n",
       "    .dataframe thead th {\n",
       "        text-align: right;\n",
       "    }\n",
       "</style>\n",
       "<table border=\"1\" class=\"dataframe\">\n",
       "  <thead>\n",
       "    <tr style=\"text-align: right;\">\n",
       "      <th>loan_status</th>\n",
       "      <th>0</th>\n",
       "      <th>1</th>\n",
       "      <th>woe</th>\n",
       "      <th>iv</th>\n",
       "    </tr>\n",
       "    <tr>\n",
       "      <th>row_0</th>\n",
       "      <th></th>\n",
       "      <th></th>\n",
       "      <th></th>\n",
       "      <th></th>\n",
       "    </tr>\n",
       "  </thead>\n",
       "  <tbody>\n",
       "    <tr>\n",
       "      <th>(-inf, 24.0]</th>\n",
       "      <td>0.370013</td>\n",
       "      <td>0.402370</td>\n",
       "      <td>0.083833</td>\n",
       "      <td>0.005179</td>\n",
       "    </tr>\n",
       "    <tr>\n",
       "      <th>(24.0, 28.0]</th>\n",
       "      <td>0.292914</td>\n",
       "      <td>0.288375</td>\n",
       "      <td>-0.015619</td>\n",
       "      <td>0.005179</td>\n",
       "    </tr>\n",
       "    <tr>\n",
       "      <th>(28.0, inf]</th>\n",
       "      <td>0.337072</td>\n",
       "      <td>0.309255</td>\n",
       "      <td>-0.086131</td>\n",
       "      <td>0.005179</td>\n",
       "    </tr>\n",
       "  </tbody>\n",
       "</table>\n",
       "</div>"
      ],
      "text/plain": [
       "loan_status          0         1       woe        iv\n",
       "row_0                                               \n",
       "(-inf, 24.0]  0.370013  0.402370  0.083833  0.005179\n",
       "(24.0, 28.0]  0.292914  0.288375 -0.015619  0.005179\n",
       "(28.0, inf]   0.337072  0.309255 -0.086131  0.005179"
      ]
     },
     "metadata": {},
     "output_type": "display_data"
    }
   ],
   "source": [
    "feature = 'person_age'\n",
    "b=[-float(\"inf\"),  24, 28, float(\"inf\")]\n",
    "feature = feature\n",
    "binning = b\n",
    "\n",
    "bin_feature = pd.cut(data[feature], bins=binning).values.add_categories('Nan').fillna('Nan')\n",
    "data_woe_iv = (pd.crosstab(bin_feature,data[target],normalize='columns')\n",
    "             .assign(woe=lambda datax: np.log(datax[1] / datax[0]))\n",
    "             .assign(iv=lambda datax: np.sum(datax['woe']*\n",
    "                                           (datax[1]-datax[0]))))\n",
    "\n",
    "display(data_woe_iv)"
   ]
  },
  {
   "cell_type": "code",
   "execution_count": 40,
   "metadata": {
    "execution": {
     "iopub.execute_input": "2021-09-20T02:48:54.934124Z",
     "iopub.status.busy": "2021-09-20T02:48:54.933784Z",
     "iopub.status.idle": "2021-09-20T02:48:54.954735Z",
     "shell.execute_reply": "2021-09-20T02:48:54.949766Z",
     "shell.execute_reply.started": "2021-09-20T02:48:54.934091Z"
    },
    "tags": []
   },
   "outputs": [],
   "source": [
    "data[f'{feature}_WOE'] = pd.cut(data[feature], bins=binning, labels=[0.0802, -0.015, -0.008])\n",
    "data[f'{feature}_WOE'] = data[f'{feature}_WOE'].values.add_categories('Nan').fillna('Nan') \n",
    "data[f'{feature}_WOE'] = data[f'{feature}_WOE'].replace('Nan', 0)\n",
    "data[f'{feature}_WOE'] = data[f'{feature}_WOE'].astype(float)"
   ]
  },
  {
   "cell_type": "code",
   "execution_count": 41,
   "metadata": {
    "execution": {
     "iopub.execute_input": "2021-09-20T02:48:54.959514Z",
     "iopub.status.busy": "2021-09-20T02:48:54.958488Z",
     "iopub.status.idle": "2021-09-20T02:48:55.028066Z",
     "shell.execute_reply": "2021-09-20T02:48:55.026802Z",
     "shell.execute_reply.started": "2021-09-20T02:48:54.959471Z"
    },
    "tags": []
   },
   "outputs": [
    {
     "data": {
      "text/html": [
       "<div>\n",
       "<style scoped>\n",
       "    .dataframe tbody tr th:only-of-type {\n",
       "        vertical-align: middle;\n",
       "    }\n",
       "\n",
       "    .dataframe tbody tr th {\n",
       "        vertical-align: top;\n",
       "    }\n",
       "\n",
       "    .dataframe thead th {\n",
       "        text-align: right;\n",
       "    }\n",
       "</style>\n",
       "<table border=\"1\" class=\"dataframe\">\n",
       "  <thead>\n",
       "    <tr style=\"text-align: right;\">\n",
       "      <th>loan_status</th>\n",
       "      <th>0</th>\n",
       "      <th>1</th>\n",
       "      <th>woe</th>\n",
       "      <th>iv</th>\n",
       "    </tr>\n",
       "    <tr>\n",
       "      <th>row_0</th>\n",
       "      <th></th>\n",
       "      <th></th>\n",
       "      <th></th>\n",
       "      <th></th>\n",
       "    </tr>\n",
       "  </thead>\n",
       "  <tbody>\n",
       "    <tr>\n",
       "      <th>(-inf, 40000.0]</th>\n",
       "      <td>0.226716</td>\n",
       "      <td>0.491253</td>\n",
       "      <td>0.773260</td>\n",
       "      <td>0.388999</td>\n",
       "    </tr>\n",
       "    <tr>\n",
       "      <th>(40000.0, 44004.0]</th>\n",
       "      <td>0.045975</td>\n",
       "      <td>0.060243</td>\n",
       "      <td>0.270279</td>\n",
       "      <td>0.388999</td>\n",
       "    </tr>\n",
       "    <tr>\n",
       "      <th>(44004.0, 70000.0]</th>\n",
       "      <td>0.360139</td>\n",
       "      <td>0.283860</td>\n",
       "      <td>-0.238009</td>\n",
       "      <td>0.388999</td>\n",
       "    </tr>\n",
       "    <tr>\n",
       "      <th>(70000.0, inf]</th>\n",
       "      <td>0.367170</td>\n",
       "      <td>0.164644</td>\n",
       "      <td>-0.802035</td>\n",
       "      <td>0.388999</td>\n",
       "    </tr>\n",
       "  </tbody>\n",
       "</table>\n",
       "</div>"
      ],
      "text/plain": [
       "loan_status                0         1       woe        iv\n",
       "row_0                                                     \n",
       "(-inf, 40000.0]     0.226716  0.491253  0.773260  0.388999\n",
       "(40000.0, 44004.0]  0.045975  0.060243  0.270279  0.388999\n",
       "(44004.0, 70000.0]  0.360139  0.283860 -0.238009  0.388999\n",
       "(70000.0, inf]      0.367170  0.164644 -0.802035  0.388999"
      ]
     },
     "metadata": {},
     "output_type": "display_data"
    }
   ],
   "source": [
    "feature = 'person_income'\n",
    "b=[-float(\"inf\"),  40000, 44004, 70000, float(\"inf\")]\n",
    "feature = feature\n",
    "binning = b\n",
    "\n",
    "bin_feature = pd.cut(data[feature], bins=binning).values.add_categories('Nan').fillna('Nan')\n",
    "data_woe_iv = (pd.crosstab(bin_feature,data[target],normalize='columns')\n",
    "             .assign(woe=lambda datax: np.log(datax[1] / datax[0]))\n",
    "             .assign(iv=lambda datax: np.sum(datax['woe']*\n",
    "                                           (datax[1]-datax[0]))))\n",
    "\n",
    "display(data_woe_iv)"
   ]
  },
  {
   "cell_type": "code",
   "execution_count": 42,
   "metadata": {
    "execution": {
     "iopub.execute_input": "2021-09-20T02:48:55.032907Z",
     "iopub.status.busy": "2021-09-20T02:48:55.030860Z",
     "iopub.status.idle": "2021-09-20T02:48:55.054869Z",
     "shell.execute_reply": "2021-09-20T02:48:55.053092Z",
     "shell.execute_reply.started": "2021-09-20T02:48:55.032861Z"
    },
    "tags": []
   },
   "outputs": [],
   "source": [
    "data[f'{feature}_WOE'] = pd.cut(data[feature], bins=binning, labels=[0.773, 0.265, -0.2391, -0.802])\n",
    "data[f'{feature}_WOE'] = data[f'{feature}_WOE'].values.add_categories('Nan').fillna('Nan') \n",
    "data[f'{feature}_WOE'] = data[f'{feature}_WOE'].replace('Nan', 0)\n",
    "data[f'{feature}_WOE'] = data[f'{feature}_WOE'].astype(float)"
   ]
  },
  {
   "cell_type": "code",
   "execution_count": 43,
   "metadata": {
    "execution": {
     "iopub.execute_input": "2021-09-20T02:48:55.060930Z",
     "iopub.status.busy": "2021-09-20T02:48:55.059223Z",
     "iopub.status.idle": "2021-09-20T02:48:55.135586Z",
     "shell.execute_reply": "2021-09-20T02:48:55.133136Z",
     "shell.execute_reply.started": "2021-09-20T02:48:55.060874Z"
    },
    "tags": []
   },
   "outputs": [
    {
     "data": {
      "text/html": [
       "<div>\n",
       "<style scoped>\n",
       "    .dataframe tbody tr th:only-of-type {\n",
       "        vertical-align: middle;\n",
       "    }\n",
       "\n",
       "    .dataframe tbody tr th {\n",
       "        vertical-align: top;\n",
       "    }\n",
       "\n",
       "    .dataframe thead th {\n",
       "        text-align: right;\n",
       "    }\n",
       "</style>\n",
       "<table border=\"1\" class=\"dataframe\">\n",
       "  <thead>\n",
       "    <tr style=\"text-align: right;\">\n",
       "      <th>loan_status</th>\n",
       "      <th>0</th>\n",
       "      <th>1</th>\n",
       "      <th>woe</th>\n",
       "      <th>iv</th>\n",
       "    </tr>\n",
       "    <tr>\n",
       "      <th>row_0</th>\n",
       "      <th></th>\n",
       "      <th></th>\n",
       "      <th></th>\n",
       "      <th></th>\n",
       "    </tr>\n",
       "  </thead>\n",
       "  <tbody>\n",
       "    <tr>\n",
       "      <th>(-inf, 0.0]</th>\n",
       "      <td>0.116241</td>\n",
       "      <td>0.161258</td>\n",
       "      <td>0.327339</td>\n",
       "      <td>0.064759</td>\n",
       "    </tr>\n",
       "    <tr>\n",
       "      <th>(0.0, 2.0]</th>\n",
       "      <td>0.194960</td>\n",
       "      <td>0.252540</td>\n",
       "      <td>0.258773</td>\n",
       "      <td>0.064759</td>\n",
       "    </tr>\n",
       "    <tr>\n",
       "      <th>(2.0, 6.0]</th>\n",
       "      <td>0.376491</td>\n",
       "      <td>0.331405</td>\n",
       "      <td>-0.127552</td>\n",
       "      <td>0.064759</td>\n",
       "    </tr>\n",
       "    <tr>\n",
       "      <th>(6.0, inf]</th>\n",
       "      <td>0.288372</td>\n",
       "      <td>0.215152</td>\n",
       "      <td>-0.292905</td>\n",
       "      <td>0.064759</td>\n",
       "    </tr>\n",
       "    <tr>\n",
       "      <th>Nan</th>\n",
       "      <td>0.023936</td>\n",
       "      <td>0.039644</td>\n",
       "      <td>0.504587</td>\n",
       "      <td>0.064759</td>\n",
       "    </tr>\n",
       "  </tbody>\n",
       "</table>\n",
       "</div>"
      ],
      "text/plain": [
       "loan_status         0         1       woe        iv\n",
       "row_0                                              \n",
       "(-inf, 0.0]  0.116241  0.161258  0.327339  0.064759\n",
       "(0.0, 2.0]   0.194960  0.252540  0.258773  0.064759\n",
       "(2.0, 6.0]   0.376491  0.331405 -0.127552  0.064759\n",
       "(6.0, inf]   0.288372  0.215152 -0.292905  0.064759\n",
       "Nan          0.023936  0.039644  0.504587  0.064759"
      ]
     },
     "metadata": {},
     "output_type": "display_data"
    }
   ],
   "source": [
    "feature = 'person_emp_length'\n",
    "b=[-float(\"inf\"),  0, 2, 6, float(\"inf\")]\n",
    "feature = feature\n",
    "binning = b\n",
    "\n",
    "bin_feature = pd.cut(data[feature], bins=binning).values.add_categories('Nan').fillna('Nan')\n",
    "data_woe_iv = (pd.crosstab(bin_feature,data[target],normalize='columns')\n",
    "             .assign(woe=lambda datax: np.log(datax[1] / datax[0]))\n",
    "             .assign(iv=lambda datax: np.sum(datax['woe']*\n",
    "                                           (datax[1]-datax[0]))))\n",
    "\n",
    "display(data_woe_iv)"
   ]
  },
  {
   "cell_type": "code",
   "execution_count": 44,
   "metadata": {
    "execution": {
     "iopub.execute_input": "2021-09-20T02:48:55.138176Z",
     "iopub.status.busy": "2021-09-20T02:48:55.137102Z",
     "iopub.status.idle": "2021-09-20T02:48:55.169490Z",
     "shell.execute_reply": "2021-09-20T02:48:55.167154Z",
     "shell.execute_reply.started": "2021-09-20T02:48:55.138132Z"
    },
    "tags": []
   },
   "outputs": [],
   "source": [
    "data[f'{feature}_WOE'] = pd.cut(data[feature], bins=binning, labels=[0.329, 0.257, -0.128, -0.291])\n",
    "data[f'{feature}_WOE'] = data[f'{feature}_WOE'].values.add_categories('Nan').fillna('Nan') \n",
    "data[f'{feature}_WOE'] = data[f'{feature}_WOE'].replace('Nan', 0.499)\n",
    "data[f'{feature}_WOE'] = data[f'{feature}_WOE'].astype(float)"
   ]
  },
  {
   "cell_type": "code",
   "execution_count": 45,
   "metadata": {
    "execution": {
     "iopub.execute_input": "2021-09-20T02:48:55.173147Z",
     "iopub.status.busy": "2021-09-20T02:48:55.172221Z",
     "iopub.status.idle": "2021-09-20T02:48:55.248903Z",
     "shell.execute_reply": "2021-09-20T02:48:55.246957Z",
     "shell.execute_reply.started": "2021-09-20T02:48:55.173103Z"
    },
    "tags": []
   },
   "outputs": [
    {
     "data": {
      "text/html": [
       "<div>\n",
       "<style scoped>\n",
       "    .dataframe tbody tr th:only-of-type {\n",
       "        vertical-align: middle;\n",
       "    }\n",
       "\n",
       "    .dataframe tbody tr th {\n",
       "        vertical-align: top;\n",
       "    }\n",
       "\n",
       "    .dataframe thead th {\n",
       "        text-align: right;\n",
       "    }\n",
       "</style>\n",
       "<table border=\"1\" class=\"dataframe\">\n",
       "  <thead>\n",
       "    <tr style=\"text-align: right;\">\n",
       "      <th>loan_status</th>\n",
       "      <th>0</th>\n",
       "      <th>1</th>\n",
       "      <th>woe</th>\n",
       "      <th>iv</th>\n",
       "    </tr>\n",
       "    <tr>\n",
       "      <th>row_0</th>\n",
       "      <th></th>\n",
       "      <th></th>\n",
       "      <th></th>\n",
       "      <th></th>\n",
       "    </tr>\n",
       "  </thead>\n",
       "  <tbody>\n",
       "    <tr>\n",
       "      <th>(-inf, 5.5]</th>\n",
       "      <td>0.022040</td>\n",
       "      <td>0.004233</td>\n",
       "      <td>-1.650049</td>\n",
       "      <td>0.473154</td>\n",
       "    </tr>\n",
       "    <tr>\n",
       "      <th>(5.5, 9.3]</th>\n",
       "      <td>0.318469</td>\n",
       "      <td>0.130502</td>\n",
       "      <td>-0.892135</td>\n",
       "      <td>0.473154</td>\n",
       "    </tr>\n",
       "    <tr>\n",
       "      <th>(9.3, 12.6]</th>\n",
       "      <td>0.323169</td>\n",
       "      <td>0.233352</td>\n",
       "      <td>-0.325628</td>\n",
       "      <td>0.473154</td>\n",
       "    </tr>\n",
       "    <tr>\n",
       "      <th>(12.6, inf]</th>\n",
       "      <td>0.239474</td>\n",
       "      <td>0.541479</td>\n",
       "      <td>0.815859</td>\n",
       "      <td>0.473154</td>\n",
       "    </tr>\n",
       "    <tr>\n",
       "      <th>Nan</th>\n",
       "      <td>0.096848</td>\n",
       "      <td>0.090435</td>\n",
       "      <td>-0.068517</td>\n",
       "      <td>0.473154</td>\n",
       "    </tr>\n",
       "  </tbody>\n",
       "</table>\n",
       "</div>"
      ],
      "text/plain": [
       "loan_status         0         1       woe        iv\n",
       "row_0                                              \n",
       "(-inf, 5.5]  0.022040  0.004233 -1.650049  0.473154\n",
       "(5.5, 9.3]   0.318469  0.130502 -0.892135  0.473154\n",
       "(9.3, 12.6]  0.323169  0.233352 -0.325628  0.473154\n",
       "(12.6, inf]  0.239474  0.541479  0.815859  0.473154\n",
       "Nan          0.096848  0.090435 -0.068517  0.473154"
      ]
     },
     "metadata": {},
     "output_type": "display_data"
    }
   ],
   "source": [
    "feature = 'loan_int_rate'\n",
    "b=[-float(\"inf\"),  5.5, 9.3, 12.6, float(\"inf\")]\n",
    "feature = feature\n",
    "binning = b\n",
    "\n",
    "bin_feature = pd.cut(data[feature], bins=binning).values.add_categories('Nan').fillna('Nan')\n",
    "data_woe_iv = (pd.crosstab(bin_feature,data[target],normalize='columns')\n",
    "             .assign(woe=lambda datax: np.log(datax[1] / datax[0]))\n",
    "             .assign(iv=lambda datax: np.sum(datax['woe']*\n",
    "                                           (datax[1]-datax[0]))))\n",
    "\n",
    "display(data_woe_iv)"
   ]
  },
  {
   "cell_type": "code",
   "execution_count": 46,
   "metadata": {
    "execution": {
     "iopub.execute_input": "2021-09-20T02:48:55.258385Z",
     "iopub.status.busy": "2021-09-20T02:48:55.255527Z",
     "iopub.status.idle": "2021-09-20T02:48:55.294688Z",
     "shell.execute_reply": "2021-09-20T02:48:55.290768Z",
     "shell.execute_reply.started": "2021-09-20T02:48:55.258340Z"
    }
   },
   "outputs": [],
   "source": [
    "data[f'{feature}_WOE'] = pd.cut(data[feature], bins=binning, labels=[-0.166, -0.886, -0.327, 0.817])\n",
    "data[f'{feature}_WOE'] = data[f'{feature}_WOE'].values.add_categories('Nan').fillna('Nan') \n",
    "data[f'{feature}_WOE'] = data[f'{feature}_WOE'].replace('Nan', -0.068)\n",
    "data[f'{feature}_WOE'] = data[f'{feature}_WOE'].astype(float)"
   ]
  },
  {
   "cell_type": "code",
   "execution_count": 47,
   "metadata": {
    "execution": {
     "iopub.execute_input": "2021-09-20T02:48:55.300972Z",
     "iopub.status.busy": "2021-09-20T02:48:55.299552Z",
     "iopub.status.idle": "2021-09-20T02:48:55.351616Z",
     "shell.execute_reply": "2021-09-20T02:48:55.350827Z",
     "shell.execute_reply.started": "2021-09-20T02:48:55.300860Z"
    },
    "tags": []
   },
   "outputs": [
    {
     "data": {
      "text/html": [
       "<div>\n",
       "<style scoped>\n",
       "    .dataframe tbody tr th:only-of-type {\n",
       "        vertical-align: middle;\n",
       "    }\n",
       "\n",
       "    .dataframe tbody tr th {\n",
       "        vertical-align: top;\n",
       "    }\n",
       "\n",
       "    .dataframe thead th {\n",
       "        text-align: right;\n",
       "    }\n",
       "</style>\n",
       "<table border=\"1\" class=\"dataframe\">\n",
       "  <thead>\n",
       "    <tr style=\"text-align: right;\">\n",
       "      <th>loan_status</th>\n",
       "      <th>0</th>\n",
       "      <th>1</th>\n",
       "      <th>woe</th>\n",
       "      <th>iv</th>\n",
       "    </tr>\n",
       "    <tr>\n",
       "      <th>row_0</th>\n",
       "      <th></th>\n",
       "      <th></th>\n",
       "      <th></th>\n",
       "      <th></th>\n",
       "    </tr>\n",
       "  </thead>\n",
       "  <tbody>\n",
       "    <tr>\n",
       "      <th>(-inf, 0.1]</th>\n",
       "      <td>0.363378</td>\n",
       "      <td>0.172968</td>\n",
       "      <td>-0.742334</td>\n",
       "      <td>0.508279</td>\n",
       "    </tr>\n",
       "    <tr>\n",
       "      <th>(0.1, 0.11]</th>\n",
       "      <td>0.047279</td>\n",
       "      <td>0.024831</td>\n",
       "      <td>-0.643977</td>\n",
       "      <td>0.508279</td>\n",
       "    </tr>\n",
       "    <tr>\n",
       "      <th>(0.11, 0.2]</th>\n",
       "      <td>0.354886</td>\n",
       "      <td>0.231236</td>\n",
       "      <td>-0.428358</td>\n",
       "      <td>0.508279</td>\n",
       "    </tr>\n",
       "    <tr>\n",
       "      <th>(0.2, inf]</th>\n",
       "      <td>0.234458</td>\n",
       "      <td>0.570965</td>\n",
       "      <td>0.890053</td>\n",
       "      <td>0.508279</td>\n",
       "    </tr>\n",
       "  </tbody>\n",
       "</table>\n",
       "</div>"
      ],
      "text/plain": [
       "loan_status         0         1       woe        iv\n",
       "row_0                                              \n",
       "(-inf, 0.1]  0.363378  0.172968 -0.742334  0.508279\n",
       "(0.1, 0.11]  0.047279  0.024831 -0.643977  0.508279\n",
       "(0.11, 0.2]  0.354886  0.231236 -0.428358  0.508279\n",
       "(0.2, inf]   0.234458  0.570965  0.890053  0.508279"
      ]
     },
     "metadata": {},
     "output_type": "display_data"
    }
   ],
   "source": [
    "feature = 'loan_percent_income'\n",
    "b=[-float(\"inf\"),  0.1, 0.11, 0.2, float(\"inf\")]\n",
    "binning = b\n",
    "\n",
    "bin_feature = pd.cut(data[feature], bins=binning).values.add_categories('Nan').fillna('Nan')\n",
    "data_woe_iv = (pd.crosstab(bin_feature,data[target],normalize='columns')\n",
    "             .assign(woe=lambda datax: np.log(datax[1] / datax[0]))\n",
    "             .assign(iv=lambda datax: np.sum(datax['woe']*\n",
    "                                           (datax[1]-datax[0]))))\n",
    "\n",
    "display(data_woe_iv)"
   ]
  },
  {
   "cell_type": "code",
   "execution_count": 48,
   "metadata": {
    "execution": {
     "iopub.execute_input": "2021-09-20T02:48:55.353500Z",
     "iopub.status.busy": "2021-09-20T02:48:55.352806Z",
     "iopub.status.idle": "2021-09-20T02:48:55.368763Z",
     "shell.execute_reply": "2021-09-20T02:48:55.367645Z",
     "shell.execute_reply.started": "2021-09-20T02:48:55.353460Z"
    }
   },
   "outputs": [],
   "source": [
    "data[f'{feature}_WOE'] = pd.cut(data[feature], bins=binning, labels=[-0.742, -0.639, -0.427, 0.889])\n",
    "data[f'{feature}_WOE'] = data[f'{feature}_WOE'].values.add_categories('Nan').fillna('Nan') \n",
    "data[f'{feature}_WOE'] = data[f'{feature}_WOE'].replace('Nan', 0)\n",
    "data[f'{feature}_WOE'] = data[f'{feature}_WOE'].astype(float)"
   ]
  },
  {
   "cell_type": "code",
   "execution_count": 49,
   "metadata": {
    "execution": {
     "iopub.execute_input": "2021-09-20T02:48:55.371954Z",
     "iopub.status.busy": "2021-09-20T02:48:55.370621Z",
     "iopub.status.idle": "2021-09-20T02:48:55.423318Z",
     "shell.execute_reply": "2021-09-20T02:48:55.419663Z",
     "shell.execute_reply.started": "2021-09-20T02:48:55.371906Z"
    },
    "tags": []
   },
   "outputs": [
    {
     "data": {
      "text/html": [
       "<div>\n",
       "<style scoped>\n",
       "    .dataframe tbody tr th:only-of-type {\n",
       "        vertical-align: middle;\n",
       "    }\n",
       "\n",
       "    .dataframe tbody tr th {\n",
       "        vertical-align: top;\n",
       "    }\n",
       "\n",
       "    .dataframe thead th {\n",
       "        text-align: right;\n",
       "    }\n",
       "</style>\n",
       "<table border=\"1\" class=\"dataframe\">\n",
       "  <thead>\n",
       "    <tr style=\"text-align: right;\">\n",
       "      <th>loan_status</th>\n",
       "      <th>0</th>\n",
       "      <th>1</th>\n",
       "      <th>woe</th>\n",
       "      <th>iv</th>\n",
       "    </tr>\n",
       "    <tr>\n",
       "      <th>row_0</th>\n",
       "      <th></th>\n",
       "      <th></th>\n",
       "      <th></th>\n",
       "      <th></th>\n",
       "    </tr>\n",
       "  </thead>\n",
       "  <tbody>\n",
       "    <tr>\n",
       "      <th>(-inf, 2.0]</th>\n",
       "      <td>0.178529</td>\n",
       "      <td>0.198081</td>\n",
       "      <td>0.103926</td>\n",
       "      <td>0.003322</td>\n",
       "    </tr>\n",
       "    <tr>\n",
       "      <th>(2.0, 3.0]</th>\n",
       "      <td>0.180978</td>\n",
       "      <td>0.186230</td>\n",
       "      <td>0.028609</td>\n",
       "      <td>0.003322</td>\n",
       "    </tr>\n",
       "    <tr>\n",
       "      <th>(3.0, 7.0]</th>\n",
       "      <td>0.356861</td>\n",
       "      <td>0.347912</td>\n",
       "      <td>-0.025396</td>\n",
       "      <td>0.003322</td>\n",
       "    </tr>\n",
       "    <tr>\n",
       "      <th>(7.0, inf]</th>\n",
       "      <td>0.283632</td>\n",
       "      <td>0.267777</td>\n",
       "      <td>-0.057526</td>\n",
       "      <td>0.003322</td>\n",
       "    </tr>\n",
       "  </tbody>\n",
       "</table>\n",
       "</div>"
      ],
      "text/plain": [
       "loan_status         0         1       woe        iv\n",
       "row_0                                              \n",
       "(-inf, 2.0]  0.178529  0.198081  0.103926  0.003322\n",
       "(2.0, 3.0]   0.180978  0.186230  0.028609  0.003322\n",
       "(3.0, 7.0]   0.356861  0.347912 -0.025396  0.003322\n",
       "(7.0, inf]   0.283632  0.267777 -0.057526  0.003322"
      ]
     },
     "metadata": {},
     "output_type": "display_data"
    }
   ],
   "source": [
    "feature = 'cb_person_cred_hist_length'\n",
    "b=[-float(\"inf\"),  2,3,7, float(\"inf\")]\n",
    "binning = b\n",
    "\n",
    "bin_feature = pd.cut(data[feature], bins=binning).values.add_categories('Nan').fillna('Nan')\n",
    "data_woe_iv = (pd.crosstab(bin_feature,data[target],normalize='columns')\n",
    "             .assign(woe=lambda datax: np.log(datax[1] / datax[0]))\n",
    "             .assign(iv=lambda datax: np.sum(datax['woe']*\n",
    "                                           (datax[1]-datax[0]))))\n",
    "\n",
    "display(data_woe_iv)"
   ]
  },
  {
   "cell_type": "code",
   "execution_count": 50,
   "metadata": {
    "execution": {
     "iopub.execute_input": "2021-09-20T02:48:55.429723Z",
     "iopub.status.busy": "2021-09-20T02:48:55.428517Z",
     "iopub.status.idle": "2021-09-20T02:48:55.456949Z",
     "shell.execute_reply": "2021-09-20T02:48:55.452746Z",
     "shell.execute_reply.started": "2021-09-20T02:48:55.429681Z"
    }
   },
   "outputs": [],
   "source": [
    "data[f'{feature}_WOE'] = pd.cut(data[feature], bins=binning, labels=[0.1, 0.026, -0.0244, -0.054])\n",
    "data[f'{feature}_WOE'] = data[f'{feature}_WOE'].values.add_categories('Nan').fillna('Nan') \n",
    "data[f'{feature}_WOE'] = data[f'{feature}_WOE'].replace('Nan', 0)\n",
    "data[f'{feature}_WOE'] = data[f'{feature}_WOE'].astype(float)"
   ]
  },
  {
   "cell_type": "code",
   "execution_count": 51,
   "metadata": {
    "execution": {
     "iopub.execute_input": "2021-09-20T02:48:55.484339Z",
     "iopub.status.busy": "2021-09-20T02:48:55.481287Z",
     "iopub.status.idle": "2021-09-20T02:48:55.664210Z",
     "shell.execute_reply": "2021-09-20T02:48:55.662705Z",
     "shell.execute_reply.started": "2021-09-20T02:48:55.484289Z"
    },
    "tags": []
   },
   "outputs": [
    {
     "data": {
      "text/html": [
       "<div>\n",
       "<style scoped>\n",
       "    .dataframe tbody tr th:only-of-type {\n",
       "        vertical-align: middle;\n",
       "    }\n",
       "\n",
       "    .dataframe tbody tr th {\n",
       "        vertical-align: top;\n",
       "    }\n",
       "\n",
       "    .dataframe thead th {\n",
       "        text-align: right;\n",
       "    }\n",
       "</style>\n",
       "<table border=\"1\" class=\"dataframe\">\n",
       "  <thead>\n",
       "    <tr style=\"text-align: right;\">\n",
       "      <th>loan_status</th>\n",
       "      <th>0</th>\n",
       "      <th>1</th>\n",
       "      <th>woe</th>\n",
       "      <th>iv</th>\n",
       "    </tr>\n",
       "    <tr>\n",
       "      <th>row_0</th>\n",
       "      <th></th>\n",
       "      <th></th>\n",
       "      <th></th>\n",
       "      <th></th>\n",
       "    </tr>\n",
       "  </thead>\n",
       "  <tbody>\n",
       "    <tr>\n",
       "      <th>(-inf, 6000.0]</th>\n",
       "      <td>0.386405</td>\n",
       "      <td>0.330135</td>\n",
       "      <td>-0.157383</td>\n",
       "      <td>0.052256</td>\n",
       "    </tr>\n",
       "    <tr>\n",
       "      <th>(6000.0, 10500.0]</th>\n",
       "      <td>0.305000</td>\n",
       "      <td>0.251834</td>\n",
       "      <td>-0.191543</td>\n",
       "      <td>0.052256</td>\n",
       "    </tr>\n",
       "    <tr>\n",
       "      <th>(10500.0, inf]</th>\n",
       "      <td>0.308595</td>\n",
       "      <td>0.418030</td>\n",
       "      <td>0.303526</td>\n",
       "      <td>0.052256</td>\n",
       "    </tr>\n",
       "  </tbody>\n",
       "</table>\n",
       "</div>"
      ],
      "text/plain": [
       "loan_status               0         1       woe        iv\n",
       "row_0                                                    \n",
       "(-inf, 6000.0]     0.386405  0.330135 -0.157383  0.052256\n",
       "(6000.0, 10500.0]  0.305000  0.251834 -0.191543  0.052256\n",
       "(10500.0, inf]     0.308595  0.418030  0.303526  0.052256"
      ]
     },
     "metadata": {},
     "output_type": "display_data"
    }
   ],
   "source": [
    "feature = 'loan_amnt'\n",
    "b=[-float(\"inf\"),  6000,10500, float(\"inf\")]\n",
    "binning = b\n",
    "\n",
    "bin_feature = pd.cut(data[feature], bins=binning).values.add_categories('Nan').fillna('Nan')\n",
    "data_woe_iv = (pd.crosstab(bin_feature,data[target],normalize='columns')\n",
    "             .assign(woe=lambda datax: np.log(datax[1] / datax[0]))\n",
    "             .assign(iv=lambda datax: np.sum(datax['woe']*\n",
    "                                           (datax[1]-datax[0]))))\n",
    "\n",
    "display(data_woe_iv)"
   ]
  },
  {
   "cell_type": "code",
   "execution_count": 52,
   "metadata": {
    "execution": {
     "iopub.execute_input": "2021-09-20T02:48:55.668832Z",
     "iopub.status.busy": "2021-09-20T02:48:55.667607Z",
     "iopub.status.idle": "2021-09-20T02:48:55.711780Z",
     "shell.execute_reply": "2021-09-20T02:48:55.689310Z",
     "shell.execute_reply.started": "2021-09-20T02:48:55.668784Z"
    }
   },
   "outputs": [],
   "source": [
    "data[f'{feature}_WOE'] = pd.cut(data[feature], bins=binning, labels=[-0.1556, -0.192, 0.302])\n",
    "data[f'{feature}_WOE'] = data[f'{feature}_WOE'].values.add_categories('Nan').fillna('Nan') \n",
    "data[f'{feature}_WOE'] = data[f'{feature}_WOE'].replace('Nan', 0)\n",
    "data[f'{feature}_WOE'] = data[f'{feature}_WOE'].astype(float)"
   ]
  },
  {
   "cell_type": "code",
   "execution_count": 53,
   "metadata": {
    "execution": {
     "iopub.execute_input": "2021-09-20T02:48:55.757149Z",
     "iopub.status.busy": "2021-09-20T02:48:55.748141Z",
     "iopub.status.idle": "2021-09-20T02:48:55.804858Z",
     "shell.execute_reply": "2021-09-20T02:48:55.796653Z",
     "shell.execute_reply.started": "2021-09-20T02:48:55.756861Z"
    }
   },
   "outputs": [
    {
     "data": {
      "text/plain": [
       "['person_home_ownership',\n",
       " 'loan_intent',\n",
       " 'loan_grade',\n",
       " 'cb_person_default_on_file']"
      ]
     },
     "execution_count": 53,
     "metadata": {},
     "output_type": "execute_result"
    }
   ],
   "source": [
    "nominal_features"
   ]
  },
  {
   "cell_type": "code",
   "execution_count": 54,
   "metadata": {
    "execution": {
     "iopub.execute_input": "2021-09-20T02:48:55.806762Z",
     "iopub.status.busy": "2021-09-20T02:48:55.806437Z",
     "iopub.status.idle": "2021-09-20T02:48:55.887062Z",
     "shell.execute_reply": "2021-09-20T02:48:55.880508Z",
     "shell.execute_reply.started": "2021-09-20T02:48:55.806731Z"
    },
    "tags": []
   },
   "outputs": [
    {
     "data": {
      "text/html": [
       "<div>\n",
       "<style scoped>\n",
       "    .dataframe tbody tr th:only-of-type {\n",
       "        vertical-align: middle;\n",
       "    }\n",
       "\n",
       "    .dataframe tbody tr th {\n",
       "        vertical-align: top;\n",
       "    }\n",
       "\n",
       "    .dataframe thead th {\n",
       "        text-align: right;\n",
       "    }\n",
       "</style>\n",
       "<table border=\"1\" class=\"dataframe\">\n",
       "  <thead>\n",
       "    <tr style=\"text-align: right;\">\n",
       "      <th>loan_status</th>\n",
       "      <th>0</th>\n",
       "      <th>1</th>\n",
       "      <th>woe</th>\n",
       "      <th>iv</th>\n",
       "    </tr>\n",
       "    <tr>\n",
       "      <th>person_home_ownership</th>\n",
       "      <th></th>\n",
       "      <th></th>\n",
       "      <th></th>\n",
       "      <th></th>\n",
       "    </tr>\n",
       "  </thead>\n",
       "  <tbody>\n",
       "    <tr>\n",
       "      <th>MORTGAGE</th>\n",
       "      <td>0.461253</td>\n",
       "      <td>0.238008</td>\n",
       "      <td>-0.661643</td>\n",
       "      <td>0.375598</td>\n",
       "    </tr>\n",
       "    <tr>\n",
       "      <th>OTHER</th>\n",
       "      <td>0.002883</td>\n",
       "      <td>0.004656</td>\n",
       "      <td>0.479161</td>\n",
       "      <td>0.375598</td>\n",
       "    </tr>\n",
       "    <tr>\n",
       "      <th>OWN</th>\n",
       "      <td>0.093649</td>\n",
       "      <td>0.027088</td>\n",
       "      <td>-1.240459</td>\n",
       "      <td>0.375598</td>\n",
       "    </tr>\n",
       "    <tr>\n",
       "      <th>RENT</th>\n",
       "      <td>0.442215</td>\n",
       "      <td>0.730248</td>\n",
       "      <td>0.501588</td>\n",
       "      <td>0.375598</td>\n",
       "    </tr>\n",
       "  </tbody>\n",
       "</table>\n",
       "</div>"
      ],
      "text/plain": [
       "loan_status                   0         1       woe        iv\n",
       "person_home_ownership                                        \n",
       "MORTGAGE               0.461253  0.238008 -0.661643  0.375598\n",
       "OTHER                  0.002883  0.004656  0.479161  0.375598\n",
       "OWN                    0.093649  0.027088 -1.240459  0.375598\n",
       "RENT                   0.442215  0.730248  0.501588  0.375598"
      ]
     },
     "execution_count": 54,
     "metadata": {},
     "output_type": "execute_result"
    }
   ],
   "source": [
    "feature = 'person_home_ownership'\n",
    "data_woe_iv = (pd.crosstab(data[feature].fillna('Nan'),data[target],\n",
    "                      normalize='columns')\n",
    "             .assign(woe=lambda datax: np.log(datax[1] / datax[0]))\n",
    "             .assign(iv=lambda datax: np.sum(datax['woe']*\n",
    "                                           (datax[1]-datax[0]))))\n",
    "\n",
    "data_woe_iv"
   ]
  },
  {
   "cell_type": "code",
   "execution_count": 55,
   "metadata": {
    "execution": {
     "iopub.execute_input": "2021-09-20T02:48:55.891340Z",
     "iopub.status.busy": "2021-09-20T02:48:55.889916Z",
     "iopub.status.idle": "2021-09-20T02:48:55.913670Z",
     "shell.execute_reply": "2021-09-20T02:48:55.909379Z",
     "shell.execute_reply.started": "2021-09-20T02:48:55.891293Z"
    },
    "tags": []
   },
   "outputs": [],
   "source": [
    "data[f'{feature}_WOE'] = np.where(data[feature].isin(['MORTAGE']), -0.682, \n",
    "                  np.where(data[feature].isin(['OTHER']), 0.468, \n",
    "                  np.where(data[feature].isin(['OWN']), -1.24, \n",
    "                 np.where(data[feature].isin(['RENT']), 0.502, 0))))"
   ]
  },
  {
   "cell_type": "code",
   "execution_count": 56,
   "metadata": {
    "execution": {
     "iopub.execute_input": "2021-09-20T02:48:55.919587Z",
     "iopub.status.busy": "2021-09-20T02:48:55.918361Z",
     "iopub.status.idle": "2021-09-20T02:48:55.995032Z",
     "shell.execute_reply": "2021-09-20T02:48:55.990865Z",
     "shell.execute_reply.started": "2021-09-20T02:48:55.919539Z"
    },
    "tags": []
   },
   "outputs": [
    {
     "data": {
      "text/html": [
       "<div>\n",
       "<style scoped>\n",
       "    .dataframe tbody tr th:only-of-type {\n",
       "        vertical-align: middle;\n",
       "    }\n",
       "\n",
       "    .dataframe tbody tr th {\n",
       "        vertical-align: top;\n",
       "    }\n",
       "\n",
       "    .dataframe thead th {\n",
       "        text-align: right;\n",
       "    }\n",
       "</style>\n",
       "<table border=\"1\" class=\"dataframe\">\n",
       "  <thead>\n",
       "    <tr style=\"text-align: right;\">\n",
       "      <th>loan_status</th>\n",
       "      <th>0</th>\n",
       "      <th>1</th>\n",
       "      <th>woe</th>\n",
       "      <th>iv</th>\n",
       "    </tr>\n",
       "    <tr>\n",
       "      <th>loan_intent</th>\n",
       "      <th></th>\n",
       "      <th></th>\n",
       "      <th></th>\n",
       "      <th></th>\n",
       "    </tr>\n",
       "  </thead>\n",
       "  <tbody>\n",
       "    <tr>\n",
       "      <th>DEBTCONSOLIDATION</th>\n",
       "      <td>0.146181</td>\n",
       "      <td>0.209932</td>\n",
       "      <td>0.361942</td>\n",
       "      <td>0.095919</td>\n",
       "    </tr>\n",
       "    <tr>\n",
       "      <th>EDUCATION</th>\n",
       "      <td>0.209456</td>\n",
       "      <td>0.156038</td>\n",
       "      <td>-0.294410</td>\n",
       "      <td>0.095919</td>\n",
       "    </tr>\n",
       "    <tr>\n",
       "      <th>HOMEIMPROVEMENT</th>\n",
       "      <td>0.104827</td>\n",
       "      <td>0.132619</td>\n",
       "      <td>0.235169</td>\n",
       "      <td>0.095919</td>\n",
       "    </tr>\n",
       "    <tr>\n",
       "      <th>MEDICAL</th>\n",
       "      <td>0.174698</td>\n",
       "      <td>0.228132</td>\n",
       "      <td>0.266867</td>\n",
       "      <td>0.095919</td>\n",
       "    </tr>\n",
       "    <tr>\n",
       "      <th>PERSONAL</th>\n",
       "      <td>0.173868</td>\n",
       "      <td>0.154204</td>\n",
       "      <td>-0.120020</td>\n",
       "      <td>0.095919</td>\n",
       "    </tr>\n",
       "    <tr>\n",
       "      <th>VENTURE</th>\n",
       "      <td>0.190971</td>\n",
       "      <td>0.119074</td>\n",
       "      <td>-0.472372</td>\n",
       "      <td>0.095919</td>\n",
       "    </tr>\n",
       "  </tbody>\n",
       "</table>\n",
       "</div>"
      ],
      "text/plain": [
       "loan_status               0         1       woe        iv\n",
       "loan_intent                                              \n",
       "DEBTCONSOLIDATION  0.146181  0.209932  0.361942  0.095919\n",
       "EDUCATION          0.209456  0.156038 -0.294410  0.095919\n",
       "HOMEIMPROVEMENT    0.104827  0.132619  0.235169  0.095919\n",
       "MEDICAL            0.174698  0.228132  0.266867  0.095919\n",
       "PERSONAL           0.173868  0.154204 -0.120020  0.095919\n",
       "VENTURE            0.190971  0.119074 -0.472372  0.095919"
      ]
     },
     "execution_count": 56,
     "metadata": {},
     "output_type": "execute_result"
    }
   ],
   "source": [
    "feature = 'loan_intent'\n",
    "data_woe_iv = (pd.crosstab(data[feature].fillna('Nan'),data[target],\n",
    "                      normalize='columns')\n",
    "             .assign(woe=lambda datax: np.log(datax[1] / datax[0]))\n",
    "             .assign(iv=lambda datax: np.sum(datax['woe']*\n",
    "                                           (datax[1]-datax[0]))))\n",
    "\n",
    "data_woe_iv"
   ]
  },
  {
   "cell_type": "code",
   "execution_count": 57,
   "metadata": {
    "execution": {
     "iopub.execute_input": "2021-09-20T02:48:56.000101Z",
     "iopub.status.busy": "2021-09-20T02:48:55.998913Z",
     "iopub.status.idle": "2021-09-20T02:48:56.031098Z",
     "shell.execute_reply": "2021-09-20T02:48:56.026482Z",
     "shell.execute_reply.started": "2021-09-20T02:48:56.000066Z"
    }
   },
   "outputs": [],
   "source": [
    "data[f'{feature}_WOE'] = np.where(data[feature].isin(['DEBTCONSOLIDATION']), 0.360, \n",
    "                  np.where(data[feature].isin(['EDUCATION']), -0.293, \n",
    "                  np.where(data[feature].isin(['HOMEIMPROVEMENT']), 0.2355, \n",
    "                 np.where(data[feature].isin(['MEDICAL']), 0.267, \n",
    "                np.where(data[feature].isin(['PERSONAL']), -0.117,\n",
    "                np.where(data[feature].isin(['VENTURE']), -0.472,0))))))"
   ]
  },
  {
   "cell_type": "code",
   "execution_count": 58,
   "metadata": {
    "execution": {
     "iopub.execute_input": "2021-09-20T02:48:56.033775Z",
     "iopub.status.busy": "2021-09-20T02:48:56.033464Z",
     "iopub.status.idle": "2021-09-20T02:48:56.125045Z",
     "shell.execute_reply": "2021-09-20T02:48:56.121657Z",
     "shell.execute_reply.started": "2021-09-20T02:48:56.033744Z"
    },
    "tags": []
   },
   "outputs": [
    {
     "data": {
      "text/html": [
       "<div>\n",
       "<style scoped>\n",
       "    .dataframe tbody tr th:only-of-type {\n",
       "        vertical-align: middle;\n",
       "    }\n",
       "\n",
       "    .dataframe tbody tr th {\n",
       "        vertical-align: top;\n",
       "    }\n",
       "\n",
       "    .dataframe thead th {\n",
       "        text-align: right;\n",
       "    }\n",
       "</style>\n",
       "<table border=\"1\" class=\"dataframe\">\n",
       "  <thead>\n",
       "    <tr style=\"text-align: right;\">\n",
       "      <th>loan_status</th>\n",
       "      <th>0</th>\n",
       "      <th>1</th>\n",
       "      <th>woe</th>\n",
       "      <th>iv</th>\n",
       "    </tr>\n",
       "    <tr>\n",
       "      <th>loan_grade</th>\n",
       "      <th></th>\n",
       "      <th></th>\n",
       "      <th></th>\n",
       "      <th></th>\n",
       "    </tr>\n",
       "  </thead>\n",
       "  <tbody>\n",
       "    <tr>\n",
       "      <th>A</th>\n",
       "      <td>0.380559</td>\n",
       "      <td>0.150395</td>\n",
       "      <td>-0.928377</td>\n",
       "      <td>0.882274</td>\n",
       "    </tr>\n",
       "    <tr>\n",
       "      <th>B</th>\n",
       "      <td>0.343155</td>\n",
       "      <td>0.239137</td>\n",
       "      <td>-0.361148</td>\n",
       "      <td>0.882274</td>\n",
       "    </tr>\n",
       "    <tr>\n",
       "      <th>C</th>\n",
       "      <td>0.201398</td>\n",
       "      <td>0.188488</td>\n",
       "      <td>-0.066252</td>\n",
       "      <td>0.882274</td>\n",
       "    </tr>\n",
       "    <tr>\n",
       "      <th>D</th>\n",
       "      <td>0.058535</td>\n",
       "      <td>0.301495</td>\n",
       "      <td>1.639123</td>\n",
       "      <td>0.882274</td>\n",
       "    </tr>\n",
       "    <tr>\n",
       "      <th>E</th>\n",
       "      <td>0.013508</td>\n",
       "      <td>0.087613</td>\n",
       "      <td>1.869633</td>\n",
       "      <td>0.882274</td>\n",
       "    </tr>\n",
       "    <tr>\n",
       "      <th>F</th>\n",
       "      <td>0.002804</td>\n",
       "      <td>0.023984</td>\n",
       "      <td>2.146231</td>\n",
       "      <td>0.882274</td>\n",
       "    </tr>\n",
       "    <tr>\n",
       "      <th>G</th>\n",
       "      <td>0.000039</td>\n",
       "      <td>0.008888</td>\n",
       "      <td>5.416247</td>\n",
       "      <td>0.882274</td>\n",
       "    </tr>\n",
       "  </tbody>\n",
       "</table>\n",
       "</div>"
      ],
      "text/plain": [
       "loan_status         0         1       woe        iv\n",
       "loan_grade                                         \n",
       "A            0.380559  0.150395 -0.928377  0.882274\n",
       "B            0.343155  0.239137 -0.361148  0.882274\n",
       "C            0.201398  0.188488 -0.066252  0.882274\n",
       "D            0.058535  0.301495  1.639123  0.882274\n",
       "E            0.013508  0.087613  1.869633  0.882274\n",
       "F            0.002804  0.023984  2.146231  0.882274\n",
       "G            0.000039  0.008888  5.416247  0.882274"
      ]
     },
     "execution_count": 58,
     "metadata": {},
     "output_type": "execute_result"
    }
   ],
   "source": [
    "feature = 'loan_grade'\n",
    "data_woe_iv = (pd.crosstab(data[feature].fillna('Nan'),data[target],\n",
    "                      normalize='columns')\n",
    "             .assign(woe=lambda datax: np.log(datax[1] / datax[0]))\n",
    "             .assign(iv=lambda datax: np.sum(datax['woe']*\n",
    "                                           (datax[1]-datax[0]))))\n",
    "\n",
    "data_woe_iv"
   ]
  },
  {
   "cell_type": "code",
   "execution_count": 59,
   "metadata": {
    "execution": {
     "iopub.execute_input": "2021-09-20T02:48:56.127666Z",
     "iopub.status.busy": "2021-09-20T02:48:56.126967Z",
     "iopub.status.idle": "2021-09-20T02:48:56.150005Z",
     "shell.execute_reply": "2021-09-20T02:48:56.147308Z",
     "shell.execute_reply.started": "2021-09-20T02:48:56.127629Z"
    }
   },
   "outputs": [],
   "source": [
    "data[f'{feature}_WOE'] = np.where(data[feature].isin(['A']), -0.925, \n",
    "                  np.where(data[feature].isin(['B']), -0.361, \n",
    "                  np.where(data[feature].isin(['C']), -0.064, \n",
    "                 np.where(data[feature].isin(['D']), 1.64, \n",
    "                np.where(data[feature].isin(['E']), 1.87,\n",
    "                np.where(data[feature].isin(['F']), 2.14,\n",
    "                         np.where(data[feature].isin(['G']), 5.41,0)))))))"
   ]
  },
  {
   "cell_type": "code",
   "execution_count": 60,
   "metadata": {
    "execution": {
     "iopub.execute_input": "2021-09-20T02:48:56.155239Z",
     "iopub.status.busy": "2021-09-20T02:48:56.154858Z",
     "iopub.status.idle": "2021-09-20T02:48:56.239487Z",
     "shell.execute_reply": "2021-09-20T02:48:56.233980Z",
     "shell.execute_reply.started": "2021-09-20T02:48:56.155204Z"
    },
    "tags": []
   },
   "outputs": [
    {
     "data": {
      "text/html": [
       "<div>\n",
       "<style scoped>\n",
       "    .dataframe tbody tr th:only-of-type {\n",
       "        vertical-align: middle;\n",
       "    }\n",
       "\n",
       "    .dataframe tbody tr th {\n",
       "        vertical-align: top;\n",
       "    }\n",
       "\n",
       "    .dataframe thead th {\n",
       "        text-align: right;\n",
       "    }\n",
       "</style>\n",
       "<table border=\"1\" class=\"dataframe\">\n",
       "  <thead>\n",
       "    <tr style=\"text-align: right;\">\n",
       "      <th>loan_status</th>\n",
       "      <th>0</th>\n",
       "      <th>1</th>\n",
       "      <th>woe</th>\n",
       "      <th>iv</th>\n",
       "    </tr>\n",
       "    <tr>\n",
       "      <th>cb_person_default_on_file</th>\n",
       "      <th></th>\n",
       "      <th></th>\n",
       "      <th></th>\n",
       "      <th></th>\n",
       "    </tr>\n",
       "  </thead>\n",
       "  <tbody>\n",
       "    <tr>\n",
       "      <th>N</th>\n",
       "      <td>0.859389</td>\n",
       "      <td>0.69399</td>\n",
       "      <td>-0.213764</td>\n",
       "      <td>0.163973</td>\n",
       "    </tr>\n",
       "    <tr>\n",
       "      <th>Y</th>\n",
       "      <td>0.140611</td>\n",
       "      <td>0.30601</td>\n",
       "      <td>0.777618</td>\n",
       "      <td>0.163973</td>\n",
       "    </tr>\n",
       "  </tbody>\n",
       "</table>\n",
       "</div>"
      ],
      "text/plain": [
       "loan_status                       0        1       woe        iv\n",
       "cb_person_default_on_file                                       \n",
       "N                          0.859389  0.69399 -0.213764  0.163973\n",
       "Y                          0.140611  0.30601  0.777618  0.163973"
      ]
     },
     "execution_count": 60,
     "metadata": {},
     "output_type": "execute_result"
    }
   ],
   "source": [
    "feature = 'cb_person_default_on_file'\n",
    "data_woe_iv = (pd.crosstab(data[feature].fillna('Nan'),data[target],\n",
    "                      normalize='columns')\n",
    "             .assign(woe=lambda datax: np.log(datax[1] / datax[0]))\n",
    "             .assign(iv=lambda datax: np.sum(datax['woe']*\n",
    "                                           (datax[1]-datax[0]))))\n",
    "\n",
    "data_woe_iv"
   ]
  },
  {
   "cell_type": "code",
   "execution_count": 61,
   "metadata": {
    "execution": {
     "iopub.execute_input": "2021-09-20T02:48:56.243745Z",
     "iopub.status.busy": "2021-09-20T02:48:56.242986Z",
     "iopub.status.idle": "2021-09-20T02:48:56.256789Z",
     "shell.execute_reply": "2021-09-20T02:48:56.253661Z",
     "shell.execute_reply.started": "2021-09-20T02:48:56.243698Z"
    },
    "tags": []
   },
   "outputs": [],
   "source": [
    "data[f'{feature}_WOE'] = np.where(data[feature].isin(['N']), -0.213, \n",
    "                  np.where(data[feature].isin(['Y']), -0.778, 0))"
   ]
  },
  {
   "cell_type": "code",
   "execution_count": 62,
   "metadata": {
    "execution": {
     "iopub.execute_input": "2021-09-20T02:48:56.259343Z",
     "iopub.status.busy": "2021-09-20T02:48:56.258488Z",
     "iopub.status.idle": "2021-09-20T02:48:56.367800Z",
     "shell.execute_reply": "2021-09-20T02:48:56.361632Z",
     "shell.execute_reply.started": "2021-09-20T02:48:56.259305Z"
    }
   },
   "outputs": [
    {
     "data": {
      "text/html": [
       "<div>\n",
       "<style scoped>\n",
       "    .dataframe tbody tr th:only-of-type {\n",
       "        vertical-align: middle;\n",
       "    }\n",
       "\n",
       "    .dataframe tbody tr th {\n",
       "        vertical-align: top;\n",
       "    }\n",
       "\n",
       "    .dataframe thead th {\n",
       "        text-align: right;\n",
       "    }\n",
       "</style>\n",
       "<table border=\"1\" class=\"dataframe\">\n",
       "  <thead>\n",
       "    <tr style=\"text-align: right;\">\n",
       "      <th></th>\n",
       "      <th>person_age</th>\n",
       "      <th>person_income</th>\n",
       "      <th>person_home_ownership</th>\n",
       "      <th>person_emp_length</th>\n",
       "      <th>loan_intent</th>\n",
       "      <th>loan_grade</th>\n",
       "      <th>loan_amnt</th>\n",
       "      <th>loan_int_rate</th>\n",
       "      <th>loan_status</th>\n",
       "      <th>loan_percent_income</th>\n",
       "      <th>cb_person_default_on_file</th>\n",
       "      <th>cb_person_cred_hist_length</th>\n",
       "      <th>person_emp_length_nan</th>\n",
       "      <th>loan_int_rate_nan</th>\n",
       "      <th>person_home_ownership_OTHER</th>\n",
       "      <th>person_home_ownership_OWN</th>\n",
       "      <th>person_home_ownership_RENT</th>\n",
       "      <th>loan_intent_EDUCATION</th>\n",
       "      <th>loan_intent_HOMEIMPROVEMENT</th>\n",
       "      <th>loan_intent_MEDICAL</th>\n",
       "      <th>loan_intent_PERSONAL</th>\n",
       "      <th>loan_intent_VENTURE</th>\n",
       "      <th>loan_grade_B</th>\n",
       "      <th>loan_grade_C</th>\n",
       "      <th>loan_grade_D</th>\n",
       "      <th>loan_grade_E</th>\n",
       "      <th>loan_grade_F</th>\n",
       "      <th>loan_grade_G</th>\n",
       "      <th>cb_person_default_on_file_Y</th>\n",
       "      <th>person_age_WOE</th>\n",
       "      <th>person_income_WOE</th>\n",
       "      <th>person_emp_length_WOE</th>\n",
       "      <th>loan_int_rate_WOE</th>\n",
       "      <th>loan_percent_income_WOE</th>\n",
       "      <th>cb_person_cred_hist_length_WOE</th>\n",
       "      <th>loan_amnt_WOE</th>\n",
       "      <th>person_home_ownership_WOE</th>\n",
       "      <th>loan_intent_WOE</th>\n",
       "      <th>loan_grade_WOE</th>\n",
       "      <th>cb_person_default_on_file_WOE</th>\n",
       "    </tr>\n",
       "  </thead>\n",
       "  <tbody>\n",
       "    <tr>\n",
       "      <th>0</th>\n",
       "      <td>21</td>\n",
       "      <td>9600</td>\n",
       "      <td>OWN</td>\n",
       "      <td>5.0</td>\n",
       "      <td>EDUCATION</td>\n",
       "      <td>B</td>\n",
       "      <td>1000</td>\n",
       "      <td>11.14</td>\n",
       "      <td>0</td>\n",
       "      <td>0.10</td>\n",
       "      <td>N</td>\n",
       "      <td>2</td>\n",
       "      <td>5.0</td>\n",
       "      <td>11.14</td>\n",
       "      <td>0</td>\n",
       "      <td>1</td>\n",
       "      <td>0</td>\n",
       "      <td>1</td>\n",
       "      <td>0</td>\n",
       "      <td>0</td>\n",
       "      <td>0</td>\n",
       "      <td>0</td>\n",
       "      <td>1</td>\n",
       "      <td>0</td>\n",
       "      <td>0</td>\n",
       "      <td>0</td>\n",
       "      <td>0</td>\n",
       "      <td>0</td>\n",
       "      <td>0</td>\n",
       "      <td>0.0802</td>\n",
       "      <td>0.7730</td>\n",
       "      <td>-0.128</td>\n",
       "      <td>-0.327</td>\n",
       "      <td>-0.742</td>\n",
       "      <td>0.1000</td>\n",
       "      <td>-0.1556</td>\n",
       "      <td>-1.240</td>\n",
       "      <td>-0.293</td>\n",
       "      <td>-0.361</td>\n",
       "      <td>-0.213</td>\n",
       "    </tr>\n",
       "    <tr>\n",
       "      <th>1</th>\n",
       "      <td>25</td>\n",
       "      <td>9600</td>\n",
       "      <td>MORTGAGE</td>\n",
       "      <td>1.0</td>\n",
       "      <td>MEDICAL</td>\n",
       "      <td>C</td>\n",
       "      <td>5500</td>\n",
       "      <td>12.87</td>\n",
       "      <td>1</td>\n",
       "      <td>0.57</td>\n",
       "      <td>N</td>\n",
       "      <td>3</td>\n",
       "      <td>1.0</td>\n",
       "      <td>12.87</td>\n",
       "      <td>0</td>\n",
       "      <td>0</td>\n",
       "      <td>0</td>\n",
       "      <td>0</td>\n",
       "      <td>0</td>\n",
       "      <td>1</td>\n",
       "      <td>0</td>\n",
       "      <td>0</td>\n",
       "      <td>0</td>\n",
       "      <td>1</td>\n",
       "      <td>0</td>\n",
       "      <td>0</td>\n",
       "      <td>0</td>\n",
       "      <td>0</td>\n",
       "      <td>0</td>\n",
       "      <td>-0.0150</td>\n",
       "      <td>0.7730</td>\n",
       "      <td>0.257</td>\n",
       "      <td>0.817</td>\n",
       "      <td>0.889</td>\n",
       "      <td>0.0260</td>\n",
       "      <td>-0.1556</td>\n",
       "      <td>0.000</td>\n",
       "      <td>0.267</td>\n",
       "      <td>-0.064</td>\n",
       "      <td>-0.213</td>\n",
       "    </tr>\n",
       "    <tr>\n",
       "      <th>2</th>\n",
       "      <td>23</td>\n",
       "      <td>65500</td>\n",
       "      <td>RENT</td>\n",
       "      <td>4.0</td>\n",
       "      <td>MEDICAL</td>\n",
       "      <td>C</td>\n",
       "      <td>35000</td>\n",
       "      <td>15.23</td>\n",
       "      <td>1</td>\n",
       "      <td>0.53</td>\n",
       "      <td>N</td>\n",
       "      <td>2</td>\n",
       "      <td>4.0</td>\n",
       "      <td>15.23</td>\n",
       "      <td>0</td>\n",
       "      <td>0</td>\n",
       "      <td>1</td>\n",
       "      <td>0</td>\n",
       "      <td>0</td>\n",
       "      <td>1</td>\n",
       "      <td>0</td>\n",
       "      <td>0</td>\n",
       "      <td>0</td>\n",
       "      <td>1</td>\n",
       "      <td>0</td>\n",
       "      <td>0</td>\n",
       "      <td>0</td>\n",
       "      <td>0</td>\n",
       "      <td>0</td>\n",
       "      <td>0.0802</td>\n",
       "      <td>-0.2391</td>\n",
       "      <td>-0.128</td>\n",
       "      <td>0.817</td>\n",
       "      <td>0.889</td>\n",
       "      <td>0.1000</td>\n",
       "      <td>0.3020</td>\n",
       "      <td>0.502</td>\n",
       "      <td>0.267</td>\n",
       "      <td>-0.064</td>\n",
       "      <td>-0.213</td>\n",
       "    </tr>\n",
       "    <tr>\n",
       "      <th>3</th>\n",
       "      <td>24</td>\n",
       "      <td>54400</td>\n",
       "      <td>RENT</td>\n",
       "      <td>8.0</td>\n",
       "      <td>MEDICAL</td>\n",
       "      <td>C</td>\n",
       "      <td>35000</td>\n",
       "      <td>14.27</td>\n",
       "      <td>1</td>\n",
       "      <td>0.55</td>\n",
       "      <td>Y</td>\n",
       "      <td>4</td>\n",
       "      <td>8.0</td>\n",
       "      <td>14.27</td>\n",
       "      <td>0</td>\n",
       "      <td>0</td>\n",
       "      <td>1</td>\n",
       "      <td>0</td>\n",
       "      <td>0</td>\n",
       "      <td>1</td>\n",
       "      <td>0</td>\n",
       "      <td>0</td>\n",
       "      <td>0</td>\n",
       "      <td>1</td>\n",
       "      <td>0</td>\n",
       "      <td>0</td>\n",
       "      <td>0</td>\n",
       "      <td>0</td>\n",
       "      <td>1</td>\n",
       "      <td>0.0802</td>\n",
       "      <td>-0.2391</td>\n",
       "      <td>-0.291</td>\n",
       "      <td>0.817</td>\n",
       "      <td>0.889</td>\n",
       "      <td>-0.0244</td>\n",
       "      <td>0.3020</td>\n",
       "      <td>0.502</td>\n",
       "      <td>0.267</td>\n",
       "      <td>-0.064</td>\n",
       "      <td>-0.778</td>\n",
       "    </tr>\n",
       "    <tr>\n",
       "      <th>4</th>\n",
       "      <td>21</td>\n",
       "      <td>9900</td>\n",
       "      <td>OWN</td>\n",
       "      <td>2.0</td>\n",
       "      <td>VENTURE</td>\n",
       "      <td>A</td>\n",
       "      <td>2500</td>\n",
       "      <td>7.14</td>\n",
       "      <td>1</td>\n",
       "      <td>0.25</td>\n",
       "      <td>N</td>\n",
       "      <td>2</td>\n",
       "      <td>2.0</td>\n",
       "      <td>7.14</td>\n",
       "      <td>0</td>\n",
       "      <td>1</td>\n",
       "      <td>0</td>\n",
       "      <td>0</td>\n",
       "      <td>0</td>\n",
       "      <td>0</td>\n",
       "      <td>0</td>\n",
       "      <td>1</td>\n",
       "      <td>0</td>\n",
       "      <td>0</td>\n",
       "      <td>0</td>\n",
       "      <td>0</td>\n",
       "      <td>0</td>\n",
       "      <td>0</td>\n",
       "      <td>0</td>\n",
       "      <td>0.0802</td>\n",
       "      <td>0.7730</td>\n",
       "      <td>0.257</td>\n",
       "      <td>-0.886</td>\n",
       "      <td>0.889</td>\n",
       "      <td>0.1000</td>\n",
       "      <td>-0.1556</td>\n",
       "      <td>-1.240</td>\n",
       "      <td>-0.472</td>\n",
       "      <td>-0.925</td>\n",
       "      <td>-0.213</td>\n",
       "    </tr>\n",
       "  </tbody>\n",
       "</table>\n",
       "</div>"
      ],
      "text/plain": [
       "   person_age  person_income person_home_ownership  person_emp_length  \\\n",
       "0          21           9600                   OWN                5.0   \n",
       "1          25           9600              MORTGAGE                1.0   \n",
       "2          23          65500                  RENT                4.0   \n",
       "3          24          54400                  RENT                8.0   \n",
       "4          21           9900                   OWN                2.0   \n",
       "\n",
       "  loan_intent loan_grade  loan_amnt  loan_int_rate  loan_status  \\\n",
       "0   EDUCATION          B       1000          11.14            0   \n",
       "1     MEDICAL          C       5500          12.87            1   \n",
       "2     MEDICAL          C      35000          15.23            1   \n",
       "3     MEDICAL          C      35000          14.27            1   \n",
       "4     VENTURE          A       2500           7.14            1   \n",
       "\n",
       "   loan_percent_income cb_person_default_on_file  cb_person_cred_hist_length  \\\n",
       "0                 0.10                         N                           2   \n",
       "1                 0.57                         N                           3   \n",
       "2                 0.53                         N                           2   \n",
       "3                 0.55                         Y                           4   \n",
       "4                 0.25                         N                           2   \n",
       "\n",
       "   person_emp_length_nan  loan_int_rate_nan  person_home_ownership_OTHER  \\\n",
       "0                    5.0              11.14                            0   \n",
       "1                    1.0              12.87                            0   \n",
       "2                    4.0              15.23                            0   \n",
       "3                    8.0              14.27                            0   \n",
       "4                    2.0               7.14                            0   \n",
       "\n",
       "   person_home_ownership_OWN  person_home_ownership_RENT  \\\n",
       "0                          1                           0   \n",
       "1                          0                           0   \n",
       "2                          0                           1   \n",
       "3                          0                           1   \n",
       "4                          1                           0   \n",
       "\n",
       "   loan_intent_EDUCATION  loan_intent_HOMEIMPROVEMENT  loan_intent_MEDICAL  \\\n",
       "0                      1                            0                    0   \n",
       "1                      0                            0                    1   \n",
       "2                      0                            0                    1   \n",
       "3                      0                            0                    1   \n",
       "4                      0                            0                    0   \n",
       "\n",
       "   loan_intent_PERSONAL  loan_intent_VENTURE  loan_grade_B  loan_grade_C  \\\n",
       "0                     0                    0             1             0   \n",
       "1                     0                    0             0             1   \n",
       "2                     0                    0             0             1   \n",
       "3                     0                    0             0             1   \n",
       "4                     0                    1             0             0   \n",
       "\n",
       "   loan_grade_D  loan_grade_E  loan_grade_F  loan_grade_G  \\\n",
       "0             0             0             0             0   \n",
       "1             0             0             0             0   \n",
       "2             0             0             0             0   \n",
       "3             0             0             0             0   \n",
       "4             0             0             0             0   \n",
       "\n",
       "   cb_person_default_on_file_Y  person_age_WOE  person_income_WOE  \\\n",
       "0                            0          0.0802             0.7730   \n",
       "1                            0         -0.0150             0.7730   \n",
       "2                            0          0.0802            -0.2391   \n",
       "3                            1          0.0802            -0.2391   \n",
       "4                            0          0.0802             0.7730   \n",
       "\n",
       "   person_emp_length_WOE  loan_int_rate_WOE  loan_percent_income_WOE  \\\n",
       "0                 -0.128             -0.327                   -0.742   \n",
       "1                  0.257              0.817                    0.889   \n",
       "2                 -0.128              0.817                    0.889   \n",
       "3                 -0.291              0.817                    0.889   \n",
       "4                  0.257             -0.886                    0.889   \n",
       "\n",
       "   cb_person_cred_hist_length_WOE  loan_amnt_WOE  person_home_ownership_WOE  \\\n",
       "0                          0.1000        -0.1556                     -1.240   \n",
       "1                          0.0260        -0.1556                      0.000   \n",
       "2                          0.1000         0.3020                      0.502   \n",
       "3                         -0.0244         0.3020                      0.502   \n",
       "4                          0.1000        -0.1556                     -1.240   \n",
       "\n",
       "   loan_intent_WOE  loan_grade_WOE  cb_person_default_on_file_WOE  \n",
       "0           -0.293          -0.361                         -0.213  \n",
       "1            0.267          -0.064                         -0.213  \n",
       "2            0.267          -0.064                         -0.213  \n",
       "3            0.267          -0.064                         -0.778  \n",
       "4           -0.472          -0.925                         -0.213  "
      ]
     },
     "execution_count": 62,
     "metadata": {},
     "output_type": "execute_result"
    }
   ],
   "source": [
    "data.head()"
   ]
  },
  {
   "cell_type": "code",
   "execution_count": 63,
   "metadata": {
    "execution": {
     "iopub.execute_input": "2021-09-20T02:48:56.372432Z",
     "iopub.status.busy": "2021-09-20T02:48:56.372182Z",
     "iopub.status.idle": "2021-09-20T02:48:56.386755Z",
     "shell.execute_reply": "2021-09-20T02:48:56.382838Z",
     "shell.execute_reply.started": "2021-09-20T02:48:56.372410Z"
    }
   },
   "outputs": [
    {
     "data": {
      "text/plain": [
       "Index(['person_age', 'person_income', 'person_home_ownership',\n",
       "       'person_emp_length', 'loan_intent', 'loan_grade', 'loan_amnt',\n",
       "       'loan_int_rate', 'loan_status', 'loan_percent_income',\n",
       "       'cb_person_default_on_file', 'cb_person_cred_hist_length',\n",
       "       'person_emp_length_nan', 'loan_int_rate_nan',\n",
       "       'person_home_ownership_OTHER', 'person_home_ownership_OWN',\n",
       "       'person_home_ownership_RENT', 'loan_intent_EDUCATION',\n",
       "       'loan_intent_HOMEIMPROVEMENT', 'loan_intent_MEDICAL',\n",
       "       'loan_intent_PERSONAL', 'loan_intent_VENTURE', 'loan_grade_B',\n",
       "       'loan_grade_C', 'loan_grade_D', 'loan_grade_E', 'loan_grade_F',\n",
       "       'loan_grade_G', 'cb_person_default_on_file_Y', 'person_age_WOE',\n",
       "       'person_income_WOE', 'person_emp_length_WOE', 'loan_int_rate_WOE',\n",
       "       'loan_percent_income_WOE', 'cb_person_cred_hist_length_WOE',\n",
       "       'loan_amnt_WOE', 'person_home_ownership_WOE', 'loan_intent_WOE',\n",
       "       'loan_grade_WOE', 'cb_person_default_on_file_WOE'],\n",
       "      dtype='object')"
      ]
     },
     "execution_count": 63,
     "metadata": {},
     "output_type": "execute_result"
    }
   ],
   "source": [
    "data.columns"
   ]
  },
  {
   "cell_type": "code",
   "execution_count": 64,
   "metadata": {
    "execution": {
     "iopub.execute_input": "2021-09-20T02:48:56.390271Z",
     "iopub.status.busy": "2021-09-20T02:48:56.390062Z",
     "iopub.status.idle": "2021-09-20T02:48:56.404315Z",
     "shell.execute_reply": "2021-09-20T02:48:56.399722Z",
     "shell.execute_reply.started": "2021-09-20T02:48:56.390251Z"
    }
   },
   "outputs": [],
   "source": [
    "woe_features = ['person_age_WOE',\n",
    "       'person_income_WOE', 'person_emp_length_WOE', 'loan_int_rate_WOE',\n",
    "       'loan_percent_income_WOE', 'cb_person_cred_hist_length_WOE',\n",
    "       'loan_amnt_WOE', 'person_home_ownership_WOE', 'loan_intent_WOE',\n",
    "       'loan_grade_WOE', 'cb_person_default_on_file_WOE']"
   ]
  },
  {
   "cell_type": "markdown",
   "metadata": {},
   "source": [
    "# Sample Splitting"
   ]
  },
  {
   "cell_type": "code",
   "execution_count": 65,
   "metadata": {
    "execution": {
     "iopub.execute_input": "2021-09-20T02:48:56.409384Z",
     "iopub.status.busy": "2021-09-20T02:48:56.407899Z",
     "iopub.status.idle": "2021-09-20T02:48:56.464015Z",
     "shell.execute_reply": "2021-09-20T02:48:56.461812Z",
     "shell.execute_reply.started": "2021-09-20T02:48:56.409342Z"
    },
    "tags": []
   },
   "outputs": [],
   "source": [
    "train_set = data[data[target].notnull()]\n",
    "test_set = data[data[target].notnull()]"
   ]
  },
  {
   "cell_type": "code",
   "execution_count": 66,
   "metadata": {
    "execution": {
     "iopub.execute_input": "2021-09-20T02:48:56.473774Z",
     "iopub.status.busy": "2021-09-20T02:48:56.472166Z",
     "iopub.status.idle": "2021-09-20T02:48:56.534167Z",
     "shell.execute_reply": "2021-09-20T02:48:56.528594Z",
     "shell.execute_reply.started": "2021-09-20T02:48:56.473727Z"
    },
    "tags": []
   },
   "outputs": [],
   "source": [
    "train_x, holdout_x, train_y, holdout_y = train_test_split(\n",
    "                                                            data[data.columns.difference([target])],\n",
    "#                                                             train_set[train_set.columns.difference(['Log_SalePrice'])],\n",
    "                                                            train_set[[target]],\n",
    "#                                                             train_set[['Log_SalePrice']],\n",
    "                                                            train_size=0.80, \n",
    "                                                            test_size=0.20, random_state=1245)"
   ]
  },
  {
   "cell_type": "code",
   "execution_count": 67,
   "metadata": {
    "execution": {
     "iopub.execute_input": "2021-09-20T02:48:56.537288Z",
     "iopub.status.busy": "2021-09-20T02:48:56.536526Z",
     "iopub.status.idle": "2021-09-20T02:48:56.564828Z",
     "shell.execute_reply": "2021-09-20T02:48:56.561613Z",
     "shell.execute_reply.started": "2021-09-20T02:48:56.537248Z"
    },
    "tags": []
   },
   "outputs": [],
   "source": [
    "data_train = pd.concat([train_x, train_y], axis=1)\n",
    "data_holdout = pd.concat([holdout_x, holdout_y], axis=1)"
   ]
  },
  {
   "cell_type": "code",
   "execution_count": 68,
   "metadata": {
    "execution": {
     "iopub.execute_input": "2021-09-20T02:48:56.569059Z",
     "iopub.status.busy": "2021-09-20T02:48:56.568382Z",
     "iopub.status.idle": "2021-09-20T02:48:56.603491Z",
     "shell.execute_reply": "2021-09-20T02:48:56.587481Z",
     "shell.execute_reply.started": "2021-09-20T02:48:56.569019Z"
    },
    "tags": []
   },
   "outputs": [
    {
     "name": "stdout",
     "output_type": "stream",
     "text": [
      "Number of columns and row data train: (25924, 40)\n",
      "Number of columns and row data validate: (6482, 40)\n"
     ]
    }
   ],
   "source": [
    "print('Number of columns and row data train:',data_train.shape)\n",
    "print('Number of columns and row data validate:',data_holdout.shape)"
   ]
  },
  {
   "cell_type": "code",
   "execution_count": 69,
   "metadata": {
    "execution": {
     "iopub.execute_input": "2021-09-20T02:48:56.626147Z",
     "iopub.status.busy": "2021-09-20T02:48:56.623749Z",
     "iopub.status.idle": "2021-09-20T02:48:56.668974Z",
     "shell.execute_reply": "2021-09-20T02:48:56.666451Z",
     "shell.execute_reply.started": "2021-09-20T02:48:56.625978Z"
    }
   },
   "outputs": [],
   "source": [
    "data_train_set = data_train[data_train[target].notnull()]\n",
    "data_valid_set = data_train[data_train[target].notnull()]"
   ]
  },
  {
   "cell_type": "code",
   "execution_count": 70,
   "metadata": {
    "execution": {
     "iopub.execute_input": "2021-09-20T02:48:56.673011Z",
     "iopub.status.busy": "2021-09-20T02:48:56.671851Z",
     "iopub.status.idle": "2021-09-20T02:48:56.708801Z",
     "shell.execute_reply": "2021-09-20T02:48:56.708053Z",
     "shell.execute_reply.started": "2021-09-20T02:48:56.672594Z"
    }
   },
   "outputs": [],
   "source": [
    "train_set_x, valid_x, train_set_y, valid_y = train_test_split(\n",
    "                                                            data_train[data_train.columns.difference([target])],\n",
    "#                                                             train_set[train_set.columns.difference(['Log_SalePrice'])],\n",
    "                                                            data_train[[target]],\n",
    "#                                                             train_set[['Log_SalePrice']],\n",
    "                                                            train_size=0.80, \n",
    "                                                            test_size=0.20, random_state=1245)"
   ]
  },
  {
   "cell_type": "code",
   "execution_count": 71,
   "metadata": {
    "execution": {
     "iopub.execute_input": "2021-09-20T02:48:56.712538Z",
     "iopub.status.busy": "2021-09-20T02:48:56.712228Z",
     "iopub.status.idle": "2021-09-20T02:48:56.752364Z",
     "shell.execute_reply": "2021-09-20T02:48:56.748251Z",
     "shell.execute_reply.started": "2021-09-20T02:48:56.712508Z"
    }
   },
   "outputs": [],
   "source": [
    "data_train_set = pd.concat([train_set_x, train_set_y], axis=1)\n",
    "data_valid_set = pd.concat([valid_x, valid_y], axis=1)"
   ]
  },
  {
   "cell_type": "code",
   "execution_count": 72,
   "metadata": {
    "execution": {
     "iopub.execute_input": "2021-09-20T02:48:56.756489Z",
     "iopub.status.busy": "2021-09-20T02:48:56.755698Z",
     "iopub.status.idle": "2021-09-20T02:48:56.773329Z",
     "shell.execute_reply": "2021-09-20T02:48:56.769372Z",
     "shell.execute_reply.started": "2021-09-20T02:48:56.756447Z"
    },
    "tags": []
   },
   "outputs": [
    {
     "name": "stdout",
     "output_type": "stream",
     "text": [
      "Number of columns and row data train: (20739, 40)\n",
      "Number of columns and row data validate: (5185, 40)\n"
     ]
    }
   ],
   "source": [
    "print('Number of columns and row data train:',data_train_set.shape)\n",
    "print('Number of columns and row data validate:',data_valid_set.shape)"
   ]
  },
  {
   "cell_type": "markdown",
   "metadata": {},
   "source": [
    "# Feature Selection"
   ]
  },
  {
   "cell_type": "code",
   "execution_count": 73,
   "metadata": {
    "execution": {
     "iopub.execute_input": "2021-09-20T02:48:56.777704Z",
     "iopub.status.busy": "2021-09-20T02:48:56.777366Z",
     "iopub.status.idle": "2021-09-20T02:48:56.786403Z",
     "shell.execute_reply": "2021-09-20T02:48:56.785801Z",
     "shell.execute_reply.started": "2021-09-20T02:48:56.777670Z"
    }
   },
   "outputs": [],
   "source": [
    "from sklearn.pipeline import Pipeline"
   ]
  },
  {
   "cell_type": "markdown",
   "metadata": {
    "execution": {
     "iopub.execute_input": "2021-09-10T06:30:44.687620Z",
     "iopub.status.busy": "2021-09-10T06:30:44.687316Z",
     "iopub.status.idle": "2021-09-10T06:30:44.692358Z",
     "shell.execute_reply": "2021-09-10T06:30:44.689858Z",
     "shell.execute_reply.started": "2021-09-10T06:30:44.687597Z"
    }
   },
   "source": [
    "## L1 Regularization"
   ]
  },
  {
   "cell_type": "code",
   "execution_count": 74,
   "metadata": {
    "execution": {
     "iopub.execute_input": "2021-09-20T02:48:56.792224Z",
     "iopub.status.busy": "2021-09-20T02:48:56.791622Z",
     "iopub.status.idle": "2021-09-20T02:49:18.540752Z",
     "shell.execute_reply": "2021-09-20T02:49:18.539918Z",
     "shell.execute_reply.started": "2021-09-20T02:48:56.792196Z"
    },
    "tags": []
   },
   "outputs": [
    {
     "name": "stdout",
     "output_type": "stream",
     "text": [
      "Fitting 5 folds for each of 200 candidates, totalling 1000 fits\n"
     ]
    }
   ],
   "source": [
    "pipe = Pipeline([('classifier' , LogisticRegression())])\n",
    "# pipe = Pipeline([('classifier', RandomForestClassifier())])\n",
    "\n",
    "# Create param grid.\n",
    "\n",
    "param_grid = [\n",
    "    {'classifier' : [LogisticRegression()],\n",
    "     'classifier__penalty' : ['l1', 'l2'],\n",
    "    'classifier__C' : np.logspace(-4,4,100),\n",
    "    'classifier__solver' : ['liblinear']}\n",
    "]\n",
    "\n",
    "# Create grid search object\n",
    "\n",
    "clf = GridSearchCV(pipe, param_grid = param_grid, cv = 5, verbose=True, n_jobs=-1)\n",
    "\n",
    "# Fit on data\n",
    "\n",
    "best_clf = clf.fit(train_set_x[woe_features], train_set_y.values.ravel())"
   ]
  },
  {
   "cell_type": "code",
   "execution_count": 75,
   "metadata": {
    "execution": {
     "iopub.execute_input": "2021-09-20T02:49:18.543081Z",
     "iopub.status.busy": "2021-09-20T02:49:18.542606Z",
     "iopub.status.idle": "2021-09-20T02:49:18.555674Z",
     "shell.execute_reply": "2021-09-20T02:49:18.554772Z",
     "shell.execute_reply.started": "2021-09-20T02:49:18.543039Z"
    },
    "tags": []
   },
   "outputs": [
    {
     "data": {
      "text/plain": [
       "Pipeline(steps=[('classifier',\n",
       "                 LogisticRegression(C=1.592282793341094, penalty='l1',\n",
       "                                    solver='liblinear'))])"
      ]
     },
     "execution_count": 75,
     "metadata": {},
     "output_type": "execute_result"
    }
   ],
   "source": [
    "best_clf.best_estimator_"
   ]
  },
  {
   "cell_type": "code",
   "execution_count": 76,
   "metadata": {
    "execution": {
     "iopub.execute_input": "2021-09-20T02:49:18.557395Z",
     "iopub.status.busy": "2021-09-20T02:49:18.556969Z",
     "iopub.status.idle": "2021-09-20T02:49:18.668344Z",
     "shell.execute_reply": "2021-09-20T02:49:18.667117Z",
     "shell.execute_reply.started": "2021-09-20T02:49:18.557360Z"
    }
   },
   "outputs": [
    {
     "data": {
      "text/html": [
       "<div>\n",
       "<style scoped>\n",
       "    .dataframe tbody tr th:only-of-type {\n",
       "        vertical-align: middle;\n",
       "    }\n",
       "\n",
       "    .dataframe tbody tr th {\n",
       "        vertical-align: top;\n",
       "    }\n",
       "\n",
       "    .dataframe thead th {\n",
       "        text-align: right;\n",
       "    }\n",
       "</style>\n",
       "<table border=\"1\" class=\"dataframe\">\n",
       "  <thead>\n",
       "    <tr style=\"text-align: right;\">\n",
       "      <th></th>\n",
       "      <th>feature</th>\n",
       "      <th>importance</th>\n",
       "      <th>selected</th>\n",
       "    </tr>\n",
       "  </thead>\n",
       "  <tbody>\n",
       "    <tr>\n",
       "      <th>7</th>\n",
       "      <td>person_home_ownership_WOE</td>\n",
       "      <td>1.326734</td>\n",
       "      <td>True</td>\n",
       "    </tr>\n",
       "    <tr>\n",
       "      <th>8</th>\n",
       "      <td>loan_intent_WOE</td>\n",
       "      <td>1.271266</td>\n",
       "      <td>True</td>\n",
       "    </tr>\n",
       "    <tr>\n",
       "      <th>9</th>\n",
       "      <td>loan_grade_WOE</td>\n",
       "      <td>1.199796</td>\n",
       "      <td>True</td>\n",
       "    </tr>\n",
       "    <tr>\n",
       "      <th>1</th>\n",
       "      <td>person_income_WOE</td>\n",
       "      <td>1.047814</td>\n",
       "      <td>True</td>\n",
       "    </tr>\n",
       "    <tr>\n",
       "      <th>6</th>\n",
       "      <td>loan_amnt_WOE</td>\n",
       "      <td>1.006852</td>\n",
       "      <td>True</td>\n",
       "    </tr>\n",
       "    <tr>\n",
       "      <th>5</th>\n",
       "      <td>cb_person_cred_hist_length_WOE</td>\n",
       "      <td>0.943330</td>\n",
       "      <td>True</td>\n",
       "    </tr>\n",
       "    <tr>\n",
       "      <th>4</th>\n",
       "      <td>loan_percent_income_WOE</td>\n",
       "      <td>0.725599</td>\n",
       "      <td>True</td>\n",
       "    </tr>\n",
       "    <tr>\n",
       "      <th>2</th>\n",
       "      <td>person_emp_length_WOE</td>\n",
       "      <td>0.653650</td>\n",
       "      <td>True</td>\n",
       "    </tr>\n",
       "    <tr>\n",
       "      <th>0</th>\n",
       "      <td>person_age_WOE</td>\n",
       "      <td>0.215180</td>\n",
       "      <td>True</td>\n",
       "    </tr>\n",
       "    <tr>\n",
       "      <th>3</th>\n",
       "      <td>loan_int_rate_WOE</td>\n",
       "      <td>0.137016</td>\n",
       "      <td>True</td>\n",
       "    </tr>\n",
       "    <tr>\n",
       "      <th>10</th>\n",
       "      <td>cb_person_default_on_file_WOE</td>\n",
       "      <td>0.012429</td>\n",
       "      <td>True</td>\n",
       "    </tr>\n",
       "  </tbody>\n",
       "</table>\n",
       "</div>"
      ],
      "text/plain": [
       "                           feature  importance  selected\n",
       "7        person_home_ownership_WOE    1.326734      True\n",
       "8                  loan_intent_WOE    1.271266      True\n",
       "9                   loan_grade_WOE    1.199796      True\n",
       "1                person_income_WOE    1.047814      True\n",
       "6                    loan_amnt_WOE    1.006852      True\n",
       "5   cb_person_cred_hist_length_WOE    0.943330      True\n",
       "4          loan_percent_income_WOE    0.725599      True\n",
       "2            person_emp_length_WOE    0.653650      True\n",
       "0                   person_age_WOE    0.215180      True\n",
       "3                loan_int_rate_WOE    0.137016      True\n",
       "10   cb_person_default_on_file_WOE    0.012429      True"
      ]
     },
     "execution_count": 76,
     "metadata": {},
     "output_type": "execute_result"
    }
   ],
   "source": [
    "selector = SelectFromModel(estimator=best_clf.best_estimator_.named_steps['classifier'])\n",
    "selector.fit(train_x[woe_features], train_y)\n",
    "feature_importance_df = pd.DataFrame(\n",
    "    {\n",
    "        'feature': train_x[woe_features].columns,\n",
    "        'importance': abs(selector.estimator_.coef_)[0],\n",
    "        'selected': selector.get_support()\n",
    "    }\n",
    ")\n",
    "select_from_model = feature_importance_df[feature_importance_df['selected']].sort_values(by='importance', ascending=False)\n",
    "select_from_model"
   ]
  },
  {
   "cell_type": "markdown",
   "metadata": {},
   "source": [
    "## Feature Importance"
   ]
  },
  {
   "cell_type": "code",
   "execution_count": 77,
   "metadata": {
    "execution": {
     "iopub.execute_input": "2021-09-20T02:49:18.670237Z",
     "iopub.status.busy": "2021-09-20T02:49:18.669770Z",
     "iopub.status.idle": "2021-09-20T02:49:20.309979Z",
     "shell.execute_reply": "2021-09-20T02:49:20.308707Z",
     "shell.execute_reply.started": "2021-09-20T02:49:18.670202Z"
    },
    "tags": []
   },
   "outputs": [
    {
     "data": {
      "text/html": [
       "<div>\n",
       "<style scoped>\n",
       "    .dataframe tbody tr th:only-of-type {\n",
       "        vertical-align: middle;\n",
       "    }\n",
       "\n",
       "    .dataframe tbody tr th {\n",
       "        vertical-align: top;\n",
       "    }\n",
       "\n",
       "    .dataframe thead th {\n",
       "        text-align: right;\n",
       "    }\n",
       "</style>\n",
       "<table border=\"1\" class=\"dataframe\">\n",
       "  <thead>\n",
       "    <tr style=\"text-align: right;\">\n",
       "      <th></th>\n",
       "      <th>feature</th>\n",
       "      <th>importance</th>\n",
       "      <th>selected</th>\n",
       "    </tr>\n",
       "  </thead>\n",
       "  <tbody>\n",
       "    <tr>\n",
       "      <th>9</th>\n",
       "      <td>loan_grade_WOE</td>\n",
       "      <td>0.183592</td>\n",
       "      <td>True</td>\n",
       "    </tr>\n",
       "    <tr>\n",
       "      <th>8</th>\n",
       "      <td>loan_intent_WOE</td>\n",
       "      <td>0.165887</td>\n",
       "      <td>True</td>\n",
       "    </tr>\n",
       "    <tr>\n",
       "      <th>2</th>\n",
       "      <td>person_emp_length_WOE</td>\n",
       "      <td>0.111551</td>\n",
       "      <td>True</td>\n",
       "    </tr>\n",
       "    <tr>\n",
       "      <th>7</th>\n",
       "      <td>person_home_ownership_WOE</td>\n",
       "      <td>0.096558</td>\n",
       "      <td>True</td>\n",
       "    </tr>\n",
       "    <tr>\n",
       "      <th>4</th>\n",
       "      <td>loan_percent_income_WOE</td>\n",
       "      <td>0.096529</td>\n",
       "      <td>True</td>\n",
       "    </tr>\n",
       "    <tr>\n",
       "      <th>5</th>\n",
       "      <td>cb_person_cred_hist_length_WOE</td>\n",
       "      <td>0.079183</td>\n",
       "      <td>True</td>\n",
       "    </tr>\n",
       "    <tr>\n",
       "      <th>1</th>\n",
       "      <td>person_income_WOE</td>\n",
       "      <td>0.074637</td>\n",
       "      <td>True</td>\n",
       "    </tr>\n",
       "    <tr>\n",
       "      <th>3</th>\n",
       "      <td>loan_int_rate_WOE</td>\n",
       "      <td>0.066904</td>\n",
       "      <td>True</td>\n",
       "    </tr>\n",
       "    <tr>\n",
       "      <th>0</th>\n",
       "      <td>person_age_WOE</td>\n",
       "      <td>0.051525</td>\n",
       "      <td>True</td>\n",
       "    </tr>\n",
       "    <tr>\n",
       "      <th>6</th>\n",
       "      <td>loan_amnt_WOE</td>\n",
       "      <td>0.050455</td>\n",
       "      <td>True</td>\n",
       "    </tr>\n",
       "    <tr>\n",
       "      <th>10</th>\n",
       "      <td>cb_person_default_on_file_WOE</td>\n",
       "      <td>0.023178</td>\n",
       "      <td>True</td>\n",
       "    </tr>\n",
       "  </tbody>\n",
       "</table>\n",
       "</div>"
      ],
      "text/plain": [
       "                           feature  importance  selected\n",
       "9                   loan_grade_WOE    0.183592      True\n",
       "8                  loan_intent_WOE    0.165887      True\n",
       "2            person_emp_length_WOE    0.111551      True\n",
       "7        person_home_ownership_WOE    0.096558      True\n",
       "4          loan_percent_income_WOE    0.096529      True\n",
       "5   cb_person_cred_hist_length_WOE    0.079183      True\n",
       "1                person_income_WOE    0.074637      True\n",
       "3                loan_int_rate_WOE    0.066904      True\n",
       "0                   person_age_WOE    0.051525      True\n",
       "6                    loan_amnt_WOE    0.050455      True\n",
       "10   cb_person_default_on_file_WOE    0.023178      True"
      ]
     },
     "execution_count": 77,
     "metadata": {},
     "output_type": "execute_result"
    }
   ],
   "source": [
    "selector_rf = SelectFromModel(estimator=RandomForestClassifier(), threshold=0.005)\n",
    "selector_rf.fit(train_set_x[woe_features], train_set_y)\n",
    "feature_importance_df_rf = pd.DataFrame(\n",
    "    {\n",
    "        'feature': train_set_x[woe_features].columns,\n",
    "        'importance': abs(selector_rf.estimator_.feature_importances_),\n",
    "        'selected': selector_rf.get_support()\n",
    "    }\n",
    ")\n",
    "select_from_model_rf = feature_importance_df_rf[feature_importance_df_rf['selected']].sort_values(by='importance', ascending=False)\n",
    "select_from_model_rf"
   ]
  },
  {
   "cell_type": "markdown",
   "metadata": {},
   "source": [
    "## Target Distribution"
   ]
  },
  {
   "cell_type": "code",
   "execution_count": 78,
   "metadata": {
    "execution": {
     "iopub.execute_input": "2021-09-20T02:49:20.313704Z",
     "iopub.status.busy": "2021-09-20T02:49:20.311907Z",
     "iopub.status.idle": "2021-09-20T02:49:20.547576Z",
     "shell.execute_reply": "2021-09-20T02:49:20.546934Z",
     "shell.execute_reply.started": "2021-09-20T02:49:20.313539Z"
    }
   },
   "outputs": [
    {
     "data": {
      "image/png": "[encoded data removed]",
      "text/plain": [
       "<Figure size 576x288 with 1 Axes>"
      ]
     },
     "metadata": {
      "needs_background": "light"
     },
     "output_type": "display_data"
    }
   ],
   "source": [
    "fig = plt.figure(figsize=(8,4))\n",
    "plt.xlabel('Loan status Distribution')\n",
    "plt.hist(data[target]);"
   ]
  },
  {
   "cell_type": "code",
   "execution_count": 79,
   "metadata": {
    "execution": {
     "iopub.execute_input": "2021-09-20T02:49:20.550148Z",
     "iopub.status.busy": "2021-09-20T02:49:20.549202Z",
     "iopub.status.idle": "2021-09-20T02:49:20.565359Z",
     "shell.execute_reply": "2021-09-20T02:49:20.561991Z",
     "shell.execute_reply.started": "2021-09-20T02:49:20.550107Z"
    }
   },
   "outputs": [],
   "source": [
    "from sklearn import metrics\n",
    "from sklearn.model_selection import cross_val_score\n",
    "from sklearn.metrics import classification_report\n",
    "def print_evaluate(true, predicted):\n",
    "    auc = metrics.roc_auc_score(true, predicted)\n",
    "    accuracy = metrics.accuracy_score(true, predicted)\n",
    "    print('Accuracy:', accuracy)\n",
    "    print('AUC:', auc)\n",
    "    print('__________________________________')\n",
    "    \n",
    "def evaluate(true, predicted):\n",
    "    auc = metrics.roc_auc_score(true, predicted)\n",
    "    accuracy = metrics.accuracy_score(true, predicted)\n",
    "    return accuracy, auc"
   ]
  },
  {
   "cell_type": "markdown",
   "metadata": {},
   "source": [
    "## Logistic Regression"
   ]
  },
  {
   "cell_type": "code",
   "execution_count": 80,
   "metadata": {
    "execution": {
     "iopub.execute_input": "2021-09-20T02:49:20.578244Z",
     "iopub.status.busy": "2021-09-20T02:49:20.577986Z",
     "iopub.status.idle": "2021-09-20T02:49:20.587307Z",
     "shell.execute_reply": "2021-09-20T02:49:20.585773Z",
     "shell.execute_reply.started": "2021-09-20T02:49:20.578215Z"
    }
   },
   "outputs": [
    {
     "data": {
      "text/plain": [
       "['person_age_WOE',\n",
       " 'person_income_WOE',\n",
       " 'person_emp_length_WOE',\n",
       " 'loan_int_rate_WOE',\n",
       " 'loan_percent_income_WOE',\n",
       " 'cb_person_cred_hist_length_WOE',\n",
       " 'loan_amnt_WOE',\n",
       " 'person_home_ownership_WOE',\n",
       " 'loan_intent_WOE',\n",
       " 'loan_grade_WOE',\n",
       " 'cb_person_default_on_file_WOE']"
      ]
     },
     "execution_count": 80,
     "metadata": {},
     "output_type": "execute_result"
    }
   ],
   "source": [
    "woe_features"
   ]
  },
  {
   "cell_type": "markdown",
   "metadata": {},
   "source": [
    "### LOG REG WOE"
   ]
  },
  {
   "cell_type": "code",
   "execution_count": 81,
   "metadata": {
    "execution": {
     "iopub.execute_input": "2021-09-20T02:49:20.590977Z",
     "iopub.status.busy": "2021-09-20T02:49:20.589244Z",
     "iopub.status.idle": "2021-09-20T02:49:20.598914Z",
     "shell.execute_reply": "2021-09-20T02:49:20.598165Z",
     "shell.execute_reply.started": "2021-09-20T02:49:20.590931Z"
    },
    "tags": []
   },
   "outputs": [],
   "source": [
    "train_woe = train_set_x[woe_features]\n",
    "validate_woe = valid_x[woe_features]\n",
    "holdout_woe = holdout_x[woe_features]"
   ]
  },
  {
   "cell_type": "code",
   "execution_count": 82,
   "metadata": {
    "execution": {
     "iopub.execute_input": "2021-09-20T02:49:20.602418Z",
     "iopub.status.busy": "2021-09-20T02:49:20.600558Z",
     "iopub.status.idle": "2021-09-20T02:49:20.675833Z",
     "shell.execute_reply": "2021-09-20T02:49:20.675184Z",
     "shell.execute_reply.started": "2021-09-20T02:49:20.602296Z"
    },
    "tags": []
   },
   "outputs": [
    {
     "data": {
      "text/plain": [
       "LogisticRegression(C=1.592282793341094, n_jobs=-1, random_state=64,\n",
       "                   solver='liblinear')"
      ]
     },
     "execution_count": 82,
     "metadata": {},
     "output_type": "execute_result"
    }
   ],
   "source": [
    "logreg_opt =  LogisticRegression(solver = 'liblinear',\n",
    "                                C=1.592282793341094,\n",
    "                                 random_state = 64,\n",
    "                                 n_jobs = -1)\n",
    "logreg_opt.fit(train_woe, train_set_y)"
   ]
  },
  {
   "cell_type": "code",
   "execution_count": 83,
   "metadata": {
    "execution": {
     "iopub.execute_input": "2021-09-20T02:49:20.677279Z",
     "iopub.status.busy": "2021-09-20T02:49:20.677058Z",
     "iopub.status.idle": "2021-09-20T02:49:20.758014Z",
     "shell.execute_reply": "2021-09-20T02:49:20.756957Z",
     "shell.execute_reply.started": "2021-09-20T02:49:20.677258Z"
    },
    "tags": []
   },
   "outputs": [
    {
     "name": "stdout",
     "output_type": "stream",
     "text": [
      "Test set evaluation:\n",
      "_____________________________________\n",
      "Accuracy: 0.8406943105110897\n",
      "AUC: 0.6974694839125581\n",
      "__________________________________\n",
      "              precision    recall  f1-score   support\n",
      "\n",
      "           0       0.86      0.95      0.90      4056\n",
      "           1       0.72      0.44      0.55      1129\n",
      "\n",
      "    accuracy                           0.84      5185\n",
      "   macro avg       0.79      0.70      0.73      5185\n",
      "weighted avg       0.83      0.84      0.83      5185\n",
      "\n",
      "Train set evaluation:\n",
      "_____________________________________\n",
      "Accuracy: 0.846279955639134\n",
      "AUC: 0.7107190087988874\n",
      "__________________________________\n",
      "              precision    recall  f1-score   support\n",
      "\n",
      "           0       0.86      0.95      0.91     16188\n",
      "           1       0.73      0.47      0.57      4551\n",
      "\n",
      "    accuracy                           0.85     20739\n",
      "   macro avg       0.80      0.71      0.74     20739\n",
      "weighted avg       0.84      0.85      0.83     20739\n",
      "\n",
      "Holdout set evaluation:\n",
      "_____________________________________\n",
      "Accuracy: 0.8485035482875656\n",
      "AUC: 0.7108031251119791\n",
      "__________________________________\n",
      "              precision    recall  f1-score   support\n",
      "\n",
      "           0       0.87      0.95      0.91      5074\n",
      "           1       0.74      0.47      0.57      1408\n",
      "\n",
      "    accuracy                           0.85      6482\n",
      "   macro avg       0.80      0.71      0.74      6482\n",
      "weighted avg       0.84      0.85      0.84      6482\n",
      "\n"
     ]
    }
   ],
   "source": [
    "test_pred = logreg_opt.predict(validate_woe)\n",
    "train_pred = logreg_opt.predict(train_woe)\n",
    "holdout_pred = logreg_opt.predict(holdout_woe)\n",
    "\n",
    "print('Test set evaluation:\\n_____________________________________')\n",
    "print_evaluate(valid_y, test_pred)\n",
    "print(classification_report(valid_y, \n",
    "                            test_pred))\n",
    "print('Train set evaluation:\\n_____________________________________')\n",
    "print_evaluate(train_set_y, train_pred)\n",
    "print(classification_report(train_set_y, \n",
    "                            train_pred))\n",
    "print('Holdout set evaluation:\\n_____________________________________')\n",
    "print_evaluate(holdout_y, holdout_pred)\n",
    "print(classification_report(holdout_y, \n",
    "                            holdout_pred))"
   ]
  },
  {
   "cell_type": "code",
   "execution_count": 84,
   "metadata": {
    "execution": {
     "iopub.execute_input": "2021-09-20T02:49:20.760353Z",
     "iopub.status.busy": "2021-09-20T02:49:20.759852Z",
     "iopub.status.idle": "2021-09-20T02:49:20.801172Z",
     "shell.execute_reply": "2021-09-20T02:49:20.800504Z",
     "shell.execute_reply.started": "2021-09-20T02:49:20.760316Z"
    },
    "tags": []
   },
   "outputs": [
    {
     "data": {
      "text/html": [
       "<div>\n",
       "<style scoped>\n",
       "    .dataframe tbody tr th:only-of-type {\n",
       "        vertical-align: middle;\n",
       "    }\n",
       "\n",
       "    .dataframe tbody tr th {\n",
       "        vertical-align: top;\n",
       "    }\n",
       "\n",
       "    .dataframe thead tr th {\n",
       "        text-align: left;\n",
       "    }\n",
       "</style>\n",
       "<table border=\"1\" class=\"dataframe\">\n",
       "  <thead>\n",
       "    <tr>\n",
       "      <th></th>\n",
       "      <th>Model</th>\n",
       "      <th colspan=\"2\" halign=\"left\">Train</th>\n",
       "      <th colspan=\"2\" halign=\"left\">Valid</th>\n",
       "      <th colspan=\"2\" halign=\"left\">Holdout Sample</th>\n",
       "    </tr>\n",
       "    <tr>\n",
       "      <th></th>\n",
       "      <th></th>\n",
       "      <th>Accuracy</th>\n",
       "      <th>AUC</th>\n",
       "      <th>Accuracy</th>\n",
       "      <th>AUC</th>\n",
       "      <th>Accuracy</th>\n",
       "      <th>AUC</th>\n",
       "    </tr>\n",
       "  </thead>\n",
       "  <tbody>\n",
       "    <tr>\n",
       "      <th>0</th>\n",
       "      <td>LogReg WOE OPT</td>\n",
       "      <td>0.84628</td>\n",
       "      <td>0.710719</td>\n",
       "      <td>0.840694</td>\n",
       "      <td>0.697469</td>\n",
       "      <td>0.848504</td>\n",
       "      <td>0.710803</td>\n",
       "    </tr>\n",
       "  </tbody>\n",
       "</table>\n",
       "</div>"
      ],
      "text/plain": [
       "            Model    Train               Valid           Holdout Sample  \\\n",
       "                  Accuracy       AUC  Accuracy       AUC       Accuracy   \n",
       "0  LogReg WOE OPT  0.84628  0.710719  0.840694  0.697469       0.848504   \n",
       "\n",
       "             \n",
       "        AUC  \n",
       "0  0.710803  "
      ]
     },
     "execution_count": 84,
     "metadata": {},
     "output_type": "execute_result"
    }
   ],
   "source": [
    "index = pd.MultiIndex.from_product([['Train', 'Valid', 'Holdout Sample'], ['Accuracy', 'AUC']])\n",
    "result_logreg_WOE_opt = pd.DataFrame([pd.DataFrame({'Train' : list(evaluate(train_set_y, train_pred)),\n",
    "             'Valid' : list(evaluate(valid_y, test_pred)), 'Holdout Sample' : list(evaluate(holdout_y, holdout_pred))}).unstack().values], columns=index)\n",
    "result_logreg_WOE_opt.insert(loc=0, column='Model', value = 'LogReg WOE OPT')\n",
    "result_logreg_WOE_opt"
   ]
  },
  {
   "cell_type": "markdown",
   "metadata": {},
   "source": [
    "### LOG REG NOT WOE"
   ]
  },
  {
   "cell_type": "code",
   "execution_count": 85,
   "metadata": {
    "execution": {
     "iopub.execute_input": "2021-09-20T02:49:20.804592Z",
     "iopub.status.busy": "2021-09-20T02:49:20.804208Z",
     "iopub.status.idle": "2021-09-20T02:49:20.814834Z",
     "shell.execute_reply": "2021-09-20T02:49:20.813581Z",
     "shell.execute_reply.started": "2021-09-20T02:49:20.804557Z"
    },
    "tags": []
   },
   "outputs": [],
   "source": [
    "train_woe_cat = train_set_x[['person_age',\n",
    " 'person_income',\n",
    " 'person_emp_length_nan',\n",
    " 'loan_int_rate_nan',\n",
    " 'loan_percent_income',\n",
    " 'cb_person_cred_hist_length',\n",
    " 'loan_amnt', 'person_home_ownership_WOE',\n",
    " 'loan_intent_WOE',\n",
    " 'loan_grade_WOE',\n",
    " 'cb_person_default_on_file_WOE']]\n",
    "validate_woe_cat = valid_x[['person_age',\n",
    " 'person_income',\n",
    " 'person_emp_length_nan',\n",
    " 'loan_int_rate_nan',\n",
    " 'loan_percent_income',\n",
    " 'cb_person_cred_hist_length',\n",
    " 'loan_amnt', 'person_home_ownership_WOE',\n",
    " 'loan_intent_WOE',\n",
    " 'loan_grade_WOE',\n",
    " 'cb_person_default_on_file_WOE']]\n",
    "holdout_woe_cat = holdout_x[['person_age',\n",
    " 'person_income',\n",
    " 'person_emp_length_nan',\n",
    " 'loan_int_rate_nan',\n",
    " 'loan_percent_income',\n",
    " 'cb_person_cred_hist_length',\n",
    " 'loan_amnt', 'person_home_ownership_WOE',\n",
    " 'loan_intent_WOE',\n",
    " 'loan_grade_WOE',\n",
    " 'cb_person_default_on_file_WOE']]"
   ]
  },
  {
   "cell_type": "code",
   "execution_count": 86,
   "metadata": {
    "execution": {
     "iopub.execute_input": "2021-09-20T02:49:20.816448Z",
     "iopub.status.busy": "2021-09-20T02:49:20.815990Z",
     "iopub.status.idle": "2021-09-20T02:49:20.900144Z",
     "shell.execute_reply": "2021-09-20T02:49:20.899004Z",
     "shell.execute_reply.started": "2021-09-20T02:49:20.816418Z"
    },
    "tags": []
   },
   "outputs": [
    {
     "data": {
      "text/plain": [
       "LogisticRegression(C=1.592282793341094, n_jobs=-1, random_state=64,\n",
       "                   solver='liblinear')"
      ]
     },
     "execution_count": 86,
     "metadata": {},
     "output_type": "execute_result"
    }
   ],
   "source": [
    "logreg_opt =  LogisticRegression(solver = 'liblinear',\n",
    "                                C=1.592282793341094,\n",
    "                                 random_state = 64,\n",
    "                                 n_jobs = -1)\n",
    "logreg_opt.fit(train_woe_cat, train_set_y)"
   ]
  },
  {
   "cell_type": "code",
   "execution_count": 87,
   "metadata": {
    "execution": {
     "iopub.execute_input": "2021-09-20T02:49:20.903355Z",
     "iopub.status.busy": "2021-09-20T02:49:20.902949Z",
     "iopub.status.idle": "2021-09-20T02:49:20.999086Z",
     "shell.execute_reply": "2021-09-20T02:49:20.998339Z",
     "shell.execute_reply.started": "2021-09-20T02:49:20.903320Z"
    }
   },
   "outputs": [
    {
     "name": "stdout",
     "output_type": "stream",
     "text": [
      "Test set evaluation:\n",
      "_____________________________________\n",
      "Accuracy: 0.8123432979749277\n",
      "AUC: 0.5952945302522873\n",
      "__________________________________\n",
      "              precision    recall  f1-score   support\n",
      "\n",
      "           0       0.82      0.98      0.89      4056\n",
      "           1       0.74      0.21      0.33      1129\n",
      "\n",
      "    accuracy                           0.81      5185\n",
      "   macro avg       0.78      0.60      0.61      5185\n",
      "weighted avg       0.80      0.81      0.77      5185\n",
      "\n",
      "Train set evaluation:\n",
      "_____________________________________\n",
      "Accuracy: 0.8159024060947973\n",
      "AUC: 0.601540135119661\n",
      "__________________________________\n",
      "              precision    recall  f1-score   support\n",
      "\n",
      "           0       0.82      0.98      0.89     16188\n",
      "           1       0.79      0.22      0.34      4551\n",
      "\n",
      "    accuracy                           0.82     20739\n",
      "   macro avg       0.80      0.60      0.62     20739\n",
      "weighted avg       0.81      0.82      0.77     20739\n",
      "\n",
      "Holdout set evaluation:\n",
      "_____________________________________\n",
      "Accuracy: 0.8207343412526998\n",
      "AUC: 0.6063442863797613\n",
      "__________________________________\n",
      "              precision    recall  f1-score   support\n",
      "\n",
      "           0       0.82      0.99      0.90      5074\n",
      "           1       0.81      0.23      0.36      1408\n",
      "\n",
      "    accuracy                           0.82      6482\n",
      "   macro avg       0.82      0.61      0.63      6482\n",
      "weighted avg       0.82      0.82      0.78      6482\n",
      "\n"
     ]
    }
   ],
   "source": [
    "test_pred = logreg_opt.predict(validate_woe_cat)\n",
    "train_pred = logreg_opt.predict(train_woe_cat)\n",
    "holdout_pred = logreg_opt.predict(holdout_woe_cat)\n",
    "\n",
    "print('Test set evaluation:\\n_____________________________________')\n",
    "print_evaluate(valid_y, test_pred)\n",
    "print(classification_report(valid_y, \n",
    "                            test_pred))\n",
    "print('Train set evaluation:\\n_____________________________________')\n",
    "print_evaluate(train_set_y, train_pred)\n",
    "print(classification_report(train_set_y, \n",
    "                            train_pred))\n",
    "print('Holdout set evaluation:\\n_____________________________________')\n",
    "print_evaluate(holdout_y, holdout_pred)\n",
    "print(classification_report(holdout_y, \n",
    "                            holdout_pred))"
   ]
  },
  {
   "cell_type": "code",
   "execution_count": 88,
   "metadata": {
    "execution": {
     "iopub.execute_input": "2021-09-20T02:49:21.003061Z",
     "iopub.status.busy": "2021-09-20T02:49:21.002393Z",
     "iopub.status.idle": "2021-09-20T02:49:21.053357Z",
     "shell.execute_reply": "2021-09-20T02:49:21.052078Z",
     "shell.execute_reply.started": "2021-09-20T02:49:21.003026Z"
    }
   },
   "outputs": [
    {
     "data": {
      "text/html": [
       "<div>\n",
       "<style scoped>\n",
       "    .dataframe tbody tr th:only-of-type {\n",
       "        vertical-align: middle;\n",
       "    }\n",
       "\n",
       "    .dataframe tbody tr th {\n",
       "        vertical-align: top;\n",
       "    }\n",
       "\n",
       "    .dataframe thead tr th {\n",
       "        text-align: left;\n",
       "    }\n",
       "</style>\n",
       "<table border=\"1\" class=\"dataframe\">\n",
       "  <thead>\n",
       "    <tr>\n",
       "      <th></th>\n",
       "      <th>Model</th>\n",
       "      <th colspan=\"2\" halign=\"left\">Train</th>\n",
       "      <th colspan=\"2\" halign=\"left\">Valid</th>\n",
       "      <th colspan=\"2\" halign=\"left\">Holdout Sample</th>\n",
       "    </tr>\n",
       "    <tr>\n",
       "      <th></th>\n",
       "      <th></th>\n",
       "      <th>Accuracy</th>\n",
       "      <th>AUC</th>\n",
       "      <th>Accuracy</th>\n",
       "      <th>AUC</th>\n",
       "      <th>Accuracy</th>\n",
       "      <th>AUC</th>\n",
       "    </tr>\n",
       "  </thead>\n",
       "  <tbody>\n",
       "    <tr>\n",
       "      <th>0</th>\n",
       "      <td>LogReg OPT WOE CAT</td>\n",
       "      <td>0.815902</td>\n",
       "      <td>0.60154</td>\n",
       "      <td>0.812343</td>\n",
       "      <td>0.595295</td>\n",
       "      <td>0.820734</td>\n",
       "      <td>0.606344</td>\n",
       "    </tr>\n",
       "  </tbody>\n",
       "</table>\n",
       "</div>"
      ],
      "text/plain": [
       "                Model     Train              Valid           Holdout Sample  \\\n",
       "                       Accuracy      AUC  Accuracy       AUC       Accuracy   \n",
       "0  LogReg OPT WOE CAT  0.815902  0.60154  0.812343  0.595295       0.820734   \n",
       "\n",
       "             \n",
       "        AUC  \n",
       "0  0.606344  "
      ]
     },
     "execution_count": 88,
     "metadata": {},
     "output_type": "execute_result"
    }
   ],
   "source": [
    "index = pd.MultiIndex.from_product([['Train', 'Valid', 'Holdout Sample'], ['Accuracy', 'AUC']])\n",
    "result_logreg_WOE_cat = pd.DataFrame([pd.DataFrame({'Train' : list(evaluate(train_set_y, train_pred)),\n",
    "             'Valid' : list(evaluate(valid_y, test_pred)), 'Holdout Sample' : list(evaluate(holdout_y, holdout_pred))}).unstack().values], columns=index)\n",
    "result_logreg_WOE_cat.insert(loc=0, column='Model', value = 'LogReg OPT WOE CAT')\n",
    "result_logreg_WOE_cat"
   ]
  },
  {
   "cell_type": "markdown",
   "metadata": {},
   "source": [
    "## Random Forest"
   ]
  },
  {
   "cell_type": "code",
   "execution_count": 89,
   "metadata": {
    "execution": {
     "iopub.execute_input": "2021-09-20T02:49:21.055557Z",
     "iopub.status.busy": "2021-09-20T02:49:21.055219Z",
     "iopub.status.idle": "2021-09-20T02:49:21.063176Z",
     "shell.execute_reply": "2021-09-20T02:49:21.060324Z",
     "shell.execute_reply.started": "2021-09-20T02:49:21.055534Z"
    }
   },
   "outputs": [],
   "source": [
    "rfr_opt = RandomForestClassifier(n_estimators= 800,\n",
    "                                 criterion='gini',\n",
    "                                 min_samples_split= 2,\n",
    "                                 min_samples_leaf= 3,\n",
    "                                 max_features= 'sqrt',\n",
    "                                 max_depth= 4,\n",
    "                                 bootstrap= False, random_state=42)"
   ]
  },
  {
   "cell_type": "markdown",
   "metadata": {
    "execution": {
     "iopub.execute_input": "2021-09-10T07:17:48.541628Z",
     "iopub.status.busy": "2021-09-10T07:17:48.541384Z",
     "iopub.status.idle": "2021-09-10T07:17:48.545357Z",
     "shell.execute_reply": "2021-09-10T07:17:48.544190Z",
     "shell.execute_reply.started": "2021-09-10T07:17:48.541605Z"
    }
   },
   "source": [
    "### Random Forest With WOE FEATURES"
   ]
  },
  {
   "cell_type": "code",
   "execution_count": 90,
   "metadata": {
    "execution": {
     "iopub.execute_input": "2021-09-20T02:49:21.066478Z",
     "iopub.status.busy": "2021-09-20T02:49:21.065663Z",
     "iopub.status.idle": "2021-09-20T02:49:25.539191Z",
     "shell.execute_reply": "2021-09-20T02:49:25.538461Z",
     "shell.execute_reply.started": "2021-09-20T02:49:21.066443Z"
    }
   },
   "outputs": [
    {
     "data": {
      "text/plain": [
       "RandomForestClassifier(bootstrap=False, max_depth=4, max_features='sqrt',\n",
       "                       min_samples_leaf=3, n_estimators=800, random_state=42)"
      ]
     },
     "execution_count": 90,
     "metadata": {},
     "output_type": "execute_result"
    }
   ],
   "source": [
    "rfr_opt.fit(train_woe, train_set_y)"
   ]
  },
  {
   "cell_type": "code",
   "execution_count": 91,
   "metadata": {
    "execution": {
     "iopub.execute_input": "2021-09-20T02:49:25.541343Z",
     "iopub.status.busy": "2021-09-20T02:49:25.540828Z",
     "iopub.status.idle": "2021-09-20T02:49:27.227468Z",
     "shell.execute_reply": "2021-09-20T02:49:27.226850Z",
     "shell.execute_reply.started": "2021-09-20T02:49:25.541305Z"
    }
   },
   "outputs": [
    {
     "name": "stdout",
     "output_type": "stream",
     "text": [
      "Test set evaluation:\n",
      "_____________________________________\n",
      "Accuracy: 0.8507232401157184\n",
      "AUC: 0.6719201768683952\n",
      "__________________________________\n",
      "              precision    recall  f1-score   support\n",
      "\n",
      "           0       0.85      0.99      0.91      4056\n",
      "           1       0.90      0.36      0.51      1129\n",
      "\n",
      "    accuracy                           0.85      5185\n",
      "   macro avg       0.87      0.67      0.71      5185\n",
      "weighted avg       0.86      0.85      0.82      5185\n",
      "\n",
      "Train set evaluation:\n",
      "_____________________________________\n",
      "Accuracy: 0.8567433338155167\n",
      "AUC: 0.6885942108374262\n",
      "__________________________________\n",
      "              precision    recall  f1-score   support\n",
      "\n",
      "           0       0.85      0.99      0.92     16188\n",
      "           1       0.90      0.39      0.54      4551\n",
      "\n",
      "    accuracy                           0.86     20739\n",
      "   macro avg       0.88      0.69      0.73     20739\n",
      "weighted avg       0.86      0.86      0.83     20739\n",
      "\n",
      "Holdout set evaluation:\n",
      "_____________________________________\n",
      "Accuracy: 0.8571428571428571\n",
      "AUC: 0.6842499473698355\n",
      "__________________________________\n",
      "              precision    recall  f1-score   support\n",
      "\n",
      "           0       0.85      0.99      0.92      5074\n",
      "           1       0.91      0.38      0.54      1408\n",
      "\n",
      "    accuracy                           0.86      6482\n",
      "   macro avg       0.88      0.68      0.73      6482\n",
      "weighted avg       0.86      0.86      0.83      6482\n",
      "\n"
     ]
    }
   ],
   "source": [
    "test_pred = rfr_opt.predict(validate_woe)\n",
    "train_pred = rfr_opt.predict(train_woe)\n",
    "holdout_pred = rfr_opt.predict(holdout_woe)\n",
    "\n",
    "print('Test set evaluation:\\n_____________________________________')\n",
    "print_evaluate(valid_y, test_pred)\n",
    "print(classification_report(valid_y, \n",
    "                            test_pred))\n",
    "print('Train set evaluation:\\n_____________________________________')\n",
    "print_evaluate(train_set_y, train_pred)\n",
    "print(classification_report(train_set_y, \n",
    "                            train_pred))\n",
    "print('Holdout set evaluation:\\n_____________________________________')\n",
    "print_evaluate(holdout_y, holdout_pred)\n",
    "print(classification_report(holdout_y, \n",
    "                            holdout_pred))"
   ]
  },
  {
   "cell_type": "code",
   "execution_count": 92,
   "metadata": {
    "execution": {
     "iopub.execute_input": "2021-09-20T02:49:27.229051Z",
     "iopub.status.busy": "2021-09-20T02:49:27.228750Z",
     "iopub.status.idle": "2021-09-20T02:49:27.267992Z",
     "shell.execute_reply": "2021-09-20T02:49:27.267140Z",
     "shell.execute_reply.started": "2021-09-20T02:49:27.229029Z"
    },
    "tags": []
   },
   "outputs": [
    {
     "data": {
      "text/html": [
       "<div>\n",
       "<style scoped>\n",
       "    .dataframe tbody tr th:only-of-type {\n",
       "        vertical-align: middle;\n",
       "    }\n",
       "\n",
       "    .dataframe tbody tr th {\n",
       "        vertical-align: top;\n",
       "    }\n",
       "\n",
       "    .dataframe thead tr th {\n",
       "        text-align: left;\n",
       "    }\n",
       "</style>\n",
       "<table border=\"1\" class=\"dataframe\">\n",
       "  <thead>\n",
       "    <tr>\n",
       "      <th></th>\n",
       "      <th>Model</th>\n",
       "      <th colspan=\"2\" halign=\"left\">Train</th>\n",
       "      <th colspan=\"2\" halign=\"left\">Valid</th>\n",
       "      <th colspan=\"2\" halign=\"left\">Holdout Sample</th>\n",
       "    </tr>\n",
       "    <tr>\n",
       "      <th></th>\n",
       "      <th></th>\n",
       "      <th>Accuracy</th>\n",
       "      <th>AUC</th>\n",
       "      <th>Accuracy</th>\n",
       "      <th>AUC</th>\n",
       "      <th>Accuracy</th>\n",
       "      <th>AUC</th>\n",
       "    </tr>\n",
       "  </thead>\n",
       "  <tbody>\n",
       "    <tr>\n",
       "      <th>0</th>\n",
       "      <td>RFR OPT WOE</td>\n",
       "      <td>0.856743</td>\n",
       "      <td>0.688594</td>\n",
       "      <td>0.850723</td>\n",
       "      <td>0.67192</td>\n",
       "      <td>0.857143</td>\n",
       "      <td>0.68425</td>\n",
       "    </tr>\n",
       "  </tbody>\n",
       "</table>\n",
       "</div>"
      ],
      "text/plain": [
       "         Model     Train               Valid          Holdout Sample         \n",
       "                Accuracy       AUC  Accuracy      AUC       Accuracy      AUC\n",
       "0  RFR OPT WOE  0.856743  0.688594  0.850723  0.67192       0.857143  0.68425"
      ]
     },
     "execution_count": 92,
     "metadata": {},
     "output_type": "execute_result"
    }
   ],
   "source": [
    "index = pd.MultiIndex.from_product([['Train', 'Valid', 'Holdout Sample'], ['Accuracy', 'AUC']])\n",
    "result_rfr_opt = pd.DataFrame([pd.DataFrame({'Train' : list(evaluate(train_set_y, train_pred)),\n",
    "             'Valid' : list(evaluate(valid_y, test_pred)), 'Holdout Sample' : list(evaluate(holdout_y, holdout_pred))}).unstack().values], columns=index)\n",
    "result_rfr_opt.insert(loc=0, column='Model', value = 'RFR OPT WOE')\n",
    "result_rfr_opt"
   ]
  },
  {
   "cell_type": "markdown",
   "metadata": {},
   "source": [
    "### Random Forest with WOE CAT"
   ]
  },
  {
   "cell_type": "code",
   "execution_count": 93,
   "metadata": {
    "execution": {
     "iopub.execute_input": "2021-09-20T02:49:27.270064Z",
     "iopub.status.busy": "2021-09-20T02:49:27.269748Z",
     "iopub.status.idle": "2021-09-20T02:49:34.414238Z",
     "shell.execute_reply": "2021-09-20T02:49:34.413594Z",
     "shell.execute_reply.started": "2021-09-20T02:49:27.270024Z"
    },
    "tags": []
   },
   "outputs": [
    {
     "data": {
      "text/plain": [
       "RandomForestClassifier(bootstrap=False, max_depth=4, max_features='sqrt',\n",
       "                       min_samples_leaf=3, n_estimators=800, random_state=42)"
      ]
     },
     "execution_count": 93,
     "metadata": {},
     "output_type": "execute_result"
    }
   ],
   "source": [
    "rfr_opt.fit(train_woe_cat, train_set_y)"
   ]
  },
  {
   "cell_type": "code",
   "execution_count": 94,
   "metadata": {
    "execution": {
     "iopub.execute_input": "2021-09-20T02:49:34.415786Z",
     "iopub.status.busy": "2021-09-20T02:49:34.415517Z",
     "iopub.status.idle": "2021-09-20T02:49:36.260664Z",
     "shell.execute_reply": "2021-09-20T02:49:36.259893Z",
     "shell.execute_reply.started": "2021-09-20T02:49:34.415746Z"
    }
   },
   "outputs": [
    {
     "name": "stdout",
     "output_type": "stream",
     "text": [
      "Test set evaluation:\n",
      "_____________________________________\n",
      "Accuracy: 0.914946962391514\n",
      "AUC: 0.8142822888768927\n",
      "__________________________________\n",
      "              precision    recall  f1-score   support\n",
      "\n",
      "           0       0.91      0.99      0.95      4056\n",
      "           1       0.96      0.64      0.77      1129\n",
      "\n",
      "    accuracy                           0.91      5185\n",
      "   macro avg       0.93      0.81      0.86      5185\n",
      "weighted avg       0.92      0.91      0.91      5185\n",
      "\n",
      "Train set evaluation:\n",
      "_____________________________________\n",
      "Accuracy: 0.9143642412845364\n",
      "AUC: 0.8135657263150076\n",
      "__________________________________\n",
      "              precision    recall  f1-score   support\n",
      "\n",
      "           0       0.91      0.99      0.95     16188\n",
      "           1       0.96      0.63      0.76      4551\n",
      "\n",
      "    accuracy                           0.91     20739\n",
      "   macro avg       0.93      0.81      0.86     20739\n",
      "weighted avg       0.92      0.91      0.91     20739\n",
      "\n",
      "Holdout set evaluation:\n",
      "_____________________________________\n",
      "Accuracy: 0.9134526380746684\n",
      "AUC: 0.8097612718135235\n",
      "__________________________________\n",
      "              precision    recall  f1-score   support\n",
      "\n",
      "           0       0.91      0.99      0.95      5074\n",
      "           1       0.96      0.63      0.76      1408\n",
      "\n",
      "    accuracy                           0.91      6482\n",
      "   macro avg       0.93      0.81      0.85      6482\n",
      "weighted avg       0.92      0.91      0.91      6482\n",
      "\n"
     ]
    }
   ],
   "source": [
    "test_pred = rfr_opt.predict(validate_woe_cat)\n",
    "train_pred = rfr_opt.predict(train_woe_cat)\n",
    "holdout_pred = rfr_opt.predict(holdout_woe_cat)\n",
    "\n",
    "print('Test set evaluation:\\n_____________________________________')\n",
    "print_evaluate(valid_y, test_pred)\n",
    "print(classification_report(valid_y, \n",
    "                            test_pred))\n",
    "print('Train set evaluation:\\n_____________________________________')\n",
    "print_evaluate(train_set_y, train_pred)\n",
    "print(classification_report(train_set_y, \n",
    "                            train_pred))\n",
    "print('Holdout set evaluation:\\n_____________________________________')\n",
    "print_evaluate(holdout_y, holdout_pred)\n",
    "print(classification_report(holdout_y, \n",
    "                            holdout_pred))"
   ]
  },
  {
   "cell_type": "code",
   "execution_count": 95,
   "metadata": {
    "execution": {
     "iopub.execute_input": "2021-09-20T02:49:36.262677Z",
     "iopub.status.busy": "2021-09-20T02:49:36.262109Z",
     "iopub.status.idle": "2021-09-20T02:49:36.304475Z",
     "shell.execute_reply": "2021-09-20T02:49:36.303653Z",
     "shell.execute_reply.started": "2021-09-20T02:49:36.262639Z"
    }
   },
   "outputs": [
    {
     "data": {
      "text/html": [
       "<div>\n",
       "<style scoped>\n",
       "    .dataframe tbody tr th:only-of-type {\n",
       "        vertical-align: middle;\n",
       "    }\n",
       "\n",
       "    .dataframe tbody tr th {\n",
       "        vertical-align: top;\n",
       "    }\n",
       "\n",
       "    .dataframe thead tr th {\n",
       "        text-align: left;\n",
       "    }\n",
       "</style>\n",
       "<table border=\"1\" class=\"dataframe\">\n",
       "  <thead>\n",
       "    <tr>\n",
       "      <th></th>\n",
       "      <th>Model</th>\n",
       "      <th colspan=\"2\" halign=\"left\">Train</th>\n",
       "      <th colspan=\"2\" halign=\"left\">Valid</th>\n",
       "      <th colspan=\"2\" halign=\"left\">Holdout Sample</th>\n",
       "    </tr>\n",
       "    <tr>\n",
       "      <th></th>\n",
       "      <th></th>\n",
       "      <th>Accuracy</th>\n",
       "      <th>AUC</th>\n",
       "      <th>Accuracy</th>\n",
       "      <th>AUC</th>\n",
       "      <th>Accuracy</th>\n",
       "      <th>AUC</th>\n",
       "    </tr>\n",
       "  </thead>\n",
       "  <tbody>\n",
       "    <tr>\n",
       "      <th>0</th>\n",
       "      <td>RFR OPT WOE CAT</td>\n",
       "      <td>0.914364</td>\n",
       "      <td>0.813566</td>\n",
       "      <td>0.914947</td>\n",
       "      <td>0.814282</td>\n",
       "      <td>0.913453</td>\n",
       "      <td>0.809761</td>\n",
       "    </tr>\n",
       "  </tbody>\n",
       "</table>\n",
       "</div>"
      ],
      "text/plain": [
       "             Model     Train               Valid           Holdout Sample  \\\n",
       "                    Accuracy       AUC  Accuracy       AUC       Accuracy   \n",
       "0  RFR OPT WOE CAT  0.914364  0.813566  0.914947  0.814282       0.913453   \n",
       "\n",
       "             \n",
       "        AUC  \n",
       "0  0.809761  "
      ]
     },
     "execution_count": 95,
     "metadata": {},
     "output_type": "execute_result"
    }
   ],
   "source": [
    "index = pd.MultiIndex.from_product([['Train', 'Valid', 'Holdout Sample'], ['Accuracy', 'AUC']])\n",
    "result_rfr_opt_woe_cat = pd.DataFrame([pd.DataFrame({'Train' : list(evaluate(train_set_y, train_pred)),\n",
    "             'Valid' : list(evaluate(valid_y, test_pred)), 'Holdout Sample' : list(evaluate(holdout_y, holdout_pred))}).unstack().values], columns=index)\n",
    "result_rfr_opt_woe_cat.insert(loc=0, column='Model', value = 'RFR OPT WOE CAT')\n",
    "result_rfr_opt_woe_cat"
   ]
  },
  {
   "cell_type": "markdown",
   "metadata": {},
   "source": [
    "## XGBoost"
   ]
  },
  {
   "cell_type": "code",
   "execution_count": 96,
   "metadata": {
    "execution": {
     "iopub.execute_input": "2021-09-20T02:49:36.306010Z",
     "iopub.status.busy": "2021-09-20T02:49:36.305583Z",
     "iopub.status.idle": "2021-09-20T02:49:36.321056Z",
     "shell.execute_reply": "2021-09-20T02:49:36.314066Z",
     "shell.execute_reply.started": "2021-09-20T02:49:36.305981Z"
    },
    "tags": []
   },
   "outputs": [
    {
     "data": {
      "text/plain": [
       "['person_age',\n",
       " 'person_income',\n",
       " 'person_emp_length',\n",
       " 'loan_int_rate',\n",
       " 'loan_percent_income',\n",
       " 'cb_person_cred_hist_length',\n",
       " 'loan_amnt']"
      ]
     },
     "execution_count": 96,
     "metadata": {},
     "output_type": "execute_result"
    }
   ],
   "source": [
    "continuous_features"
   ]
  },
  {
   "cell_type": "code",
   "execution_count": 97,
   "metadata": {
    "execution": {
     "iopub.execute_input": "2021-09-20T02:49:36.326925Z",
     "iopub.status.busy": "2021-09-20T02:49:36.326325Z",
     "iopub.status.idle": "2021-09-20T02:49:36.336065Z",
     "shell.execute_reply": "2021-09-20T02:49:36.335283Z",
     "shell.execute_reply.started": "2021-09-20T02:49:36.326891Z"
    }
   },
   "outputs": [
    {
     "data": {
      "text/plain": [
       "['person_age_WOE',\n",
       " 'person_income_WOE',\n",
       " 'person_emp_length_WOE',\n",
       " 'loan_int_rate_WOE',\n",
       " 'loan_percent_income_WOE',\n",
       " 'cb_person_cred_hist_length_WOE',\n",
       " 'loan_amnt_WOE',\n",
       " 'person_home_ownership_WOE',\n",
       " 'loan_intent_WOE',\n",
       " 'loan_grade_WOE',\n",
       " 'cb_person_default_on_file_WOE']"
      ]
     },
     "execution_count": 97,
     "metadata": {},
     "output_type": "execute_result"
    }
   ],
   "source": [
    "woe_features"
   ]
  },
  {
   "cell_type": "code",
   "execution_count": 98,
   "metadata": {
    "execution": {
     "iopub.execute_input": "2021-09-20T02:49:36.338100Z",
     "iopub.status.busy": "2021-09-20T02:49:36.337529Z",
     "iopub.status.idle": "2021-09-20T02:49:36.347978Z",
     "shell.execute_reply": "2021-09-20T02:49:36.347023Z",
     "shell.execute_reply.started": "2021-09-20T02:49:36.338049Z"
    }
   },
   "outputs": [
    {
     "data": {
      "text/plain": [
       "['person_home_ownership',\n",
       " 'loan_intent',\n",
       " 'loan_grade',\n",
       " 'cb_person_default_on_file']"
      ]
     },
     "execution_count": 98,
     "metadata": {},
     "output_type": "execute_result"
    }
   ],
   "source": [
    "nominal_features"
   ]
  },
  {
   "cell_type": "code",
   "execution_count": 99,
   "metadata": {
    "execution": {
     "iopub.execute_input": "2021-09-20T02:49:36.351825Z",
     "iopub.status.busy": "2021-09-20T02:49:36.350219Z",
     "iopub.status.idle": "2021-09-20T02:49:36.361357Z",
     "shell.execute_reply": "2021-09-20T02:49:36.360628Z",
     "shell.execute_reply.started": "2021-09-20T02:49:36.351783Z"
    },
    "tags": []
   },
   "outputs": [],
   "source": [
    "train_woe_cat = train_set_x[['person_age',\n",
    " 'person_income',\n",
    " 'person_emp_length',\n",
    " 'loan_int_rate',\n",
    " 'loan_percent_income',\n",
    " 'cb_person_cred_hist_length',\n",
    " 'loan_amnt', 'person_home_ownership_WOE',\n",
    " 'loan_intent_WOE',\n",
    " 'loan_grade_WOE',\n",
    " 'cb_person_default_on_file_WOE']]\n",
    "validate_woe_cat = valid_x[['person_age',\n",
    " 'person_income',\n",
    " 'person_emp_length',\n",
    " 'loan_int_rate',\n",
    " 'loan_percent_income',\n",
    " 'cb_person_cred_hist_length',\n",
    " 'loan_amnt', 'person_home_ownership_WOE',\n",
    " 'loan_intent_WOE',\n",
    " 'loan_grade_WOE',\n",
    " 'cb_person_default_on_file_WOE']]\n",
    "holdout_woe_cat = holdout_x[['person_age',\n",
    " 'person_income',\n",
    " 'person_emp_length',\n",
    " 'loan_int_rate',\n",
    " 'loan_percent_income',\n",
    " 'cb_person_cred_hist_length',\n",
    " 'loan_amnt', 'person_home_ownership_WOE',\n",
    " 'loan_intent_WOE',\n",
    " 'loan_grade_WOE',\n",
    " 'cb_person_default_on_file_WOE']]"
   ]
  },
  {
   "cell_type": "code",
   "execution_count": 100,
   "metadata": {
    "execution": {
     "iopub.execute_input": "2021-09-20T02:49:36.363521Z",
     "iopub.status.busy": "2021-09-20T02:49:36.362728Z",
     "iopub.status.idle": "2021-09-20T02:49:36.370269Z",
     "shell.execute_reply": "2021-09-20T02:49:36.368372Z",
     "shell.execute_reply.started": "2021-09-20T02:49:36.363481Z"
    }
   },
   "outputs": [],
   "source": [
    "xgb_opt =  XGBClassifier(n_estimators = 1000,\n",
    "                               max_depth = 10,\n",
    "                               learning_rate = 0.01,\n",
    "                               gamma = 5,\n",
    "                               min_child_weight = 3,\n",
    "                               subsample = 0.5,\n",
    "                         eval_metric='logloss',\n",
    "                               random_state = 64)"
   ]
  },
  {
   "cell_type": "markdown",
   "metadata": {},
   "source": [
    "### XGB WITH WOE_CAT"
   ]
  },
  {
   "cell_type": "markdown",
   "metadata": {},
   "source": [
    "XGN dengan Feature WOE pada categoricalnya, FEATURE yang memiliki nilai nan tidak diganti/dihapurs, karena pada XGB dapat memprosess nilai yang terdapat nan(null)"
   ]
  },
  {
   "cell_type": "code",
   "execution_count": 101,
   "metadata": {
    "execution": {
     "iopub.execute_input": "2021-09-20T02:49:36.372210Z",
     "iopub.status.busy": "2021-09-20T02:49:36.371350Z",
     "iopub.status.idle": "2021-09-20T02:50:07.352353Z",
     "shell.execute_reply": "2021-09-20T02:50:07.351678Z",
     "shell.execute_reply.started": "2021-09-20T02:49:36.372171Z"
    },
    "tags": []
   },
   "outputs": [
    {
     "data": {
      "text/plain": [
       "XGBClassifier(base_score=0.5, booster='gbtree', colsample_bylevel=1,\n",
       "              colsample_bynode=1, colsample_bytree=1, eval_metric='logloss',\n",
       "              gamma=5, gpu_id=-1, importance_type='gain',\n",
       "              interaction_constraints='', learning_rate=0.01, max_delta_step=0,\n",
       "              max_depth=10, min_child_weight=3, missing=nan,\n",
       "              monotone_constraints='()', n_estimators=1000, n_jobs=4,\n",
       "              num_parallel_tree=1, random_state=64, reg_alpha=0, reg_lambda=1,\n",
       "              scale_pos_weight=1, subsample=0.5, tree_method='exact',\n",
       "              validate_parameters=1, verbosity=None)"
      ]
     },
     "execution_count": 101,
     "metadata": {},
     "output_type": "execute_result"
    }
   ],
   "source": [
    "xgb_opt.fit(train_woe_cat, train_set_y)"
   ]
  },
  {
   "cell_type": "code",
   "execution_count": 102,
   "metadata": {
    "execution": {
     "iopub.execute_input": "2021-09-20T02:50:07.354430Z",
     "iopub.status.busy": "2021-09-20T02:50:07.354002Z",
     "iopub.status.idle": "2021-09-20T02:50:08.284971Z",
     "shell.execute_reply": "2021-09-20T02:50:08.283368Z",
     "shell.execute_reply.started": "2021-09-20T02:50:07.354337Z"
    },
    "tags": []
   },
   "outputs": [
    {
     "name": "stdout",
     "output_type": "stream",
     "text": [
      "Test set evaluation:\n",
      "_____________________________________\n",
      "Accuracy: 0.9384763741562199\n",
      "AUC: 0.8657556389466862\n",
      "__________________________________\n",
      "              precision    recall  f1-score   support\n",
      "\n",
      "           0       0.93      0.99      0.96      4056\n",
      "           1       0.97      0.74      0.84      1129\n",
      "\n",
      "    accuracy                           0.94      5185\n",
      "   macro avg       0.95      0.87      0.90      5185\n",
      "weighted avg       0.94      0.94      0.94      5185\n",
      "\n",
      "Train set evaluation:\n",
      "_____________________________________\n",
      "Accuracy: 0.9412700708809489\n",
      "AUC: 0.8698162852143217\n",
      "__________________________________\n",
      "              precision    recall  f1-score   support\n",
      "\n",
      "           0       0.93      1.00      0.96     16188\n",
      "           1       0.99      0.74      0.85      4551\n",
      "\n",
      "    accuracy                           0.94     20739\n",
      "   macro avg       0.96      0.87      0.91     20739\n",
      "weighted avg       0.94      0.94      0.94     20739\n",
      "\n",
      "Holdout set evaluation:\n",
      "_____________________________________\n",
      "Accuracy: 0.9330453563714903\n",
      "AUC: 0.8522949831135558\n",
      "__________________________________\n",
      "              precision    recall  f1-score   support\n",
      "\n",
      "           0       0.93      1.00      0.96      5074\n",
      "           1       0.98      0.71      0.82      1408\n",
      "\n",
      "    accuracy                           0.93      6482\n",
      "   macro avg       0.95      0.85      0.89      6482\n",
      "weighted avg       0.94      0.93      0.93      6482\n",
      "\n"
     ]
    }
   ],
   "source": [
    "test_pred = xgb_opt.predict(validate_woe_cat)\n",
    "train_pred = xgb_opt.predict(train_woe_cat)\n",
    "holdout_pred = xgb_opt.predict(holdout_woe_cat)\n",
    "\n",
    "print('Test set evaluation:\\n_____________________________________')\n",
    "print_evaluate(valid_y, test_pred)\n",
    "print(classification_report(valid_y, \n",
    "                            test_pred))\n",
    "print('Train set evaluation:\\n_____________________________________')\n",
    "print_evaluate(train_set_y, train_pred)\n",
    "print(classification_report(train_set_y, \n",
    "                            train_pred))\n",
    "print('Holdout set evaluation:\\n_____________________________________')\n",
    "print_evaluate(holdout_y, holdout_pred)\n",
    "print(classification_report(holdout_y, \n",
    "                            holdout_pred))"
   ]
  },
  {
   "cell_type": "code",
   "execution_count": 103,
   "metadata": {
    "execution": {
     "iopub.execute_input": "2021-09-20T02:50:08.289341Z",
     "iopub.status.busy": "2021-09-20T02:50:08.287591Z",
     "iopub.status.idle": "2021-09-20T02:50:08.436306Z",
     "shell.execute_reply": "2021-09-20T02:50:08.434829Z",
     "shell.execute_reply.started": "2021-09-20T02:50:08.289297Z"
    }
   },
   "outputs": [],
   "source": [
    "score_proba = xgb_opt.predict_proba(validate_woe_cat)\n",
    "proba_da = valid_x[continuous_features+nominal_features]\n",
    "proba_da['loan status'] = test_pred\n",
    "proba_da['score_proba'] = score_proba[:,1]\n"
   ]
  },
  {
   "cell_type": "code",
   "execution_count": 104,
   "metadata": {
    "execution": {
     "iopub.execute_input": "2021-09-20T02:50:08.440698Z",
     "iopub.status.busy": "2021-09-20T02:50:08.439644Z",
     "iopub.status.idle": "2021-09-20T02:50:08.474006Z",
     "shell.execute_reply": "2021-09-20T02:50:08.473209Z",
     "shell.execute_reply.started": "2021-09-20T02:50:08.440612Z"
    }
   },
   "outputs": [
    {
     "data": {
      "text/html": [
       "<div>\n",
       "<style scoped>\n",
       "    .dataframe tbody tr th:only-of-type {\n",
       "        vertical-align: middle;\n",
       "    }\n",
       "\n",
       "    .dataframe tbody tr th {\n",
       "        vertical-align: top;\n",
       "    }\n",
       "\n",
       "    .dataframe thead th {\n",
       "        text-align: right;\n",
       "    }\n",
       "</style>\n",
       "<table border=\"1\" class=\"dataframe\">\n",
       "  <thead>\n",
       "    <tr style=\"text-align: right;\">\n",
       "      <th></th>\n",
       "      <th>person_age</th>\n",
       "      <th>person_income</th>\n",
       "      <th>person_emp_length</th>\n",
       "      <th>loan_int_rate</th>\n",
       "      <th>loan_percent_income</th>\n",
       "      <th>cb_person_cred_hist_length</th>\n",
       "      <th>loan_amnt</th>\n",
       "      <th>person_home_ownership</th>\n",
       "      <th>loan_intent</th>\n",
       "      <th>loan_grade</th>\n",
       "      <th>cb_person_default_on_file</th>\n",
       "      <th>loan status</th>\n",
       "      <th>score_proba</th>\n",
       "    </tr>\n",
       "  </thead>\n",
       "  <tbody>\n",
       "    <tr>\n",
       "      <th>25904</th>\n",
       "      <td>29</td>\n",
       "      <td>95000</td>\n",
       "      <td>4.0</td>\n",
       "      <td>13.72</td>\n",
       "      <td>0.03</td>\n",
       "      <td>9</td>\n",
       "      <td>2400</td>\n",
       "      <td>MORTGAGE</td>\n",
       "      <td>DEBTCONSOLIDATION</td>\n",
       "      <td>C</td>\n",
       "      <td>N</td>\n",
       "      <td>0</td>\n",
       "      <td>0.059884</td>\n",
       "    </tr>\n",
       "    <tr>\n",
       "      <th>3840</th>\n",
       "      <td>25</td>\n",
       "      <td>34200</td>\n",
       "      <td>1.0</td>\n",
       "      <td>NaN</td>\n",
       "      <td>0.12</td>\n",
       "      <td>2</td>\n",
       "      <td>4000</td>\n",
       "      <td>RENT</td>\n",
       "      <td>EDUCATION</td>\n",
       "      <td>B</td>\n",
       "      <td>N</td>\n",
       "      <td>0</td>\n",
       "      <td>0.195565</td>\n",
       "    </tr>\n",
       "    <tr>\n",
       "      <th>10582</th>\n",
       "      <td>23</td>\n",
       "      <td>35000</td>\n",
       "      <td>3.0</td>\n",
       "      <td>13.22</td>\n",
       "      <td>0.29</td>\n",
       "      <td>2</td>\n",
       "      <td>10000</td>\n",
       "      <td>RENT</td>\n",
       "      <td>DEBTCONSOLIDATION</td>\n",
       "      <td>C</td>\n",
       "      <td>N</td>\n",
       "      <td>0</td>\n",
       "      <td>0.103034</td>\n",
       "    </tr>\n",
       "    <tr>\n",
       "      <th>17774</th>\n",
       "      <td>30</td>\n",
       "      <td>232050</td>\n",
       "      <td>14.0</td>\n",
       "      <td>17.93</td>\n",
       "      <td>0.09</td>\n",
       "      <td>9</td>\n",
       "      <td>25000</td>\n",
       "      <td>MORTGAGE</td>\n",
       "      <td>MEDICAL</td>\n",
       "      <td>E</td>\n",
       "      <td>Y</td>\n",
       "      <td>1</td>\n",
       "      <td>0.967412</td>\n",
       "    </tr>\n",
       "    <tr>\n",
       "      <th>29540</th>\n",
       "      <td>37</td>\n",
       "      <td>36000</td>\n",
       "      <td>5.0</td>\n",
       "      <td>6.03</td>\n",
       "      <td>0.33</td>\n",
       "      <td>13</td>\n",
       "      <td>12000</td>\n",
       "      <td>MORTGAGE</td>\n",
       "      <td>DEBTCONSOLIDATION</td>\n",
       "      <td>A</td>\n",
       "      <td>N</td>\n",
       "      <td>0</td>\n",
       "      <td>0.034016</td>\n",
       "    </tr>\n",
       "    <tr>\n",
       "      <th>...</th>\n",
       "      <td>...</td>\n",
       "      <td>...</td>\n",
       "      <td>...</td>\n",
       "      <td>...</td>\n",
       "      <td>...</td>\n",
       "      <td>...</td>\n",
       "      <td>...</td>\n",
       "      <td>...</td>\n",
       "      <td>...</td>\n",
       "      <td>...</td>\n",
       "      <td>...</td>\n",
       "      <td>...</td>\n",
       "      <td>...</td>\n",
       "    </tr>\n",
       "    <tr>\n",
       "      <th>22899</th>\n",
       "      <td>31</td>\n",
       "      <td>60000</td>\n",
       "      <td>5.0</td>\n",
       "      <td>10.99</td>\n",
       "      <td>0.11</td>\n",
       "      <td>5</td>\n",
       "      <td>6500</td>\n",
       "      <td>MORTGAGE</td>\n",
       "      <td>HOMEIMPROVEMENT</td>\n",
       "      <td>B</td>\n",
       "      <td>N</td>\n",
       "      <td>0</td>\n",
       "      <td>0.041205</td>\n",
       "    </tr>\n",
       "    <tr>\n",
       "      <th>19126</th>\n",
       "      <td>27</td>\n",
       "      <td>22708</td>\n",
       "      <td>6.0</td>\n",
       "      <td>14.84</td>\n",
       "      <td>0.11</td>\n",
       "      <td>8</td>\n",
       "      <td>2500</td>\n",
       "      <td>RENT</td>\n",
       "      <td>VENTURE</td>\n",
       "      <td>D</td>\n",
       "      <td>Y</td>\n",
       "      <td>0</td>\n",
       "      <td>0.140084</td>\n",
       "    </tr>\n",
       "    <tr>\n",
       "      <th>7335</th>\n",
       "      <td>22</td>\n",
       "      <td>46500</td>\n",
       "      <td>0.0</td>\n",
       "      <td>12.69</td>\n",
       "      <td>0.20</td>\n",
       "      <td>4</td>\n",
       "      <td>9500</td>\n",
       "      <td>MORTGAGE</td>\n",
       "      <td>DEBTCONSOLIDATION</td>\n",
       "      <td>B</td>\n",
       "      <td>N</td>\n",
       "      <td>0</td>\n",
       "      <td>0.091495</td>\n",
       "    </tr>\n",
       "    <tr>\n",
       "      <th>18650</th>\n",
       "      <td>33</td>\n",
       "      <td>48000</td>\n",
       "      <td>4.0</td>\n",
       "      <td>9.99</td>\n",
       "      <td>0.02</td>\n",
       "      <td>10</td>\n",
       "      <td>1000</td>\n",
       "      <td>RENT</td>\n",
       "      <td>MEDICAL</td>\n",
       "      <td>B</td>\n",
       "      <td>N</td>\n",
       "      <td>0</td>\n",
       "      <td>0.055483</td>\n",
       "    </tr>\n",
       "    <tr>\n",
       "      <th>4144</th>\n",
       "      <td>23</td>\n",
       "      <td>40000</td>\n",
       "      <td>7.0</td>\n",
       "      <td>9.99</td>\n",
       "      <td>0.33</td>\n",
       "      <td>3</td>\n",
       "      <td>13000</td>\n",
       "      <td>MORTGAGE</td>\n",
       "      <td>VENTURE</td>\n",
       "      <td>B</td>\n",
       "      <td>N</td>\n",
       "      <td>0</td>\n",
       "      <td>0.017879</td>\n",
       "    </tr>\n",
       "  </tbody>\n",
       "</table>\n",
       "<p>5185 rows × 13 columns</p>\n",
       "</div>"
      ],
      "text/plain": [
       "       person_age  person_income  person_emp_length  loan_int_rate  \\\n",
       "25904          29          95000                4.0          13.72   \n",
       "3840           25          34200                1.0            NaN   \n",
       "10582          23          35000                3.0          13.22   \n",
       "17774          30         232050               14.0          17.93   \n",
       "29540          37          36000                5.0           6.03   \n",
       "...           ...            ...                ...            ...   \n",
       "22899          31          60000                5.0          10.99   \n",
       "19126          27          22708                6.0          14.84   \n",
       "7335           22          46500                0.0          12.69   \n",
       "18650          33          48000                4.0           9.99   \n",
       "4144           23          40000                7.0           9.99   \n",
       "\n",
       "       loan_percent_income  cb_person_cred_hist_length  loan_amnt  \\\n",
       "25904                 0.03                           9       2400   \n",
       "3840                  0.12                           2       4000   \n",
       "10582                 0.29                           2      10000   \n",
       "17774                 0.09                           9      25000   \n",
       "29540                 0.33                          13      12000   \n",
       "...                    ...                         ...        ...   \n",
       "22899                 0.11                           5       6500   \n",
       "19126                 0.11                           8       2500   \n",
       "7335                  0.20                           4       9500   \n",
       "18650                 0.02                          10       1000   \n",
       "4144                  0.33                           3      13000   \n",
       "\n",
       "      person_home_ownership        loan_intent loan_grade  \\\n",
       "25904              MORTGAGE  DEBTCONSOLIDATION          C   \n",
       "3840                   RENT          EDUCATION          B   \n",
       "10582                  RENT  DEBTCONSOLIDATION          C   \n",
       "17774              MORTGAGE            MEDICAL          E   \n",
       "29540              MORTGAGE  DEBTCONSOLIDATION          A   \n",
       "...                     ...                ...        ...   \n",
       "22899              MORTGAGE    HOMEIMPROVEMENT          B   \n",
       "19126                  RENT            VENTURE          D   \n",
       "7335               MORTGAGE  DEBTCONSOLIDATION          B   \n",
       "18650                  RENT            MEDICAL          B   \n",
       "4144               MORTGAGE            VENTURE          B   \n",
       "\n",
       "      cb_person_default_on_file  loan status  score_proba  \n",
       "25904                         N            0     0.059884  \n",
       "3840                          N            0     0.195565  \n",
       "10582                         N            0     0.103034  \n",
       "17774                         Y            1     0.967412  \n",
       "29540                         N            0     0.034016  \n",
       "...                         ...          ...          ...  \n",
       "22899                         N            0     0.041205  \n",
       "19126                         Y            0     0.140084  \n",
       "7335                          N            0     0.091495  \n",
       "18650                         N            0     0.055483  \n",
       "4144                          N            0     0.017879  \n",
       "\n",
       "[5185 rows x 13 columns]"
      ]
     },
     "execution_count": 104,
     "metadata": {},
     "output_type": "execute_result"
    }
   ],
   "source": [
    "proba_da"
   ]
  },
  {
   "cell_type": "code",
   "execution_count": 105,
   "metadata": {
    "execution": {
     "iopub.execute_input": "2021-09-20T02:50:08.475707Z",
     "iopub.status.busy": "2021-09-20T02:50:08.475404Z",
     "iopub.status.idle": "2021-09-20T02:50:08.511625Z",
     "shell.execute_reply": "2021-09-20T02:50:08.510772Z",
     "shell.execute_reply.started": "2021-09-20T02:50:08.475674Z"
    }
   },
   "outputs": [
    {
     "data": {
      "text/html": [
       "<div>\n",
       "<style scoped>\n",
       "    .dataframe tbody tr th:only-of-type {\n",
       "        vertical-align: middle;\n",
       "    }\n",
       "\n",
       "    .dataframe tbody tr th {\n",
       "        vertical-align: top;\n",
       "    }\n",
       "\n",
       "    .dataframe thead tr th {\n",
       "        text-align: left;\n",
       "    }\n",
       "</style>\n",
       "<table border=\"1\" class=\"dataframe\">\n",
       "  <thead>\n",
       "    <tr>\n",
       "      <th></th>\n",
       "      <th>Model</th>\n",
       "      <th colspan=\"2\" halign=\"left\">Train</th>\n",
       "      <th colspan=\"2\" halign=\"left\">Valid</th>\n",
       "      <th colspan=\"2\" halign=\"left\">Holdout Sample</th>\n",
       "    </tr>\n",
       "    <tr>\n",
       "      <th></th>\n",
       "      <th></th>\n",
       "      <th>Accuracy</th>\n",
       "      <th>AUC</th>\n",
       "      <th>Accuracy</th>\n",
       "      <th>AUC</th>\n",
       "      <th>Accuracy</th>\n",
       "      <th>AUC</th>\n",
       "    </tr>\n",
       "  </thead>\n",
       "  <tbody>\n",
       "    <tr>\n",
       "      <th>0</th>\n",
       "      <td>XGB OPT WOE CAT</td>\n",
       "      <td>0.94127</td>\n",
       "      <td>0.869816</td>\n",
       "      <td>0.938476</td>\n",
       "      <td>0.865756</td>\n",
       "      <td>0.933045</td>\n",
       "      <td>0.852295</td>\n",
       "    </tr>\n",
       "  </tbody>\n",
       "</table>\n",
       "</div>"
      ],
      "text/plain": [
       "             Model    Train               Valid           Holdout Sample  \\\n",
       "                   Accuracy       AUC  Accuracy       AUC       Accuracy   \n",
       "0  XGB OPT WOE CAT  0.94127  0.869816  0.938476  0.865756       0.933045   \n",
       "\n",
       "             \n",
       "        AUC  \n",
       "0  0.852295  "
      ]
     },
     "execution_count": 105,
     "metadata": {},
     "output_type": "execute_result"
    }
   ],
   "source": [
    "index = pd.MultiIndex.from_product([['Train', 'Valid', 'Holdout Sample'], ['Accuracy', 'AUC']])\n",
    "result_xgb_opt_woe_cat = pd.DataFrame([pd.DataFrame({'Train' : list(evaluate(train_set_y, train_pred)),\n",
    "             'Valid' : list(evaluate(valid_y, test_pred)), 'Holdout Sample' : list(evaluate(holdout_y, holdout_pred))}).unstack().values], columns=index)\n",
    "result_xgb_opt_woe_cat.insert(loc=0, column='Model', value = 'XGB OPT WOE CAT')\n",
    "result_xgb_opt_woe_cat"
   ]
  },
  {
   "cell_type": "markdown",
   "metadata": {},
   "source": [
    "### XGB USING ALL WOE"
   ]
  },
  {
   "cell_type": "code",
   "execution_count": 106,
   "metadata": {
    "execution": {
     "iopub.execute_input": "2021-09-20T02:50:08.514255Z",
     "iopub.status.busy": "2021-09-20T02:50:08.513972Z",
     "iopub.status.idle": "2021-09-20T02:50:27.216514Z",
     "shell.execute_reply": "2021-09-20T02:50:27.215900Z",
     "shell.execute_reply.started": "2021-09-20T02:50:08.514227Z"
    },
    "tags": []
   },
   "outputs": [
    {
     "data": {
      "text/plain": [
       "XGBClassifier(base_score=0.5, booster='gbtree', colsample_bylevel=1,\n",
       "              colsample_bynode=1, colsample_bytree=1, eval_metric='logloss',\n",
       "              gamma=5, gpu_id=-1, importance_type='gain',\n",
       "              interaction_constraints='', learning_rate=0.01, max_delta_step=0,\n",
       "              max_depth=10, min_child_weight=3, missing=nan,\n",
       "              monotone_constraints='()', n_estimators=1000, n_jobs=4,\n",
       "              num_parallel_tree=1, random_state=64, reg_alpha=0, reg_lambda=1,\n",
       "              scale_pos_weight=1, subsample=0.5, tree_method='exact',\n",
       "              validate_parameters=1, verbosity=None)"
      ]
     },
     "execution_count": 106,
     "metadata": {},
     "output_type": "execute_result"
    }
   ],
   "source": [
    "xgb_opt.fit(train_woe, train_set_y)"
   ]
  },
  {
   "cell_type": "code",
   "execution_count": 107,
   "metadata": {
    "execution": {
     "iopub.execute_input": "2021-09-20T02:50:27.218239Z",
     "iopub.status.busy": "2021-09-20T02:50:27.217565Z",
     "iopub.status.idle": "2021-09-20T02:50:27.829557Z",
     "shell.execute_reply": "2021-09-20T02:50:27.828732Z",
     "shell.execute_reply.started": "2021-09-20T02:50:27.218205Z"
    },
    "tags": []
   },
   "outputs": [
    {
     "name": "stdout",
     "output_type": "stream",
     "text": [
      "Test set evaluation:\n",
      "_____________________________________\n",
      "Accuracy: 0.8757955641272903\n",
      "AUC: 0.7499473709956097\n",
      "__________________________________\n",
      "              precision    recall  f1-score   support\n",
      "\n",
      "           0       0.88      0.97      0.92      4056\n",
      "           1       0.84      0.53      0.65      1129\n",
      "\n",
      "    accuracy                           0.88      5185\n",
      "   macro avg       0.86      0.75      0.79      5185\n",
      "weighted avg       0.87      0.88      0.86      5185\n",
      "\n",
      "Train set evaluation:\n",
      "_____________________________________\n",
      "Accuracy: 0.8921355899512995\n",
      "AUC: 0.7801349144258979\n",
      "__________________________________\n",
      "              precision    recall  f1-score   support\n",
      "\n",
      "           0       0.89      0.98      0.93     16188\n",
      "           1       0.89      0.58      0.70      4551\n",
      "\n",
      "    accuracy                           0.89     20739\n",
      "   macro avg       0.89      0.78      0.82     20739\n",
      "weighted avg       0.89      0.89      0.88     20739\n",
      "\n",
      "Holdout set evaluation:\n",
      "_____________________________________\n",
      "Accuracy: 0.8863005245294662\n",
      "AUC: 0.767530463906905\n",
      "__________________________________\n",
      "              precision    recall  f1-score   support\n",
      "\n",
      "           0       0.89      0.98      0.93      5074\n",
      "           1       0.87      0.56      0.68      1408\n",
      "\n",
      "    accuracy                           0.89      6482\n",
      "   macro avg       0.88      0.77      0.81      6482\n",
      "weighted avg       0.89      0.89      0.88      6482\n",
      "\n"
     ]
    }
   ],
   "source": [
    "test_pred = xgb_opt.predict(validate_woe)\n",
    "train_pred = xgb_opt.predict(train_woe)\n",
    "holdout_pred = xgb_opt.predict(holdout_woe)\n",
    "\n",
    "print('Test set evaluation:\\n_____________________________________')\n",
    "print_evaluate(valid_y, test_pred)\n",
    "print(classification_report(valid_y, \n",
    "                            test_pred))\n",
    "print('Train set evaluation:\\n_____________________________________')\n",
    "print_evaluate(train_set_y, train_pred)\n",
    "print(classification_report(train_set_y, \n",
    "                            train_pred))\n",
    "print('Holdout set evaluation:\\n_____________________________________')\n",
    "print_evaluate(holdout_y, holdout_pred)\n",
    "print(classification_report(holdout_y, \n",
    "                            holdout_pred))"
   ]
  },
  {
   "cell_type": "code",
   "execution_count": 108,
   "metadata": {
    "execution": {
     "iopub.execute_input": "2021-09-20T02:50:27.832037Z",
     "iopub.status.busy": "2021-09-20T02:50:27.831634Z",
     "iopub.status.idle": "2021-09-20T02:50:27.873806Z",
     "shell.execute_reply": "2021-09-20T02:50:27.872716Z",
     "shell.execute_reply.started": "2021-09-20T02:50:27.832001Z"
    },
    "tags": []
   },
   "outputs": [
    {
     "data": {
      "text/html": [
       "<div>\n",
       "<style scoped>\n",
       "    .dataframe tbody tr th:only-of-type {\n",
       "        vertical-align: middle;\n",
       "    }\n",
       "\n",
       "    .dataframe tbody tr th {\n",
       "        vertical-align: top;\n",
       "    }\n",
       "\n",
       "    .dataframe thead tr th {\n",
       "        text-align: left;\n",
       "    }\n",
       "</style>\n",
       "<table border=\"1\" class=\"dataframe\">\n",
       "  <thead>\n",
       "    <tr>\n",
       "      <th></th>\n",
       "      <th>Model</th>\n",
       "      <th colspan=\"2\" halign=\"left\">Train</th>\n",
       "      <th colspan=\"2\" halign=\"left\">Valid</th>\n",
       "      <th colspan=\"2\" halign=\"left\">Holdout Sample</th>\n",
       "    </tr>\n",
       "    <tr>\n",
       "      <th></th>\n",
       "      <th></th>\n",
       "      <th>Accuracy</th>\n",
       "      <th>AUC</th>\n",
       "      <th>Accuracy</th>\n",
       "      <th>AUC</th>\n",
       "      <th>Accuracy</th>\n",
       "      <th>AUC</th>\n",
       "    </tr>\n",
       "  </thead>\n",
       "  <tbody>\n",
       "    <tr>\n",
       "      <th>0</th>\n",
       "      <td>XGB OPT WOE</td>\n",
       "      <td>0.892136</td>\n",
       "      <td>0.780135</td>\n",
       "      <td>0.875796</td>\n",
       "      <td>0.749947</td>\n",
       "      <td>0.886301</td>\n",
       "      <td>0.76753</td>\n",
       "    </tr>\n",
       "  </tbody>\n",
       "</table>\n",
       "</div>"
      ],
      "text/plain": [
       "         Model     Train               Valid           Holdout Sample         \n",
       "                Accuracy       AUC  Accuracy       AUC       Accuracy      AUC\n",
       "0  XGB OPT WOE  0.892136  0.780135  0.875796  0.749947       0.886301  0.76753"
      ]
     },
     "execution_count": 108,
     "metadata": {},
     "output_type": "execute_result"
    }
   ],
   "source": [
    "index = pd.MultiIndex.from_product([['Train', 'Valid', 'Holdout Sample'], ['Accuracy', 'AUC']])\n",
    "result_xgb_opt_woe = pd.DataFrame([pd.DataFrame({'Train' : list(evaluate(train_set_y, train_pred)),\n",
    "             'Valid' : list(evaluate(valid_y, test_pred)), 'Holdout Sample' : list(evaluate(holdout_y, holdout_pred))}).unstack().values], columns=index)\n",
    "result_xgb_opt_woe.insert(loc=0, column='Model', value = 'XGB OPT WOE')\n",
    "result_xgb_opt_woe"
   ]
  },
  {
   "cell_type": "markdown",
   "metadata": {},
   "source": [
    "### XGB USING DUMMY CAT"
   ]
  },
  {
   "cell_type": "code",
   "execution_count": 109,
   "metadata": {
    "execution": {
     "iopub.execute_input": "2021-09-20T02:50:27.875781Z",
     "iopub.status.busy": "2021-09-20T02:50:27.875497Z",
     "iopub.status.idle": "2021-09-20T02:50:27.907124Z",
     "shell.execute_reply": "2021-09-20T02:50:27.905049Z",
     "shell.execute_reply.started": "2021-09-20T02:50:27.875749Z"
    },
    "tags": []
   },
   "outputs": [
    {
     "name": "stdout",
     "output_type": "stream",
     "text": [
      "<class 'pandas.core.frame.DataFrame'>\n",
      "RangeIndex: 32406 entries, 0 to 32405\n",
      "Data columns (total 24 columns):\n",
      " #   Column                       Non-Null Count  Dtype  \n",
      "---  ------                       --------------  -----  \n",
      " 0   cb_person_cred_hist_length   32406 non-null  int64  \n",
      " 1   cb_person_default_on_file_Y  32406 non-null  uint8  \n",
      " 2   loan_amnt                    32406 non-null  int64  \n",
      " 3   loan_grade_B                 32406 non-null  uint8  \n",
      " 4   loan_grade_C                 32406 non-null  uint8  \n",
      " 5   loan_grade_D                 32406 non-null  uint8  \n",
      " 6   loan_grade_E                 32406 non-null  uint8  \n",
      " 7   loan_grade_F                 32406 non-null  uint8  \n",
      " 8   loan_grade_G                 32406 non-null  uint8  \n",
      " 9   loan_int_rate                29313 non-null  float64\n",
      " 10  loan_int_rate_nan            32406 non-null  float64\n",
      " 11  loan_intent_EDUCATION        32406 non-null  uint8  \n",
      " 12  loan_intent_HOMEIMPROVEMENT  32406 non-null  uint8  \n",
      " 13  loan_intent_MEDICAL          32406 non-null  uint8  \n",
      " 14  loan_intent_PERSONAL         32406 non-null  uint8  \n",
      " 15  loan_intent_VENTURE          32406 non-null  uint8  \n",
      " 16  loan_percent_income          32406 non-null  float64\n",
      " 17  person_age                   32406 non-null  int64  \n",
      " 18  person_emp_length            31519 non-null  float64\n",
      " 19  person_emp_length_nan        32406 non-null  float64\n",
      " 20  person_home_ownership_OTHER  32406 non-null  uint8  \n",
      " 21  person_home_ownership_OWN    32406 non-null  uint8  \n",
      " 22  person_home_ownership_RENT   32406 non-null  uint8  \n",
      " 23  person_income                32406 non-null  int64  \n",
      "dtypes: float64(5), int64(4), uint8(15)\n",
      "memory usage: 2.7 MB\n"
     ]
    }
   ],
   "source": [
    "data[data.columns.difference([target]+woe_features+nominal_features)].info()"
   ]
  },
  {
   "cell_type": "code",
   "execution_count": 110,
   "metadata": {
    "execution": {
     "iopub.execute_input": "2021-09-20T02:50:27.908946Z",
     "iopub.status.busy": "2021-09-20T02:50:27.908610Z",
     "iopub.status.idle": "2021-09-20T02:50:27.924444Z",
     "shell.execute_reply": "2021-09-20T02:50:27.923383Z",
     "shell.execute_reply.started": "2021-09-20T02:50:27.908914Z"
    },
    "tags": []
   },
   "outputs": [
    {
     "data": {
      "text/plain": [
       "Index(['cb_person_cred_hist_length', 'cb_person_default_on_file_Y',\n",
       "       'loan_amnt', 'loan_grade_B', 'loan_grade_C', 'loan_grade_D',\n",
       "       'loan_grade_E', 'loan_grade_F', 'loan_grade_G', 'loan_int_rate',\n",
       "       'loan_int_rate_nan', 'loan_intent_EDUCATION',\n",
       "       'loan_intent_HOMEIMPROVEMENT', 'loan_intent_MEDICAL',\n",
       "       'loan_intent_PERSONAL', 'loan_intent_VENTURE', 'loan_percent_income',\n",
       "       'person_age', 'person_emp_length', 'person_emp_length_nan',\n",
       "       'person_home_ownership_OTHER', 'person_home_ownership_OWN',\n",
       "       'person_home_ownership_RENT', 'person_income'],\n",
       "      dtype='object')"
      ]
     },
     "execution_count": 110,
     "metadata": {},
     "output_type": "execute_result"
    }
   ],
   "source": [
    "data[data.columns.difference([target]+woe_features+nominal_features)].columns"
   ]
  },
  {
   "cell_type": "code",
   "execution_count": 111,
   "metadata": {
    "execution": {
     "iopub.execute_input": "2021-09-20T02:50:27.926394Z",
     "iopub.status.busy": "2021-09-20T02:50:27.926047Z",
     "iopub.status.idle": "2021-09-20T02:50:27.939624Z",
     "shell.execute_reply": "2021-09-20T02:50:27.938804Z",
     "shell.execute_reply.started": "2021-09-20T02:50:27.926360Z"
    },
    "tags": []
   },
   "outputs": [],
   "source": [
    "train_dummy = train_set_x[['cb_person_cred_hist_length', 'cb_person_default_on_file_Y',\n",
    "       'loan_amnt', 'loan_grade_B', 'loan_grade_C', 'loan_grade_D',\n",
    "       'loan_grade_E', 'loan_grade_F', 'loan_grade_G',\n",
    "       'loan_int_rate_nan', 'loan_intent_EDUCATION',\n",
    "       'loan_intent_HOMEIMPROVEMENT', 'loan_intent_MEDICAL',\n",
    "       'loan_intent_PERSONAL', 'loan_intent_VENTURE', 'loan_percent_income',\n",
    "       'person_age', 'person_emp_length', \n",
    "       'person_home_ownership_OTHER', 'person_home_ownership_OWN',\n",
    "       'person_home_ownership_RENT', 'person_income']]\n",
    "valid_dummy =valid_x[['cb_person_cred_hist_length', 'cb_person_default_on_file_Y',\n",
    "       'loan_amnt', 'loan_grade_B', 'loan_grade_C', 'loan_grade_D',\n",
    "       'loan_grade_E', 'loan_grade_F', 'loan_grade_G', 'loan_int_rate',\n",
    "       'loan_intent_EDUCATION',\n",
    "       'loan_intent_HOMEIMPROVEMENT', 'loan_intent_MEDICAL',\n",
    "       'loan_intent_PERSONAL', 'loan_intent_VENTURE', 'loan_percent_income',\n",
    "       'person_age', 'person_emp_length_nan',\n",
    "       'person_home_ownership_OTHER', 'person_home_ownership_OWN',\n",
    "       'person_home_ownership_RENT', 'person_income']]\n",
    "holdout_dummy = holdout_x[['cb_person_cred_hist_length', 'cb_person_default_on_file_Y',\n",
    "       'loan_amnt', 'loan_grade_B', 'loan_grade_C', 'loan_grade_D',\n",
    "       'loan_grade_E', 'loan_grade_F', 'loan_grade_G', \n",
    "       'loan_int_rate_nan', 'loan_intent_EDUCATION',\n",
    "       'loan_intent_HOMEIMPROVEMENT', 'loan_intent_MEDICAL',\n",
    "       'loan_intent_PERSONAL', 'loan_intent_VENTURE', 'loan_percent_income',\n",
    "       'person_age', 'person_emp_length_nan',\n",
    "       'person_home_ownership_OTHER', 'person_home_ownership_OWN',\n",
    "       'person_home_ownership_RENT', 'person_income']]"
   ]
  },
  {
   "cell_type": "code",
   "execution_count": 112,
   "metadata": {
    "execution": {
     "iopub.execute_input": "2021-09-20T02:50:27.942391Z",
     "iopub.status.busy": "2021-09-20T02:50:27.941991Z",
     "iopub.status.idle": "2021-09-20T02:50:27.947557Z",
     "shell.execute_reply": "2021-09-20T02:50:27.945857Z",
     "shell.execute_reply.started": "2021-09-20T02:50:27.942360Z"
    }
   },
   "outputs": [],
   "source": [
    "xgb_opt =  XGBClassifier(n_estimators = 1000,\n",
    "                               max_depth = 10,\n",
    "                               learning_rate = 0.01,\n",
    "                               gamma = 5,\n",
    "                               min_child_weight = 3,\n",
    "                               subsample = 0.5,\n",
    "                                 eval_metric='logloss',\n",
    "                               random_state = 64)"
   ]
  },
  {
   "cell_type": "code",
   "execution_count": 113,
   "metadata": {
    "execution": {
     "iopub.execute_input": "2021-09-20T02:50:27.950548Z",
     "iopub.status.busy": "2021-09-20T02:50:27.949930Z",
     "iopub.status.idle": "2021-09-20T02:50:53.297902Z",
     "shell.execute_reply": "2021-09-20T02:50:53.297265Z",
     "shell.execute_reply.started": "2021-09-20T02:50:27.950513Z"
    },
    "tags": []
   },
   "outputs": [
    {
     "data": {
      "text/plain": [
       "XGBClassifier(base_score=0.5, booster='gbtree', colsample_bylevel=1,\n",
       "              colsample_bynode=1, colsample_bytree=1, eval_metric='logloss',\n",
       "              gamma=5, gpu_id=-1, importance_type='gain',\n",
       "              interaction_constraints='', learning_rate=0.01, max_delta_step=0,\n",
       "              max_depth=10, min_child_weight=3, missing=nan,\n",
       "              monotone_constraints='()', n_estimators=1000, n_jobs=4,\n",
       "              num_parallel_tree=1, random_state=64, reg_alpha=0, reg_lambda=1,\n",
       "              scale_pos_weight=1, subsample=0.5, tree_method='exact',\n",
       "              validate_parameters=1, verbosity=None)"
      ]
     },
     "execution_count": 113,
     "metadata": {},
     "output_type": "execute_result"
    }
   ],
   "source": [
    "xgb_opt.fit(train_dummy, train_set_y)"
   ]
  },
  {
   "cell_type": "code",
   "execution_count": 114,
   "metadata": {
    "execution": {
     "iopub.execute_input": "2021-09-20T02:50:53.300044Z",
     "iopub.status.busy": "2021-09-20T02:50:53.299671Z",
     "iopub.status.idle": "2021-09-20T02:50:54.044490Z",
     "shell.execute_reply": "2021-09-20T02:50:54.043686Z",
     "shell.execute_reply.started": "2021-09-20T02:50:53.300010Z"
    },
    "tags": []
   },
   "outputs": [
    {
     "name": "stdout",
     "output_type": "stream",
     "text": [
      "Test set evaluation:\n",
      "_____________________________________\n",
      "Accuracy: 0.933076181292189\n",
      "AUC: 0.8555924540926585\n",
      "__________________________________\n",
      "              precision    recall  f1-score   support\n",
      "\n",
      "           0       0.93      0.99      0.96      4056\n",
      "           1       0.97      0.72      0.82      1129\n",
      "\n",
      "    accuracy                           0.93      5185\n",
      "   macro avg       0.95      0.86      0.89      5185\n",
      "weighted avg       0.94      0.93      0.93      5185\n",
      "\n",
      "Train set evaluation:\n",
      "_____________________________________\n",
      "Accuracy: 0.9402574858961377\n",
      "AUC: 0.8681409310737268\n",
      "__________________________________\n",
      "              precision    recall  f1-score   support\n",
      "\n",
      "           0       0.93      1.00      0.96     16188\n",
      "           1       0.98      0.74      0.84      4551\n",
      "\n",
      "    accuracy                           0.94     20739\n",
      "   macro avg       0.96      0.87      0.90     20739\n",
      "weighted avg       0.94      0.94      0.94     20739\n",
      "\n",
      "Holdout set evaluation:\n",
      "_____________________________________\n",
      "Accuracy: 0.9313483492749152\n",
      "AUC: 0.8514675977353352\n",
      "__________________________________\n",
      "              precision    recall  f1-score   support\n",
      "\n",
      "           0       0.93      0.99      0.96      5074\n",
      "           1       0.96      0.71      0.82      1408\n",
      "\n",
      "    accuracy                           0.93      6482\n",
      "   macro avg       0.94      0.85      0.89      6482\n",
      "weighted avg       0.93      0.93      0.93      6482\n",
      "\n"
     ]
    }
   ],
   "source": [
    "test_pred = xgb_opt.predict(valid_dummy)\n",
    "train_pred = xgb_opt.predict(train_dummy)\n",
    "holdout_pred = xgb_opt.predict(holdout_dummy)\n",
    "\n",
    "print('Test set evaluation:\\n_____________________________________')\n",
    "print_evaluate(valid_y, test_pred)\n",
    "print(classification_report(valid_y, \n",
    "                            test_pred))\n",
    "print('Train set evaluation:\\n_____________________________________')\n",
    "print_evaluate(train_set_y, train_pred)\n",
    "print(classification_report(train_set_y, \n",
    "                            train_pred))\n",
    "print('Holdout set evaluation:\\n_____________________________________')\n",
    "print_evaluate(holdout_y, holdout_pred)\n",
    "print(classification_report(holdout_y, \n",
    "                            holdout_pred))"
   ]
  },
  {
   "cell_type": "code",
   "execution_count": 115,
   "metadata": {
    "execution": {
     "iopub.execute_input": "2021-09-20T02:50:54.046378Z",
     "iopub.status.busy": "2021-09-20T02:50:54.045955Z",
     "iopub.status.idle": "2021-09-20T02:50:54.086772Z",
     "shell.execute_reply": "2021-09-20T02:50:54.085996Z",
     "shell.execute_reply.started": "2021-09-20T02:50:54.046340Z"
    },
    "tags": []
   },
   "outputs": [
    {
     "data": {
      "text/html": [
       "<div>\n",
       "<style scoped>\n",
       "    .dataframe tbody tr th:only-of-type {\n",
       "        vertical-align: middle;\n",
       "    }\n",
       "\n",
       "    .dataframe tbody tr th {\n",
       "        vertical-align: top;\n",
       "    }\n",
       "\n",
       "    .dataframe thead tr th {\n",
       "        text-align: left;\n",
       "    }\n",
       "</style>\n",
       "<table border=\"1\" class=\"dataframe\">\n",
       "  <thead>\n",
       "    <tr>\n",
       "      <th></th>\n",
       "      <th>Model</th>\n",
       "      <th colspan=\"2\" halign=\"left\">Train</th>\n",
       "      <th colspan=\"2\" halign=\"left\">Valid</th>\n",
       "      <th colspan=\"2\" halign=\"left\">Holdout Sample</th>\n",
       "    </tr>\n",
       "    <tr>\n",
       "      <th></th>\n",
       "      <th></th>\n",
       "      <th>Accuracy</th>\n",
       "      <th>AUC</th>\n",
       "      <th>Accuracy</th>\n",
       "      <th>AUC</th>\n",
       "      <th>Accuracy</th>\n",
       "      <th>AUC</th>\n",
       "    </tr>\n",
       "  </thead>\n",
       "  <tbody>\n",
       "    <tr>\n",
       "      <th>0</th>\n",
       "      <td>XGB OPT DUMMY</td>\n",
       "      <td>0.940257</td>\n",
       "      <td>0.868141</td>\n",
       "      <td>0.933076</td>\n",
       "      <td>0.855592</td>\n",
       "      <td>0.931348</td>\n",
       "      <td>0.851468</td>\n",
       "    </tr>\n",
       "  </tbody>\n",
       "</table>\n",
       "</div>"
      ],
      "text/plain": [
       "           Model     Train               Valid           Holdout Sample  \\\n",
       "                  Accuracy       AUC  Accuracy       AUC       Accuracy   \n",
       "0  XGB OPT DUMMY  0.940257  0.868141  0.933076  0.855592       0.931348   \n",
       "\n",
       "             \n",
       "        AUC  \n",
       "0  0.851468  "
      ]
     },
     "execution_count": 115,
     "metadata": {},
     "output_type": "execute_result"
    }
   ],
   "source": [
    "index = pd.MultiIndex.from_product([['Train', 'Valid', 'Holdout Sample'], ['Accuracy', 'AUC']])\n",
    "result_xgb_opt_dummy = pd.DataFrame([pd.DataFrame({'Train' : list(evaluate(train_set_y, train_pred)),\n",
    "             'Valid' : list(evaluate(valid_y, test_pred)), 'Holdout Sample' : list(evaluate(holdout_y, holdout_pred))}).unstack().values], columns=index)\n",
    "result_xgb_opt_dummy.insert(loc=0, column='Model', value = 'XGB OPT DUMMY')\n",
    "result_xgb_opt_dummy"
   ]
  },
  {
   "cell_type": "markdown",
   "metadata": {},
   "source": [
    "# Model Evaluation"
   ]
  },
  {
   "cell_type": "code",
   "execution_count": 116,
   "metadata": {
    "execution": {
     "iopub.execute_input": "2021-09-20T02:50:54.088778Z",
     "iopub.status.busy": "2021-09-20T02:50:54.088111Z",
     "iopub.status.idle": "2021-09-20T02:50:54.094924Z",
     "shell.execute_reply": "2021-09-20T02:50:54.093867Z",
     "shell.execute_reply.started": "2021-09-20T02:50:54.088741Z"
    },
    "tags": []
   },
   "outputs": [],
   "source": [
    "res_col=[\n",
    "    result_logreg_WOE_opt,\n",
    "    result_logreg_WOE_cat,\n",
    "    result_rfr_opt,\n",
    "    result_rfr_opt_woe_cat,\n",
    "    result_xgb_opt_woe_cat,\n",
    "    result_xgb_opt_woe,\n",
    "    result_xgb_opt_dummy\n",
    "]"
   ]
  },
  {
   "cell_type": "code",
   "execution_count": 117,
   "metadata": {
    "execution": {
     "iopub.execute_input": "2021-09-20T02:50:54.097542Z",
     "iopub.status.busy": "2021-09-20T02:50:54.096952Z",
     "iopub.status.idle": "2021-09-20T02:50:54.105219Z",
     "shell.execute_reply": "2021-09-20T02:50:54.103903Z",
     "shell.execute_reply.started": "2021-09-20T02:50:54.097508Z"
    },
    "tags": []
   },
   "outputs": [],
   "source": [
    "result_all = pd.concat(res_col, axis=0)"
   ]
  },
  {
   "cell_type": "code",
   "execution_count": 118,
   "metadata": {
    "execution": {
     "iopub.execute_input": "2021-09-20T02:50:54.107045Z",
     "iopub.status.busy": "2021-09-20T02:50:54.106435Z",
     "iopub.status.idle": "2021-09-20T02:50:54.138429Z",
     "shell.execute_reply": "2021-09-20T02:50:54.134682Z",
     "shell.execute_reply.started": "2021-09-20T02:50:54.106940Z"
    },
    "tags": []
   },
   "outputs": [
    {
     "data": {
      "text/html": [
       "<div>\n",
       "<style scoped>\n",
       "    .dataframe tbody tr th:only-of-type {\n",
       "        vertical-align: middle;\n",
       "    }\n",
       "\n",
       "    .dataframe tbody tr th {\n",
       "        vertical-align: top;\n",
       "    }\n",
       "\n",
       "    .dataframe thead tr th {\n",
       "        text-align: left;\n",
       "    }\n",
       "</style>\n",
       "<table border=\"1\" class=\"dataframe\">\n",
       "  <thead>\n",
       "    <tr>\n",
       "      <th></th>\n",
       "      <th>Model</th>\n",
       "      <th colspan=\"2\" halign=\"left\">Train</th>\n",
       "      <th colspan=\"2\" halign=\"left\">Valid</th>\n",
       "      <th colspan=\"2\" halign=\"left\">Holdout Sample</th>\n",
       "    </tr>\n",
       "    <tr>\n",
       "      <th></th>\n",
       "      <th></th>\n",
       "      <th>Accuracy</th>\n",
       "      <th>AUC</th>\n",
       "      <th>Accuracy</th>\n",
       "      <th>AUC</th>\n",
       "      <th>Accuracy</th>\n",
       "      <th>AUC</th>\n",
       "    </tr>\n",
       "  </thead>\n",
       "  <tbody>\n",
       "    <tr>\n",
       "      <th>0</th>\n",
       "      <td>XGB OPT WOE CAT</td>\n",
       "      <td>0.941270</td>\n",
       "      <td>0.869816</td>\n",
       "      <td>0.938476</td>\n",
       "      <td>0.865756</td>\n",
       "      <td>0.933045</td>\n",
       "      <td>0.852295</td>\n",
       "    </tr>\n",
       "    <tr>\n",
       "      <th>0</th>\n",
       "      <td>XGB OPT DUMMY</td>\n",
       "      <td>0.940257</td>\n",
       "      <td>0.868141</td>\n",
       "      <td>0.933076</td>\n",
       "      <td>0.855592</td>\n",
       "      <td>0.931348</td>\n",
       "      <td>0.851468</td>\n",
       "    </tr>\n",
       "    <tr>\n",
       "      <th>0</th>\n",
       "      <td>RFR OPT WOE CAT</td>\n",
       "      <td>0.914364</td>\n",
       "      <td>0.813566</td>\n",
       "      <td>0.914947</td>\n",
       "      <td>0.814282</td>\n",
       "      <td>0.913453</td>\n",
       "      <td>0.809761</td>\n",
       "    </tr>\n",
       "    <tr>\n",
       "      <th>0</th>\n",
       "      <td>XGB OPT WOE</td>\n",
       "      <td>0.892136</td>\n",
       "      <td>0.780135</td>\n",
       "      <td>0.875796</td>\n",
       "      <td>0.749947</td>\n",
       "      <td>0.886301</td>\n",
       "      <td>0.767530</td>\n",
       "    </tr>\n",
       "    <tr>\n",
       "      <th>0</th>\n",
       "      <td>LogReg WOE OPT</td>\n",
       "      <td>0.846280</td>\n",
       "      <td>0.710719</td>\n",
       "      <td>0.840694</td>\n",
       "      <td>0.697469</td>\n",
       "      <td>0.848504</td>\n",
       "      <td>0.710803</td>\n",
       "    </tr>\n",
       "    <tr>\n",
       "      <th>0</th>\n",
       "      <td>RFR OPT WOE</td>\n",
       "      <td>0.856743</td>\n",
       "      <td>0.688594</td>\n",
       "      <td>0.850723</td>\n",
       "      <td>0.671920</td>\n",
       "      <td>0.857143</td>\n",
       "      <td>0.684250</td>\n",
       "    </tr>\n",
       "    <tr>\n",
       "      <th>0</th>\n",
       "      <td>LogReg OPT WOE CAT</td>\n",
       "      <td>0.815902</td>\n",
       "      <td>0.601540</td>\n",
       "      <td>0.812343</td>\n",
       "      <td>0.595295</td>\n",
       "      <td>0.820734</td>\n",
       "      <td>0.606344</td>\n",
       "    </tr>\n",
       "  </tbody>\n",
       "</table>\n",
       "</div>"
      ],
      "text/plain": [
       "                Model     Train               Valid           Holdout Sample  \\\n",
       "                       Accuracy       AUC  Accuracy       AUC       Accuracy   \n",
       "0     XGB OPT WOE CAT  0.941270  0.869816  0.938476  0.865756       0.933045   \n",
       "0       XGB OPT DUMMY  0.940257  0.868141  0.933076  0.855592       0.931348   \n",
       "0     RFR OPT WOE CAT  0.914364  0.813566  0.914947  0.814282       0.913453   \n",
       "0         XGB OPT WOE  0.892136  0.780135  0.875796  0.749947       0.886301   \n",
       "0      LogReg WOE OPT  0.846280  0.710719  0.840694  0.697469       0.848504   \n",
       "0         RFR OPT WOE  0.856743  0.688594  0.850723  0.671920       0.857143   \n",
       "0  LogReg OPT WOE CAT  0.815902  0.601540  0.812343  0.595295       0.820734   \n",
       "\n",
       "             \n",
       "        AUC  \n",
       "0  0.852295  \n",
       "0  0.851468  \n",
       "0  0.809761  \n",
       "0  0.767530  \n",
       "0  0.710803  \n",
       "0  0.684250  \n",
       "0  0.606344  "
      ]
     },
     "execution_count": 118,
     "metadata": {},
     "output_type": "execute_result"
    }
   ],
   "source": [
    "result_all.sort_values([ ('Holdout Sample',      'AUC')], ascending=False)"
   ]
  },
  {
   "cell_type": "markdown",
   "metadata": {
    "tags": []
   },
   "source": [
    "Dengan nilai accuracy dan AUC paling tinggi maka dipilih model XGB dengan CATEGORICAL yang dilakukan WOE."
   ]
  },
  {
   "cell_type": "markdown",
   "metadata": {},
   "source": [
    "## Model Validation: Cross Validation\n",
    "\n",
    "In k-fold cross-validation, we randomly split the training dataset into k folds without replacement, where k — 1 folds are used for the model training, and one fold is used for performance evaluation. This procedure is repeated k times so that we obtain k models and performance estimates.\n"
   ]
  },
  {
   "cell_type": "code",
   "execution_count": 119,
   "metadata": {
    "execution": {
     "iopub.execute_input": "2021-09-20T02:50:54.141818Z",
     "iopub.status.busy": "2021-09-20T02:50:54.141510Z",
     "iopub.status.idle": "2021-09-20T02:53:39.081026Z",
     "shell.execute_reply": "2021-09-20T02:53:39.080329Z",
     "shell.execute_reply.started": "2021-09-20T02:50:54.141793Z"
    }
   },
   "outputs": [
    {
     "name": "stdout",
     "output_type": "stream",
     "text": [
      "Accuracy: 93.47% (0.43%)\n"
     ]
    }
   ],
   "source": [
    "from sklearn.model_selection import KFold\n",
    "from sklearn.model_selection import cross_val_score\n",
    "\n",
    "kfold = KFold(n_splits=10, shuffle=True, random_state=13)\n",
    "results = cross_val_score(xgb_opt, train_woe_cat, train_set_y, cv=kfold)\n",
    "print(\"Accuracy: %.2f%% (%.2f%%)\" % (results.mean()*100, results.std()*100))"
   ]
  },
  {
   "cell_type": "code",
   "execution_count": null,
   "metadata": {},
   "outputs": [],
   "source": []
  },
  {
   "cell_type": "markdown",
   "metadata": {},
   "source": [
    "# Pipeline\n",
    "### Implement data preprocess to pipeline"
   ]
  },
  {
   "cell_type": "code",
   "execution_count": null,
   "metadata": {},
   "outputs": [],
   "source": []
  },
  {
   "cell_type": "code",
   "execution_count": 120,
   "metadata": {
    "execution": {
     "iopub.execute_input": "2021-09-20T02:53:39.083386Z",
     "iopub.status.busy": "2021-09-20T02:53:39.082944Z",
     "iopub.status.idle": "2021-09-20T02:53:39.093433Z",
     "shell.execute_reply": "2021-09-20T02:53:39.092629Z",
     "shell.execute_reply.started": "2021-09-20T02:53:39.083351Z"
    }
   },
   "outputs": [],
   "source": [
    "from sklearn.compose import ColumnTransformer\n",
    "from sklearn.pipeline import Pipeline\n",
    "from sklearn.preprocessing import StandardScaler\n",
    "from sklearn.base import BaseEstimator, TransformerMixin"
   ]
  },
  {
   "cell_type": "code",
   "execution_count": 121,
   "metadata": {
    "execution": {
     "iopub.execute_input": "2021-09-20T02:53:39.116692Z",
     "iopub.status.busy": "2021-09-20T02:53:39.116381Z",
     "iopub.status.idle": "2021-09-20T02:53:39.123431Z",
     "shell.execute_reply": "2021-09-20T02:53:39.122398Z",
     "shell.execute_reply.started": "2021-09-20T02:53:39.116667Z"
    }
   },
   "outputs": [
    {
     "data": {
      "text/plain": [
       "['person_home_ownership',\n",
       " 'loan_intent',\n",
       " 'loan_grade',\n",
       " 'cb_person_default_on_file']"
      ]
     },
     "execution_count": 121,
     "metadata": {},
     "output_type": "execute_result"
    }
   ],
   "source": [
    "nominal_features"
   ]
  },
  {
   "cell_type": "code",
   "execution_count": 122,
   "metadata": {
    "execution": {
     "iopub.execute_input": "2021-09-20T02:53:39.125908Z",
     "iopub.status.busy": "2021-09-20T02:53:39.125343Z",
     "iopub.status.idle": "2021-09-20T02:53:39.147203Z",
     "shell.execute_reply": "2021-09-20T02:53:39.136776Z",
     "shell.execute_reply.started": "2021-09-20T02:53:39.125861Z"
    }
   },
   "outputs": [
    {
     "data": {
      "text/plain": [
       "['person_age',\n",
       " 'person_income',\n",
       " 'person_emp_length',\n",
       " 'loan_int_rate',\n",
       " 'loan_percent_income',\n",
       " 'cb_person_cred_hist_length',\n",
       " 'loan_amnt']"
      ]
     },
     "execution_count": 122,
     "metadata": {},
     "output_type": "execute_result"
    }
   ],
   "source": [
    "continuous_features"
   ]
  },
  {
   "cell_type": "code",
   "execution_count": 123,
   "metadata": {
    "execution": {
     "iopub.execute_input": "2021-09-20T02:53:39.150240Z",
     "iopub.status.busy": "2021-09-20T02:53:39.149599Z",
     "iopub.status.idle": "2021-09-20T02:53:39.171007Z",
     "shell.execute_reply": "2021-09-20T02:53:39.170039Z",
     "shell.execute_reply.started": "2021-09-20T02:53:39.150205Z"
    }
   },
   "outputs": [
    {
     "data": {
      "text/plain": [
       "['person_home_ownership',\n",
       " 'loan_intent',\n",
       " 'loan_grade',\n",
       " 'cb_person_default_on_file',\n",
       " 'person_age',\n",
       " 'person_income',\n",
       " 'person_emp_length',\n",
       " 'loan_int_rate',\n",
       " 'loan_percent_income',\n",
       " 'cb_person_cred_hist_length',\n",
       " 'loan_amnt']"
      ]
     },
     "execution_count": 123,
     "metadata": {},
     "output_type": "execute_result"
    }
   ],
   "source": [
    "all_columns = nominal_features+continuous_features\n",
    "all_columns"
   ]
  },
  {
   "cell_type": "code",
   "execution_count": 124,
   "metadata": {
    "execution": {
     "iopub.execute_input": "2021-09-20T02:53:39.172945Z",
     "iopub.status.busy": "2021-09-20T02:53:39.172636Z",
     "iopub.status.idle": "2021-09-20T02:53:39.196173Z",
     "shell.execute_reply": "2021-09-20T02:53:39.195349Z",
     "shell.execute_reply.started": "2021-09-20T02:53:39.172911Z"
    }
   },
   "outputs": [],
   "source": [
    "class WoECat(BaseEstimator, TransformerMixin):\n",
    "    def __init__(self, feature_name):  \n",
    "        self.feature_name = feature_name\n",
    "    def fit(self, X, y = None):\n",
    "        return self\n",
    "    def transform(self, X, y = None):\n",
    "        X_ = X.copy() # creating a copy to avoid changes to original dataset\n",
    "        for i in self.feature_name:\n",
    "            if i == 'person_home_ownership':\n",
    "                X_[f'{i}_WOE'] = np.where(X_[i].isin(['MORTAGE']), -0.682, \n",
    "                      np.where(X_[i].isin(['OTHER']), 0.468, \n",
    "                      np.where(X_[i].isin(['OWN']), -1.24, \n",
    "                     np.where(X_[i].isin(['RENT']), 0.502, 0))))\n",
    "            elif i == 'loan_intent':\n",
    "                X_[f'{i}_WOE'] = np.where(X_[i].isin(['DEBTCONSOLIDATION']), 0.360, \n",
    "                  np.where(X_[i].isin(['EDUCATION']), -0.293, \n",
    "                  np.where(X_[i].isin(['HOMEIMPROVEMENT']), 0.2355, \n",
    "                 np.where(X_[i].isin(['MEDICAL']), 0.267, \n",
    "                np.where(X_[i].isin(['PERSONAL']), -0.117,\n",
    "                np.where(X_[i].isin(['VENTURE']), -0.472,0))))))\n",
    "            elif i == 'loan_grade':\n",
    "                X_[f'{i}_WOE'] = np.where(X_[i].isin(['A']), -0.925, \n",
    "                  np.where(X_[i].isin(['B']), -0.361, \n",
    "                  np.where(X_[i].isin(['C']), -0.064, \n",
    "                 np.where(X_[i].isin(['D']), 1.64, \n",
    "                np.where(X_[i].isin(['E']), 1.87,\n",
    "                np.where(X_[i].isin(['F']), 2.14,\n",
    "                         np.where(X_[i].isin(['G']), 5.41,0)))))))\n",
    "            elif i == 'cb_person_default_on_file':\n",
    "                X_[f'{i}_WOE'] = np.where(X_[i].isin(['N']), -0.213, \n",
    "                  np.where(X_[i].isin(['Y']), -0.778, 0))\n",
    "        X_ = X_.drop(self.feature_name, axis=1)\n",
    "#         display(X_)\n",
    "        return X_"
   ]
  },
  {
   "cell_type": "code",
   "execution_count": 125,
   "metadata": {
    "execution": {
     "iopub.execute_input": "2021-09-20T02:53:39.198008Z",
     "iopub.status.busy": "2021-09-20T02:53:39.197613Z",
     "iopub.status.idle": "2021-09-20T02:53:39.205554Z",
     "shell.execute_reply": "2021-09-20T02:53:39.204316Z",
     "shell.execute_reply.started": "2021-09-20T02:53:39.197973Z"
    }
   },
   "outputs": [],
   "source": [
    "class WoENom(BaseEstimator, TransformerMixin):\n",
    "    def __init__(self):  \n",
    "        pass\n",
    "    def fit(self, X, y = None):\n",
    "        return self\n",
    "    def transform(self, X, y = None):\n",
    "        X_ = X.copy() # creating a copy to avoid changes to original dataset\n",
    "        #do nothing\n",
    "#         display(X_)\n",
    "        return X_"
   ]
  },
  {
   "cell_type": "code",
   "execution_count": 126,
   "metadata": {
    "execution": {
     "iopub.execute_input": "2021-09-20T02:53:39.206984Z",
     "iopub.status.busy": "2021-09-20T02:53:39.206738Z",
     "iopub.status.idle": "2021-09-20T02:53:39.212647Z",
     "shell.execute_reply": "2021-09-20T02:53:39.211377Z",
     "shell.execute_reply.started": "2021-09-20T02:53:39.206951Z"
    }
   },
   "outputs": [],
   "source": [
    "cat_pipe = Pipeline(steps=[\n",
    "                       ('WoeCat', WoECat(nominal_features))\n",
    "                     \n",
    "])\n",
    "\n",
    "num_pipe = Pipeline(steps=[\n",
    "    ('WoeNum', WoENom())\n",
    "                          ])\n",
    "\n",
    "preprocess = ColumnTransformer(\n",
    "    transformers=[\n",
    "    ('cat', cat_pipe, nominal_features),\n",
    "     ('num', num_pipe, continuous_features)   \n",
    "], remainder='passthrough')"
   ]
  },
  {
   "cell_type": "code",
   "execution_count": 127,
   "metadata": {
    "execution": {
     "iopub.execute_input": "2021-09-20T02:53:39.214583Z",
     "iopub.status.busy": "2021-09-20T02:53:39.214271Z",
     "iopub.status.idle": "2021-09-20T02:53:39.219154Z",
     "shell.execute_reply": "2021-09-20T02:53:39.218241Z",
     "shell.execute_reply.started": "2021-09-20T02:53:39.214559Z"
    }
   },
   "outputs": [],
   "source": [
    "full_pipe = Pipeline(steps=[\n",
    "    ('preprocess', preprocess),\n",
    "    ('model', XGBClassifier(nthread=-1))\n",
    "])"
   ]
  },
  {
   "cell_type": "code",
   "execution_count": 128,
   "metadata": {
    "execution": {
     "iopub.execute_input": "2021-09-20T02:53:39.221187Z",
     "iopub.status.busy": "2021-09-20T02:53:39.220376Z",
     "iopub.status.idle": "2021-09-20T02:53:39.252375Z",
     "shell.execute_reply": "2021-09-20T02:53:39.251313Z",
     "shell.execute_reply.started": "2021-09-20T02:53:39.221159Z"
    }
   },
   "outputs": [
    {
     "data": {
      "text/html": [
       "<div>\n",
       "<style scoped>\n",
       "    .dataframe tbody tr th:only-of-type {\n",
       "        vertical-align: middle;\n",
       "    }\n",
       "\n",
       "    .dataframe tbody tr th {\n",
       "        vertical-align: top;\n",
       "    }\n",
       "\n",
       "    .dataframe thead th {\n",
       "        text-align: right;\n",
       "    }\n",
       "</style>\n",
       "<table border=\"1\" class=\"dataframe\">\n",
       "  <thead>\n",
       "    <tr style=\"text-align: right;\">\n",
       "      <th></th>\n",
       "      <th>person_home_ownership</th>\n",
       "      <th>loan_intent</th>\n",
       "      <th>loan_grade</th>\n",
       "      <th>cb_person_default_on_file</th>\n",
       "      <th>person_age</th>\n",
       "      <th>person_income</th>\n",
       "      <th>person_emp_length</th>\n",
       "      <th>loan_int_rate</th>\n",
       "      <th>loan_percent_income</th>\n",
       "      <th>cb_person_cred_hist_length</th>\n",
       "      <th>loan_amnt</th>\n",
       "    </tr>\n",
       "  </thead>\n",
       "  <tbody>\n",
       "    <tr>\n",
       "      <th>2818</th>\n",
       "      <td>RENT</td>\n",
       "      <td>PERSONAL</td>\n",
       "      <td>B</td>\n",
       "      <td>N</td>\n",
       "      <td>25</td>\n",
       "      <td>56000</td>\n",
       "      <td>2.0</td>\n",
       "      <td>12.69</td>\n",
       "      <td>0.05</td>\n",
       "      <td>3</td>\n",
       "      <td>3000</td>\n",
       "    </tr>\n",
       "    <tr>\n",
       "      <th>31477</th>\n",
       "      <td>OWN</td>\n",
       "      <td>HOMEIMPROVEMENT</td>\n",
       "      <td>C</td>\n",
       "      <td>Y</td>\n",
       "      <td>38</td>\n",
       "      <td>26400</td>\n",
       "      <td>NaN</td>\n",
       "      <td>12.73</td>\n",
       "      <td>0.18</td>\n",
       "      <td>14</td>\n",
       "      <td>4750</td>\n",
       "    </tr>\n",
       "    <tr>\n",
       "      <th>15988</th>\n",
       "      <td>MORTGAGE</td>\n",
       "      <td>EDUCATION</td>\n",
       "      <td>B</td>\n",
       "      <td>N</td>\n",
       "      <td>21</td>\n",
       "      <td>35000</td>\n",
       "      <td>5.0</td>\n",
       "      <td>9.63</td>\n",
       "      <td>0.04</td>\n",
       "      <td>2</td>\n",
       "      <td>1500</td>\n",
       "    </tr>\n",
       "    <tr>\n",
       "      <th>1884</th>\n",
       "      <td>MORTGAGE</td>\n",
       "      <td>VENTURE</td>\n",
       "      <td>A</td>\n",
       "      <td>N</td>\n",
       "      <td>23</td>\n",
       "      <td>30000</td>\n",
       "      <td>8.0</td>\n",
       "      <td>6.62</td>\n",
       "      <td>0.15</td>\n",
       "      <td>2</td>\n",
       "      <td>4375</td>\n",
       "    </tr>\n",
       "    <tr>\n",
       "      <th>31498</th>\n",
       "      <td>MORTGAGE</td>\n",
       "      <td>PERSONAL</td>\n",
       "      <td>B</td>\n",
       "      <td>N</td>\n",
       "      <td>40</td>\n",
       "      <td>120000</td>\n",
       "      <td>6.0</td>\n",
       "      <td>10.59</td>\n",
       "      <td>0.08</td>\n",
       "      <td>14</td>\n",
       "      <td>9600</td>\n",
       "    </tr>\n",
       "  </tbody>\n",
       "</table>\n",
       "</div>"
      ],
      "text/plain": [
       "      person_home_ownership      loan_intent loan_grade  \\\n",
       "2818                   RENT         PERSONAL          B   \n",
       "31477                   OWN  HOMEIMPROVEMENT          C   \n",
       "15988              MORTGAGE        EDUCATION          B   \n",
       "1884               MORTGAGE          VENTURE          A   \n",
       "31498              MORTGAGE         PERSONAL          B   \n",
       "\n",
       "      cb_person_default_on_file  person_age  person_income  person_emp_length  \\\n",
       "2818                          N          25          56000                2.0   \n",
       "31477                         Y          38          26400                NaN   \n",
       "15988                         N          21          35000                5.0   \n",
       "1884                          N          23          30000                8.0   \n",
       "31498                         N          40         120000                6.0   \n",
       "\n",
       "       loan_int_rate  loan_percent_income  cb_person_cred_hist_length  \\\n",
       "2818           12.69                 0.05                           3   \n",
       "31477          12.73                 0.18                          14   \n",
       "15988           9.63                 0.04                           2   \n",
       "1884            6.62                 0.15                           2   \n",
       "31498          10.59                 0.08                          14   \n",
       "\n",
       "       loan_amnt  \n",
       "2818        3000  \n",
       "31477       4750  \n",
       "15988       1500  \n",
       "1884        4375  \n",
       "31498       9600  "
      ]
     },
     "execution_count": 128,
     "metadata": {},
     "output_type": "execute_result"
    }
   ],
   "source": [
    "train_set_x[all_columns].head()"
   ]
  },
  {
   "cell_type": "code",
   "execution_count": null,
   "metadata": {},
   "outputs": [],
   "source": []
  },
  {
   "cell_type": "code",
   "execution_count": 129,
   "metadata": {
    "execution": {
     "iopub.execute_input": "2021-09-20T02:53:39.254564Z",
     "iopub.status.busy": "2021-09-20T02:53:39.253698Z",
     "iopub.status.idle": "2021-09-20T02:53:40.872110Z",
     "shell.execute_reply": "2021-09-20T02:53:40.871307Z",
     "shell.execute_reply.started": "2021-09-20T02:53:39.254526Z"
    }
   },
   "outputs": [
    {
     "name": "stdout",
     "output_type": "stream",
     "text": [
      "[09:53:39] WARNING: /Users/travis/build/dmlc/xgboost/src/learner.cc:1095: Starting in XGBoost 1.3.0, the default evaluation metric used with the objective 'binary:logistic' was changed from 'error' to 'logloss'. Explicitly set eval_metric if you'd like to restore the old behavior.\n"
     ]
    },
    {
     "data": {
      "text/plain": [
       "Pipeline(steps=[('preprocess',\n",
       "                 ColumnTransformer(remainder='passthrough',\n",
       "                                   transformers=[('cat',\n",
       "                                                  Pipeline(steps=[('WoeCat',\n",
       "                                                                   WoECat(feature_name=['person_home_ownership',\n",
       "                                                                                        'loan_intent',\n",
       "                                                                                        'loan_grade',\n",
       "                                                                                        'cb_person_default_on_file']))]),\n",
       "                                                  ['person_home_ownership',\n",
       "                                                   'loan_intent', 'loan_grade',\n",
       "                                                   'cb_person_default_on_file']),\n",
       "                                                 ('num',\n",
       "                                                  Pipeline(steps=[('WoeNum',\n",
       "                                                                   WoENom())])...\n",
       "                               importance_type='gain',\n",
       "                               interaction_constraints='',\n",
       "                               learning_rate=0.300000012, max_delta_step=0,\n",
       "                               max_depth=6, min_child_weight=1, missing=nan,\n",
       "                               monotone_constraints='()', n_estimators=100,\n",
       "                               n_jobs=4, nthread=-1, num_parallel_tree=1,\n",
       "                               random_state=0, reg_alpha=0, reg_lambda=1,\n",
       "                               scale_pos_weight=1, subsample=1,\n",
       "                               tree_method='exact', validate_parameters=1,\n",
       "                               verbosity=None))])"
      ]
     },
     "execution_count": 129,
     "metadata": {},
     "output_type": "execute_result"
    }
   ],
   "source": [
    "full_pipe.fit(train_set_x[all_columns], train_set_y)"
   ]
  },
  {
   "cell_type": "code",
   "execution_count": null,
   "metadata": {},
   "outputs": [],
   "source": []
  },
  {
   "cell_type": "code",
   "execution_count": 130,
   "metadata": {
    "execution": {
     "iopub.execute_input": "2021-09-20T02:53:40.874618Z",
     "iopub.status.busy": "2021-09-20T02:53:40.874269Z",
     "iopub.status.idle": "2021-09-20T02:53:40.880913Z",
     "shell.execute_reply": "2021-09-20T02:53:40.879777Z",
     "shell.execute_reply.started": "2021-09-20T02:53:40.874587Z"
    }
   },
   "outputs": [],
   "source": [
    "param = {\n",
    "    \"model__n_estimators\":[1000],\n",
    "    \"model__max_depth\":[10],\n",
    "    \"model__learning_rate\":[0.01],\n",
    "    \"model__gamma\":[5],\n",
    "    \"model__min_child_weight\":[3],\n",
    "    \"model__subsample\":[0.5],\n",
    "    \"model__random_state\":[64],\n",
    "    \"model__eval_metric\":['logloss']\n",
    "}\n",
    "clf = GridSearchCV(full_pipe, \n",
    "                   param, \n",
    "                   scoring='roc_auc', \n",
    "                   cv=5, \n",
    "                   refit=True)"
   ]
  },
  {
   "cell_type": "code",
   "execution_count": 131,
   "metadata": {
    "execution": {
     "iopub.execute_input": "2021-09-20T02:53:40.883026Z",
     "iopub.status.busy": "2021-09-20T02:53:40.882104Z",
     "iopub.status.idle": "2021-09-20T02:55:13.250191Z",
     "shell.execute_reply": "2021-09-20T02:55:13.249572Z",
     "shell.execute_reply.started": "2021-09-20T02:53:40.882986Z"
    }
   },
   "outputs": [
    {
     "data": {
      "text/plain": [
       "GridSearchCV(cv=5,\n",
       "             estimator=Pipeline(steps=[('preprocess',\n",
       "                                        ColumnTransformer(remainder='passthrough',\n",
       "                                                          transformers=[('cat',\n",
       "                                                                         Pipeline(steps=[('WoeCat',\n",
       "                                                                                          WoECat(feature_name=['person_home_ownership',\n",
       "                                                                                                               'loan_intent',\n",
       "                                                                                                               'loan_grade',\n",
       "                                                                                                               'cb_person_default_on_file']))]),\n",
       "                                                                         ['person_home_ownership',\n",
       "                                                                          'loan_intent',\n",
       "                                                                          'loan_grade',\n",
       "                                                                          'cb_person_default_on_file']),\n",
       "                                                                        ('num',\n",
       "                                                                         Pipeline(...\n",
       "                                                      reg_alpha=0, reg_lambda=1,\n",
       "                                                      scale_pos_weight=1,\n",
       "                                                      subsample=1,\n",
       "                                                      tree_method='exact',\n",
       "                                                      validate_parameters=1,\n",
       "                                                      verbosity=None))]),\n",
       "             param_grid={'model__eval_metric': ['logloss'], 'model__gamma': [5],\n",
       "                         'model__learning_rate': [0.01],\n",
       "                         'model__max_depth': [10],\n",
       "                         'model__min_child_weight': [3],\n",
       "                         'model__n_estimators': [1000],\n",
       "                         'model__random_state': [64],\n",
       "                         'model__subsample': [0.5]},\n",
       "             scoring='roc_auc')"
      ]
     },
     "execution_count": 131,
     "metadata": {},
     "output_type": "execute_result"
    }
   ],
   "source": [
    "clf.fit(train_set_x[all_columns], train_set_y)"
   ]
  },
  {
   "cell_type": "code",
   "execution_count": 132,
   "metadata": {
    "execution": {
     "iopub.execute_input": "2021-09-20T02:55:13.252031Z",
     "iopub.status.busy": "2021-09-20T02:55:13.251324Z",
     "iopub.status.idle": "2021-09-20T02:55:13.260554Z",
     "shell.execute_reply": "2021-09-20T02:55:13.259557Z",
     "shell.execute_reply.started": "2021-09-20T02:55:13.251989Z"
    }
   },
   "outputs": [
    {
     "data": {
      "text/plain": [
       "{'model__eval_metric': 'logloss',\n",
       " 'model__gamma': 5,\n",
       " 'model__learning_rate': 0.01,\n",
       " 'model__max_depth': 10,\n",
       " 'model__min_child_weight': 3,\n",
       " 'model__n_estimators': 1000,\n",
       " 'model__random_state': 64,\n",
       " 'model__subsample': 0.5}"
      ]
     },
     "execution_count": 132,
     "metadata": {},
     "output_type": "execute_result"
    }
   ],
   "source": [
    "clf.best_params_"
   ]
  },
  {
   "cell_type": "code",
   "execution_count": 133,
   "metadata": {
    "execution": {
     "iopub.execute_input": "2021-09-20T02:55:13.262188Z",
     "iopub.status.busy": "2021-09-20T02:55:13.261763Z",
     "iopub.status.idle": "2021-09-20T02:55:13.272214Z",
     "shell.execute_reply": "2021-09-20T02:55:13.271347Z",
     "shell.execute_reply.started": "2021-09-20T02:55:13.262156Z"
    }
   },
   "outputs": [
    {
     "data": {
      "text/plain": [
       "XGBClassifier(base_score=0.5, booster='gbtree', colsample_bylevel=1,\n",
       "              colsample_bynode=1, colsample_bytree=1, eval_metric='logloss',\n",
       "              gamma=5, gpu_id=-1, importance_type='gain',\n",
       "              interaction_constraints='', learning_rate=0.01, max_delta_step=0,\n",
       "              max_depth=10, min_child_weight=3, missing=nan,\n",
       "              monotone_constraints='()', n_estimators=1000, n_jobs=4,\n",
       "              nthread=-1, num_parallel_tree=1, random_state=64, reg_alpha=0,\n",
       "              reg_lambda=1, scale_pos_weight=1, subsample=0.5,\n",
       "              tree_method='exact', validate_parameters=1, verbosity=None)"
      ]
     },
     "execution_count": 133,
     "metadata": {},
     "output_type": "execute_result"
    }
   ],
   "source": [
    "clf.best_estimator_.named_steps['model']"
   ]
  },
  {
   "cell_type": "code",
   "execution_count": 134,
   "metadata": {
    "execution": {
     "iopub.execute_input": "2021-09-20T02:55:13.273908Z",
     "iopub.status.busy": "2021-09-20T02:55:13.273442Z",
     "iopub.status.idle": "2021-09-20T02:55:13.932970Z",
     "shell.execute_reply": "2021-09-20T02:55:13.932184Z",
     "shell.execute_reply.started": "2021-09-20T02:55:13.273873Z"
    }
   },
   "outputs": [],
   "source": [
    "yhat_test = clf.predict(valid_x[all_columns])\n",
    "yhat_train = clf.predict(train_set_x[all_columns])"
   ]
  },
  {
   "cell_type": "code",
   "execution_count": 135,
   "metadata": {
    "execution": {
     "iopub.execute_input": "2021-09-20T02:55:13.936110Z",
     "iopub.status.busy": "2021-09-20T02:55:13.935236Z",
     "iopub.status.idle": "2021-09-20T02:55:14.026519Z",
     "shell.execute_reply": "2021-09-20T02:55:14.025439Z",
     "shell.execute_reply.started": "2021-09-20T02:55:13.936065Z"
    }
   },
   "outputs": [
    {
     "name": "stdout",
     "output_type": "stream",
     "text": [
      "Test set evaluation:\n",
      "_____________________________________\n",
      "Accuracy: 0.9384763741562199\n",
      "AUC: 0.8657556389466862\n",
      "__________________________________\n",
      "              precision    recall  f1-score   support\n",
      "\n",
      "           0       0.93      0.99      0.96      4056\n",
      "           1       0.97      0.74      0.84      1129\n",
      "\n",
      "    accuracy                           0.94      5185\n",
      "   macro avg       0.95      0.87      0.90      5185\n",
      "weighted avg       0.94      0.94      0.94      5185\n",
      "\n",
      "Train set evaluation:\n",
      "_____________________________________\n",
      "Accuracy: 0.9412700708809489\n",
      "AUC: 0.8698162852143217\n",
      "__________________________________\n",
      "              precision    recall  f1-score   support\n",
      "\n",
      "           0       0.93      1.00      0.96     16188\n",
      "           1       0.99      0.74      0.85      4551\n",
      "\n",
      "    accuracy                           0.94     20739\n",
      "   macro avg       0.96      0.87      0.91     20739\n",
      "weighted avg       0.94      0.94      0.94     20739\n",
      "\n"
     ]
    }
   ],
   "source": [
    "print('Test set evaluation:\\n_____________________________________')\n",
    "print_evaluate(valid_y, yhat_test)\n",
    "print(classification_report(valid_y, \n",
    "                            yhat_test))\n",
    "print('Train set evaluation:\\n_____________________________________')\n",
    "print_evaluate(train_set_y, yhat_train)\n",
    "print(classification_report(train_set_y, \n",
    "                            yhat_train))"
   ]
  },
  {
   "cell_type": "code",
   "execution_count": 136,
   "metadata": {
    "execution": {
     "iopub.execute_input": "2021-09-20T02:55:14.028256Z",
     "iopub.status.busy": "2021-09-20T02:55:14.027777Z",
     "iopub.status.idle": "2021-09-20T02:55:14.068101Z",
     "shell.execute_reply": "2021-09-20T02:55:14.067008Z",
     "shell.execute_reply.started": "2021-09-20T02:55:14.028220Z"
    }
   },
   "outputs": [
    {
     "data": {
      "text/html": [
       "<div>\n",
       "<style scoped>\n",
       "    .dataframe tbody tr th:only-of-type {\n",
       "        vertical-align: middle;\n",
       "    }\n",
       "\n",
       "    .dataframe tbody tr th {\n",
       "        vertical-align: top;\n",
       "    }\n",
       "\n",
       "    .dataframe thead th {\n",
       "        text-align: right;\n",
       "    }\n",
       "</style>\n",
       "<table border=\"1\" class=\"dataframe\">\n",
       "  <thead>\n",
       "    <tr style=\"text-align: right;\">\n",
       "      <th></th>\n",
       "      <th>person_age</th>\n",
       "      <th>person_income</th>\n",
       "      <th>person_emp_length</th>\n",
       "      <th>loan_int_rate</th>\n",
       "      <th>loan_percent_income</th>\n",
       "      <th>cb_person_cred_hist_length</th>\n",
       "      <th>loan_amnt</th>\n",
       "      <th>person_home_ownership</th>\n",
       "      <th>loan_intent</th>\n",
       "      <th>loan_grade</th>\n",
       "      <th>cb_person_default_on_file</th>\n",
       "      <th>loan status</th>\n",
       "      <th>score_proba</th>\n",
       "    </tr>\n",
       "  </thead>\n",
       "  <tbody>\n",
       "    <tr>\n",
       "      <th>25904</th>\n",
       "      <td>29</td>\n",
       "      <td>95000</td>\n",
       "      <td>4.0</td>\n",
       "      <td>13.72</td>\n",
       "      <td>0.03</td>\n",
       "      <td>9</td>\n",
       "      <td>2400</td>\n",
       "      <td>MORTGAGE</td>\n",
       "      <td>DEBTCONSOLIDATION</td>\n",
       "      <td>C</td>\n",
       "      <td>N</td>\n",
       "      <td>0</td>\n",
       "      <td>0.059884</td>\n",
       "    </tr>\n",
       "    <tr>\n",
       "      <th>3840</th>\n",
       "      <td>25</td>\n",
       "      <td>34200</td>\n",
       "      <td>1.0</td>\n",
       "      <td>NaN</td>\n",
       "      <td>0.12</td>\n",
       "      <td>2</td>\n",
       "      <td>4000</td>\n",
       "      <td>RENT</td>\n",
       "      <td>EDUCATION</td>\n",
       "      <td>B</td>\n",
       "      <td>N</td>\n",
       "      <td>0</td>\n",
       "      <td>0.195565</td>\n",
       "    </tr>\n",
       "    <tr>\n",
       "      <th>10582</th>\n",
       "      <td>23</td>\n",
       "      <td>35000</td>\n",
       "      <td>3.0</td>\n",
       "      <td>13.22</td>\n",
       "      <td>0.29</td>\n",
       "      <td>2</td>\n",
       "      <td>10000</td>\n",
       "      <td>RENT</td>\n",
       "      <td>DEBTCONSOLIDATION</td>\n",
       "      <td>C</td>\n",
       "      <td>N</td>\n",
       "      <td>0</td>\n",
       "      <td>0.103034</td>\n",
       "    </tr>\n",
       "    <tr>\n",
       "      <th>17774</th>\n",
       "      <td>30</td>\n",
       "      <td>232050</td>\n",
       "      <td>14.0</td>\n",
       "      <td>17.93</td>\n",
       "      <td>0.09</td>\n",
       "      <td>9</td>\n",
       "      <td>25000</td>\n",
       "      <td>MORTGAGE</td>\n",
       "      <td>MEDICAL</td>\n",
       "      <td>E</td>\n",
       "      <td>Y</td>\n",
       "      <td>1</td>\n",
       "      <td>0.967412</td>\n",
       "    </tr>\n",
       "    <tr>\n",
       "      <th>29540</th>\n",
       "      <td>37</td>\n",
       "      <td>36000</td>\n",
       "      <td>5.0</td>\n",
       "      <td>6.03</td>\n",
       "      <td>0.33</td>\n",
       "      <td>13</td>\n",
       "      <td>12000</td>\n",
       "      <td>MORTGAGE</td>\n",
       "      <td>DEBTCONSOLIDATION</td>\n",
       "      <td>A</td>\n",
       "      <td>N</td>\n",
       "      <td>0</td>\n",
       "      <td>0.034016</td>\n",
       "    </tr>\n",
       "    <tr>\n",
       "      <th>...</th>\n",
       "      <td>...</td>\n",
       "      <td>...</td>\n",
       "      <td>...</td>\n",
       "      <td>...</td>\n",
       "      <td>...</td>\n",
       "      <td>...</td>\n",
       "      <td>...</td>\n",
       "      <td>...</td>\n",
       "      <td>...</td>\n",
       "      <td>...</td>\n",
       "      <td>...</td>\n",
       "      <td>...</td>\n",
       "      <td>...</td>\n",
       "    </tr>\n",
       "    <tr>\n",
       "      <th>22899</th>\n",
       "      <td>31</td>\n",
       "      <td>60000</td>\n",
       "      <td>5.0</td>\n",
       "      <td>10.99</td>\n",
       "      <td>0.11</td>\n",
       "      <td>5</td>\n",
       "      <td>6500</td>\n",
       "      <td>MORTGAGE</td>\n",
       "      <td>HOMEIMPROVEMENT</td>\n",
       "      <td>B</td>\n",
       "      <td>N</td>\n",
       "      <td>0</td>\n",
       "      <td>0.041205</td>\n",
       "    </tr>\n",
       "    <tr>\n",
       "      <th>19126</th>\n",
       "      <td>27</td>\n",
       "      <td>22708</td>\n",
       "      <td>6.0</td>\n",
       "      <td>14.84</td>\n",
       "      <td>0.11</td>\n",
       "      <td>8</td>\n",
       "      <td>2500</td>\n",
       "      <td>RENT</td>\n",
       "      <td>VENTURE</td>\n",
       "      <td>D</td>\n",
       "      <td>Y</td>\n",
       "      <td>0</td>\n",
       "      <td>0.140084</td>\n",
       "    </tr>\n",
       "    <tr>\n",
       "      <th>7335</th>\n",
       "      <td>22</td>\n",
       "      <td>46500</td>\n",
       "      <td>0.0</td>\n",
       "      <td>12.69</td>\n",
       "      <td>0.20</td>\n",
       "      <td>4</td>\n",
       "      <td>9500</td>\n",
       "      <td>MORTGAGE</td>\n",
       "      <td>DEBTCONSOLIDATION</td>\n",
       "      <td>B</td>\n",
       "      <td>N</td>\n",
       "      <td>0</td>\n",
       "      <td>0.091495</td>\n",
       "    </tr>\n",
       "    <tr>\n",
       "      <th>18650</th>\n",
       "      <td>33</td>\n",
       "      <td>48000</td>\n",
       "      <td>4.0</td>\n",
       "      <td>9.99</td>\n",
       "      <td>0.02</td>\n",
       "      <td>10</td>\n",
       "      <td>1000</td>\n",
       "      <td>RENT</td>\n",
       "      <td>MEDICAL</td>\n",
       "      <td>B</td>\n",
       "      <td>N</td>\n",
       "      <td>0</td>\n",
       "      <td>0.055483</td>\n",
       "    </tr>\n",
       "    <tr>\n",
       "      <th>4144</th>\n",
       "      <td>23</td>\n",
       "      <td>40000</td>\n",
       "      <td>7.0</td>\n",
       "      <td>9.99</td>\n",
       "      <td>0.33</td>\n",
       "      <td>3</td>\n",
       "      <td>13000</td>\n",
       "      <td>MORTGAGE</td>\n",
       "      <td>VENTURE</td>\n",
       "      <td>B</td>\n",
       "      <td>N</td>\n",
       "      <td>0</td>\n",
       "      <td>0.017879</td>\n",
       "    </tr>\n",
       "  </tbody>\n",
       "</table>\n",
       "<p>5185 rows × 13 columns</p>\n",
       "</div>"
      ],
      "text/plain": [
       "       person_age  person_income  person_emp_length  loan_int_rate  \\\n",
       "25904          29          95000                4.0          13.72   \n",
       "3840           25          34200                1.0            NaN   \n",
       "10582          23          35000                3.0          13.22   \n",
       "17774          30         232050               14.0          17.93   \n",
       "29540          37          36000                5.0           6.03   \n",
       "...           ...            ...                ...            ...   \n",
       "22899          31          60000                5.0          10.99   \n",
       "19126          27          22708                6.0          14.84   \n",
       "7335           22          46500                0.0          12.69   \n",
       "18650          33          48000                4.0           9.99   \n",
       "4144           23          40000                7.0           9.99   \n",
       "\n",
       "       loan_percent_income  cb_person_cred_hist_length  loan_amnt  \\\n",
       "25904                 0.03                           9       2400   \n",
       "3840                  0.12                           2       4000   \n",
       "10582                 0.29                           2      10000   \n",
       "17774                 0.09                           9      25000   \n",
       "29540                 0.33                          13      12000   \n",
       "...                    ...                         ...        ...   \n",
       "22899                 0.11                           5       6500   \n",
       "19126                 0.11                           8       2500   \n",
       "7335                  0.20                           4       9500   \n",
       "18650                 0.02                          10       1000   \n",
       "4144                  0.33                           3      13000   \n",
       "\n",
       "      person_home_ownership        loan_intent loan_grade  \\\n",
       "25904              MORTGAGE  DEBTCONSOLIDATION          C   \n",
       "3840                   RENT          EDUCATION          B   \n",
       "10582                  RENT  DEBTCONSOLIDATION          C   \n",
       "17774              MORTGAGE            MEDICAL          E   \n",
       "29540              MORTGAGE  DEBTCONSOLIDATION          A   \n",
       "...                     ...                ...        ...   \n",
       "22899              MORTGAGE    HOMEIMPROVEMENT          B   \n",
       "19126                  RENT            VENTURE          D   \n",
       "7335               MORTGAGE  DEBTCONSOLIDATION          B   \n",
       "18650                  RENT            MEDICAL          B   \n",
       "4144               MORTGAGE            VENTURE          B   \n",
       "\n",
       "      cb_person_default_on_file  loan status  score_proba  \n",
       "25904                         N            0     0.059884  \n",
       "3840                          N            0     0.195565  \n",
       "10582                         N            0     0.103034  \n",
       "17774                         Y            1     0.967412  \n",
       "29540                         N            0     0.034016  \n",
       "...                         ...          ...          ...  \n",
       "22899                         N            0     0.041205  \n",
       "19126                         Y            0     0.140084  \n",
       "7335                          N            0     0.091495  \n",
       "18650                         N            0     0.055483  \n",
       "4144                          N            0     0.017879  \n",
       "\n",
       "[5185 rows x 13 columns]"
      ]
     },
     "execution_count": 136,
     "metadata": {},
     "output_type": "execute_result"
    }
   ],
   "source": [
    "proba_da"
   ]
  },
  {
   "cell_type": "code",
   "execution_count": 137,
   "metadata": {
    "execution": {
     "iopub.execute_input": "2021-09-20T02:55:14.070320Z",
     "iopub.status.busy": "2021-09-20T02:55:14.069369Z",
     "iopub.status.idle": "2021-09-20T02:55:14.081289Z",
     "shell.execute_reply": "2021-09-20T02:55:14.080497Z",
     "shell.execute_reply.started": "2021-09-20T02:55:14.070279Z"
    }
   },
   "outputs": [
    {
     "data": {
      "text/plain": [
       "[{'person_home_ownership': 'MORTGAGE',\n",
       "  'loan_intent': 'DEBTCONSOLIDATION',\n",
       "  'loan_grade': 'C',\n",
       "  'cb_person_default_on_file': 'N',\n",
       "  'person_age': 29,\n",
       "  'person_income': 95000,\n",
       "  'person_emp_length': 4.0,\n",
       "  'loan_int_rate': 13.72,\n",
       "  'loan_percent_income': 0.03,\n",
       "  'cb_person_cred_hist_length': 9,\n",
       "  'loan_amnt': 2400}]"
      ]
     },
     "execution_count": 137,
     "metadata": {},
     "output_type": "execute_result"
    }
   ],
   "source": [
    "proba_da[all_columns].head(1).to_dict(orient='records')"
   ]
  },
  {
   "cell_type": "code",
   "execution_count": null,
   "metadata": {},
   "outputs": [],
   "source": []
  },
  {
   "cell_type": "markdown",
   "metadata": {
    "execution": {
     "iopub.execute_input": "2021-09-19T08:33:25.597257Z",
     "iopub.status.busy": "2021-09-19T08:33:25.596972Z",
     "iopub.status.idle": "2021-09-19T08:33:25.601970Z",
     "shell.execute_reply": "2021-09-19T08:33:25.600187Z",
     "shell.execute_reply.started": "2021-09-19T08:33:25.597231Z"
    }
   },
   "source": [
    "## Save Your Model"
   ]
  },
  {
   "cell_type": "code",
   "execution_count": 138,
   "metadata": {
    "execution": {
     "iopub.execute_input": "2021-09-20T02:55:14.083968Z",
     "iopub.status.busy": "2021-09-20T02:55:14.082570Z",
     "iopub.status.idle": "2021-09-20T02:55:14.779660Z",
     "shell.execute_reply": "2021-09-20T02:55:14.778780Z",
     "shell.execute_reply.started": "2021-09-20T02:55:14.083845Z"
    }
   },
   "outputs": [],
   "source": [
    "import pickle \n",
    "\n",
    "\n",
    "MODELNAME = 'M-XGB-1.0.0.pkl'\n",
    "PREPROCESSNAME = 'FE-WOE-1.0.0.pkl'\n",
    "\n",
    "final_model = clf.best_estimator_.named_steps['model']\n",
    "final_pipe = clf.best_estimator_.named_steps['preprocess']\n",
    "\n",
    "with open(MODELNAME, 'wb') as f: # save model\n",
    "    pickle.dump(final_model, f)\n",
    "    \n",
    "with open(PREPROCESSNAME, 'wb') as f: # save pipeline\n",
    "    pickle.dump(final_pipe, f)"
   ]
  },
  {
   "cell_type": "code",
   "execution_count": 139,
   "metadata": {
    "execution": {
     "iopub.execute_input": "2021-09-20T02:55:14.781221Z",
     "iopub.status.busy": "2021-09-20T02:55:14.780974Z",
     "iopub.status.idle": "2021-09-20T02:55:14.804944Z",
     "shell.execute_reply": "2021-09-20T02:55:14.804223Z",
     "shell.execute_reply.started": "2021-09-20T02:55:14.781196Z"
    }
   },
   "outputs": [
    {
     "data": {
      "text/html": [
       "<div>\n",
       "<style scoped>\n",
       "    .dataframe tbody tr th:only-of-type {\n",
       "        vertical-align: middle;\n",
       "    }\n",
       "\n",
       "    .dataframe tbody tr th {\n",
       "        vertical-align: top;\n",
       "    }\n",
       "\n",
       "    .dataframe thead th {\n",
       "        text-align: right;\n",
       "    }\n",
       "</style>\n",
       "<table border=\"1\" class=\"dataframe\">\n",
       "  <thead>\n",
       "    <tr style=\"text-align: right;\">\n",
       "      <th></th>\n",
       "      <th>mean_fit_time</th>\n",
       "      <th>std_fit_time</th>\n",
       "      <th>mean_score_time</th>\n",
       "      <th>std_score_time</th>\n",
       "      <th>param_model__eval_metric</th>\n",
       "      <th>param_model__gamma</th>\n",
       "      <th>param_model__learning_rate</th>\n",
       "      <th>param_model__max_depth</th>\n",
       "      <th>param_model__min_child_weight</th>\n",
       "      <th>param_model__n_estimators</th>\n",
       "      <th>param_model__random_state</th>\n",
       "      <th>param_model__subsample</th>\n",
       "      <th>params</th>\n",
       "      <th>split0_test_score</th>\n",
       "      <th>split1_test_score</th>\n",
       "      <th>split2_test_score</th>\n",
       "      <th>split3_test_score</th>\n",
       "      <th>split4_test_score</th>\n",
       "      <th>mean_test_score</th>\n",
       "      <th>std_test_score</th>\n",
       "      <th>rank_test_score</th>\n",
       "    </tr>\n",
       "  </thead>\n",
       "  <tbody>\n",
       "    <tr>\n",
       "      <th>0</th>\n",
       "      <td>14.853506</td>\n",
       "      <td>1.009458</td>\n",
       "      <td>0.071188</td>\n",
       "      <td>0.00189</td>\n",
       "      <td>logloss</td>\n",
       "      <td>5</td>\n",
       "      <td>0.01</td>\n",
       "      <td>10</td>\n",
       "      <td>3</td>\n",
       "      <td>1000</td>\n",
       "      <td>64</td>\n",
       "      <td>0.5</td>\n",
       "      <td>{'model__eval_metric': 'logloss', 'model__gamm...</td>\n",
       "      <td>0.936265</td>\n",
       "      <td>0.947685</td>\n",
       "      <td>0.947953</td>\n",
       "      <td>0.939244</td>\n",
       "      <td>0.945102</td>\n",
       "      <td>0.94325</td>\n",
       "      <td>0.004692</td>\n",
       "      <td>1</td>\n",
       "    </tr>\n",
       "  </tbody>\n",
       "</table>\n",
       "</div>"
      ],
      "text/plain": [
       "   mean_fit_time  std_fit_time  mean_score_time  std_score_time  \\\n",
       "0      14.853506      1.009458         0.071188         0.00189   \n",
       "\n",
       "  param_model__eval_metric param_model__gamma param_model__learning_rate  \\\n",
       "0                  logloss                  5                       0.01   \n",
       "\n",
       "  param_model__max_depth param_model__min_child_weight  \\\n",
       "0                     10                             3   \n",
       "\n",
       "  param_model__n_estimators param_model__random_state param_model__subsample  \\\n",
       "0                      1000                        64                    0.5   \n",
       "\n",
       "                                              params  split0_test_score  \\\n",
       "0  {'model__eval_metric': 'logloss', 'model__gamm...           0.936265   \n",
       "\n",
       "   split1_test_score  split2_test_score  split3_test_score  split4_test_score  \\\n",
       "0           0.947685           0.947953           0.939244           0.945102   \n",
       "\n",
       "   mean_test_score  std_test_score  rank_test_score  \n",
       "0          0.94325        0.004692                1  "
      ]
     },
     "execution_count": 139,
     "metadata": {},
     "output_type": "execute_result"
    }
   ],
   "source": [
    "pd.DataFrame(clf.cv_results_)"
   ]
  },
  {
   "cell_type": "code",
   "execution_count": null,
   "metadata": {},
   "outputs": [],
   "source": []
  }
 ],
 "metadata": {
  "kernelspec": {
   "display_name": "Excercise",
   "language": "python",
   "name": "deploy"
  },
  "language_info": {
   "codemirror_mode": {
    "name": "ipython",
    "version": 3
   },
   "file_extension": ".py",
   "mimetype": "text/x-python",
   "name": "python",
   "nbconvert_exporter": "python",
   "pygments_lexer": "ipython3",
   "version": "3.9.7"
  },
  "toc-autonumbering": false,
  "toc-showmarkdowntxt": true
 },
 "nbformat": 4,
 "nbformat_minor": 5
}
